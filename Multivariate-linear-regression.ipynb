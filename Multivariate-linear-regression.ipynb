{
  "nbformat": 4,
  "nbformat_minor": 0,
  "metadata": {
    "colab": {
      "name": "LAB06_610510781.ipynb",
      "provenance": [],
      "collapsed_sections": [],
      "include_colab_link": true
    },
    "kernelspec": {
      "name": "python3",
      "display_name": "Python 3"
    }
  },
  "cells": [
    {
      "cell_type": "markdown",
      "metadata": {
        "id": "view-in-github",
        "colab_type": "text"
      },
      "source": [
        "<a href=\"https://colab.research.google.com/github/prxrwx/Stat-learning-for-datasci/blob/main/Multivariate-linear-regression.ipynb\" target=\"_parent\"><img src=\"https://colab.research.google.com/assets/colab-badge.svg\" alt=\"Open In Colab\"/></a>"
      ]
    },
    {
      "cell_type": "code",
      "metadata": {
        "id": "ntO6KNB7A24q",
        "colab": {
          "base_uri": "https://localhost:8080/"
        },
        "outputId": "ae892a00-9066-4e5c-f4d4-f62c87caa19c"
      },
      "source": [
        "# uploading the csv file to colab\n",
        "!wget http://www.donlapark.cmustat.com/229351/data/Auto.csv"
      ],
      "execution_count": null,
      "outputs": [
        {
          "output_type": "stream",
          "name": "stdout",
          "text": [
            "--2021-12-20 04:52:00--  http://www.donlapark.cmustat.com/229351/data/Auto.csv\n",
            "Resolving www.donlapark.cmustat.com (www.donlapark.cmustat.com)... 150.107.31.67\n",
            "Connecting to www.donlapark.cmustat.com (www.donlapark.cmustat.com)|150.107.31.67|:80... connected.\n",
            "HTTP request sent, awaiting response... 200 OK\n",
            "Length: 18079 (18K) [text/csv]\n",
            "Saving to: ‘Auto.csv.1’\n",
            "\n",
            "Auto.csv.1          100%[===================>]  17.66K  74.8KB/s    in 0.2s    \n",
            "\n",
            "2021-12-20 04:52:01 (74.8 KB/s) - ‘Auto.csv.1’ saved [18079/18079]\n",
            "\n"
          ]
        }
      ]
    },
    {
      "cell_type": "code",
      "metadata": {
        "id": "5Tebr3-dBKxj"
      },
      "source": [
        "# import module\n",
        "import numpy as np\n",
        "import pandas as pd\n",
        "from scipy import stats"
      ],
      "execution_count": null,
      "outputs": []
    },
    {
      "cell_type": "code",
      "metadata": {
        "id": "O_4Mr2OWaAae",
        "colab": {
          "base_uri": "https://localhost:8080/",
          "height": 392
        },
        "outputId": "b32c148a-dbc5-4261-b1d3-766c639e1fd2"
      },
      "source": [
        "# อ่านไฟล์ csv ก่อนเพื่อหา missing values\n",
        "auto_df = pd.read_csv('Auto.csv',na_values=[\"?\"])\n",
        "\n",
        "# ลบแถวที่มี missing values\n",
        "auto_df = auto_df.dropna()\n",
        "auto_df.head()"
      ],
      "execution_count": null,
      "outputs": [
        {
          "output_type": "execute_result",
          "data": {
            "text/html": [
              "\n",
              "  <div id=\"df-c486f0c3-3086-4746-8ecb-39d621049fde\">\n",
              "    <div class=\"colab-df-container\">\n",
              "      <div>\n",
              "<style scoped>\n",
              "    .dataframe tbody tr th:only-of-type {\n",
              "        vertical-align: middle;\n",
              "    }\n",
              "\n",
              "    .dataframe tbody tr th {\n",
              "        vertical-align: top;\n",
              "    }\n",
              "\n",
              "    .dataframe thead th {\n",
              "        text-align: right;\n",
              "    }\n",
              "</style>\n",
              "<table border=\"1\" class=\"dataframe\">\n",
              "  <thead>\n",
              "    <tr style=\"text-align: right;\">\n",
              "      <th></th>\n",
              "      <th>mpg</th>\n",
              "      <th>cylinders</th>\n",
              "      <th>displacement</th>\n",
              "      <th>horsepower</th>\n",
              "      <th>weight</th>\n",
              "      <th>acceleration</th>\n",
              "      <th>year</th>\n",
              "      <th>origin</th>\n",
              "      <th>name</th>\n",
              "    </tr>\n",
              "  </thead>\n",
              "  <tbody>\n",
              "    <tr>\n",
              "      <th>0</th>\n",
              "      <td>18.0</td>\n",
              "      <td>8</td>\n",
              "      <td>307.0</td>\n",
              "      <td>130.0</td>\n",
              "      <td>3504</td>\n",
              "      <td>12.0</td>\n",
              "      <td>70</td>\n",
              "      <td>1</td>\n",
              "      <td>chevrolet chevelle malibu</td>\n",
              "    </tr>\n",
              "    <tr>\n",
              "      <th>1</th>\n",
              "      <td>15.0</td>\n",
              "      <td>8</td>\n",
              "      <td>350.0</td>\n",
              "      <td>165.0</td>\n",
              "      <td>3693</td>\n",
              "      <td>11.5</td>\n",
              "      <td>70</td>\n",
              "      <td>1</td>\n",
              "      <td>buick skylark 320</td>\n",
              "    </tr>\n",
              "    <tr>\n",
              "      <th>2</th>\n",
              "      <td>18.0</td>\n",
              "      <td>8</td>\n",
              "      <td>318.0</td>\n",
              "      <td>150.0</td>\n",
              "      <td>3436</td>\n",
              "      <td>11.0</td>\n",
              "      <td>70</td>\n",
              "      <td>1</td>\n",
              "      <td>plymouth satellite</td>\n",
              "    </tr>\n",
              "    <tr>\n",
              "      <th>3</th>\n",
              "      <td>16.0</td>\n",
              "      <td>8</td>\n",
              "      <td>304.0</td>\n",
              "      <td>150.0</td>\n",
              "      <td>3433</td>\n",
              "      <td>12.0</td>\n",
              "      <td>70</td>\n",
              "      <td>1</td>\n",
              "      <td>amc rebel sst</td>\n",
              "    </tr>\n",
              "    <tr>\n",
              "      <th>4</th>\n",
              "      <td>17.0</td>\n",
              "      <td>8</td>\n",
              "      <td>302.0</td>\n",
              "      <td>140.0</td>\n",
              "      <td>3449</td>\n",
              "      <td>10.5</td>\n",
              "      <td>70</td>\n",
              "      <td>1</td>\n",
              "      <td>ford torino</td>\n",
              "    </tr>\n",
              "  </tbody>\n",
              "</table>\n",
              "</div>\n",
              "      <button class=\"colab-df-convert\" onclick=\"convertToInteractive('df-c486f0c3-3086-4746-8ecb-39d621049fde')\"\n",
              "              title=\"Convert this dataframe to an interactive table.\"\n",
              "              style=\"display:none;\">\n",
              "        \n",
              "  <svg xmlns=\"http://www.w3.org/2000/svg\" height=\"24px\"viewBox=\"0 0 24 24\"\n",
              "       width=\"24px\">\n",
              "    <path d=\"M0 0h24v24H0V0z\" fill=\"none\"/>\n",
              "    <path d=\"M18.56 5.44l.94 2.06.94-2.06 2.06-.94-2.06-.94-.94-2.06-.94 2.06-2.06.94zm-11 1L8.5 8.5l.94-2.06 2.06-.94-2.06-.94L8.5 2.5l-.94 2.06-2.06.94zm10 10l.94 2.06.94-2.06 2.06-.94-2.06-.94-.94-2.06-.94 2.06-2.06.94z\"/><path d=\"M17.41 7.96l-1.37-1.37c-.4-.4-.92-.59-1.43-.59-.52 0-1.04.2-1.43.59L10.3 9.45l-7.72 7.72c-.78.78-.78 2.05 0 2.83L4 21.41c.39.39.9.59 1.41.59.51 0 1.02-.2 1.41-.59l7.78-7.78 2.81-2.81c.8-.78.8-2.07 0-2.86zM5.41 20L4 18.59l7.72-7.72 1.47 1.35L5.41 20z\"/>\n",
              "  </svg>\n",
              "      </button>\n",
              "      \n",
              "  <style>\n",
              "    .colab-df-container {\n",
              "      display:flex;\n",
              "      flex-wrap:wrap;\n",
              "      gap: 12px;\n",
              "    }\n",
              "\n",
              "    .colab-df-convert {\n",
              "      background-color: #E8F0FE;\n",
              "      border: none;\n",
              "      border-radius: 50%;\n",
              "      cursor: pointer;\n",
              "      display: none;\n",
              "      fill: #1967D2;\n",
              "      height: 32px;\n",
              "      padding: 0 0 0 0;\n",
              "      width: 32px;\n",
              "    }\n",
              "\n",
              "    .colab-df-convert:hover {\n",
              "      background-color: #E2EBFA;\n",
              "      box-shadow: 0px 1px 2px rgba(60, 64, 67, 0.3), 0px 1px 3px 1px rgba(60, 64, 67, 0.15);\n",
              "      fill: #174EA6;\n",
              "    }\n",
              "\n",
              "    [theme=dark] .colab-df-convert {\n",
              "      background-color: #3B4455;\n",
              "      fill: #D2E3FC;\n",
              "    }\n",
              "\n",
              "    [theme=dark] .colab-df-convert:hover {\n",
              "      background-color: #434B5C;\n",
              "      box-shadow: 0px 1px 3px 1px rgba(0, 0, 0, 0.15);\n",
              "      filter: drop-shadow(0px 1px 2px rgba(0, 0, 0, 0.3));\n",
              "      fill: #FFFFFF;\n",
              "    }\n",
              "  </style>\n",
              "\n",
              "      <script>\n",
              "        const buttonEl =\n",
              "          document.querySelector('#df-c486f0c3-3086-4746-8ecb-39d621049fde button.colab-df-convert');\n",
              "        buttonEl.style.display =\n",
              "          google.colab.kernel.accessAllowed ? 'block' : 'none';\n",
              "\n",
              "        async function convertToInteractive(key) {\n",
              "          const element = document.querySelector('#df-c486f0c3-3086-4746-8ecb-39d621049fde');\n",
              "          const dataTable =\n",
              "            await google.colab.kernel.invokeFunction('convertToInteractive',\n",
              "                                                     [key], {});\n",
              "          if (!dataTable) return;\n",
              "\n",
              "          const docLinkHtml = 'Like what you see? Visit the ' +\n",
              "            '<a target=\"_blank\" href=https://colab.research.google.com/notebooks/data_table.ipynb>data table notebook</a>'\n",
              "            + ' to learn more about interactive tables.';\n",
              "          element.innerHTML = '';\n",
              "          dataTable['output_type'] = 'display_data';\n",
              "          await google.colab.output.renderOutput(dataTable, element);\n",
              "          const docLink = document.createElement('div');\n",
              "          docLink.innerHTML = docLinkHtml;\n",
              "          element.appendChild(docLink);\n",
              "        }\n",
              "      </script>\n",
              "    </div>\n",
              "  </div>\n",
              "  "
            ],
            "text/plain": [
              "    mpg  cylinders  displacement  ...  year  origin                       name\n",
              "0  18.0          8         307.0  ...    70       1  chevrolet chevelle malibu\n",
              "1  15.0          8         350.0  ...    70       1          buick skylark 320\n",
              "2  18.0          8         318.0  ...    70       1         plymouth satellite\n",
              "3  16.0          8         304.0  ...    70       1              amc rebel sst\n",
              "4  17.0          8         302.0  ...    70       1                ford torino\n",
              "\n",
              "[5 rows x 9 columns]"
            ]
          },
          "metadata": {},
          "execution_count": 12
        }
      ]
    },
    {
      "cell_type": "markdown",
      "metadata": {
        "id": "es1_uN5S94_7"
      },
      "source": [
        "### ตัวแปรต่าง ๆ มีดังนี้\n",
        "mpg\n",
        "\n",
        "    miles per gallon\n",
        "cylinders\n",
        "\n",
        "    Number of cylinders between 4 and 8\n",
        "displacement\n",
        "\n",
        "    Engine displacement (cu. inches)\n",
        "horsepower\n",
        "\n",
        "    Engine horsepower\n",
        "weight\n",
        "\n",
        "    Vehicle weight (lbs.)\n",
        "acceleration\n",
        "\n",
        "    Time to accelerate from 0 to 60 mph (sec.)\n",
        "year\n",
        "\n",
        "    Model year (modulo 100)\n",
        "origin\n",
        "\n",
        "    Origin of car (1. American, 2. European, 3. Japanese)\n",
        "name\n",
        "\n",
        "    Vehicle name\n"
      ]
    },
    {
      "cell_type": "code",
      "metadata": {
        "id": "XlOmwZlvQXAR",
        "colab": {
          "base_uri": "https://localhost:8080/",
          "height": 206
        },
        "outputId": "3a26d8a7-f47b-4021-dcd7-3e85b204f381"
      },
      "source": [
        "auto_df = auto_df.drop(['name', 'origin'], axis=1)\n",
        "\n",
        "auto_df.head()"
      ],
      "execution_count": null,
      "outputs": [
        {
          "output_type": "execute_result",
          "data": {
            "text/html": [
              "\n",
              "  <div id=\"df-0ff675b8-b9db-48ea-a644-6a75d50642ad\">\n",
              "    <div class=\"colab-df-container\">\n",
              "      <div>\n",
              "<style scoped>\n",
              "    .dataframe tbody tr th:only-of-type {\n",
              "        vertical-align: middle;\n",
              "    }\n",
              "\n",
              "    .dataframe tbody tr th {\n",
              "        vertical-align: top;\n",
              "    }\n",
              "\n",
              "    .dataframe thead th {\n",
              "        text-align: right;\n",
              "    }\n",
              "</style>\n",
              "<table border=\"1\" class=\"dataframe\">\n",
              "  <thead>\n",
              "    <tr style=\"text-align: right;\">\n",
              "      <th></th>\n",
              "      <th>mpg</th>\n",
              "      <th>cylinders</th>\n",
              "      <th>displacement</th>\n",
              "      <th>horsepower</th>\n",
              "      <th>weight</th>\n",
              "      <th>acceleration</th>\n",
              "      <th>year</th>\n",
              "    </tr>\n",
              "  </thead>\n",
              "  <tbody>\n",
              "    <tr>\n",
              "      <th>0</th>\n",
              "      <td>18.0</td>\n",
              "      <td>8</td>\n",
              "      <td>307.0</td>\n",
              "      <td>130.0</td>\n",
              "      <td>3504</td>\n",
              "      <td>12.0</td>\n",
              "      <td>70</td>\n",
              "    </tr>\n",
              "    <tr>\n",
              "      <th>1</th>\n",
              "      <td>15.0</td>\n",
              "      <td>8</td>\n",
              "      <td>350.0</td>\n",
              "      <td>165.0</td>\n",
              "      <td>3693</td>\n",
              "      <td>11.5</td>\n",
              "      <td>70</td>\n",
              "    </tr>\n",
              "    <tr>\n",
              "      <th>2</th>\n",
              "      <td>18.0</td>\n",
              "      <td>8</td>\n",
              "      <td>318.0</td>\n",
              "      <td>150.0</td>\n",
              "      <td>3436</td>\n",
              "      <td>11.0</td>\n",
              "      <td>70</td>\n",
              "    </tr>\n",
              "    <tr>\n",
              "      <th>3</th>\n",
              "      <td>16.0</td>\n",
              "      <td>8</td>\n",
              "      <td>304.0</td>\n",
              "      <td>150.0</td>\n",
              "      <td>3433</td>\n",
              "      <td>12.0</td>\n",
              "      <td>70</td>\n",
              "    </tr>\n",
              "    <tr>\n",
              "      <th>4</th>\n",
              "      <td>17.0</td>\n",
              "      <td>8</td>\n",
              "      <td>302.0</td>\n",
              "      <td>140.0</td>\n",
              "      <td>3449</td>\n",
              "      <td>10.5</td>\n",
              "      <td>70</td>\n",
              "    </tr>\n",
              "  </tbody>\n",
              "</table>\n",
              "</div>\n",
              "      <button class=\"colab-df-convert\" onclick=\"convertToInteractive('df-0ff675b8-b9db-48ea-a644-6a75d50642ad')\"\n",
              "              title=\"Convert this dataframe to an interactive table.\"\n",
              "              style=\"display:none;\">\n",
              "        \n",
              "  <svg xmlns=\"http://www.w3.org/2000/svg\" height=\"24px\"viewBox=\"0 0 24 24\"\n",
              "       width=\"24px\">\n",
              "    <path d=\"M0 0h24v24H0V0z\" fill=\"none\"/>\n",
              "    <path d=\"M18.56 5.44l.94 2.06.94-2.06 2.06-.94-2.06-.94-.94-2.06-.94 2.06-2.06.94zm-11 1L8.5 8.5l.94-2.06 2.06-.94-2.06-.94L8.5 2.5l-.94 2.06-2.06.94zm10 10l.94 2.06.94-2.06 2.06-.94-2.06-.94-.94-2.06-.94 2.06-2.06.94z\"/><path d=\"M17.41 7.96l-1.37-1.37c-.4-.4-.92-.59-1.43-.59-.52 0-1.04.2-1.43.59L10.3 9.45l-7.72 7.72c-.78.78-.78 2.05 0 2.83L4 21.41c.39.39.9.59 1.41.59.51 0 1.02-.2 1.41-.59l7.78-7.78 2.81-2.81c.8-.78.8-2.07 0-2.86zM5.41 20L4 18.59l7.72-7.72 1.47 1.35L5.41 20z\"/>\n",
              "  </svg>\n",
              "      </button>\n",
              "      \n",
              "  <style>\n",
              "    .colab-df-container {\n",
              "      display:flex;\n",
              "      flex-wrap:wrap;\n",
              "      gap: 12px;\n",
              "    }\n",
              "\n",
              "    .colab-df-convert {\n",
              "      background-color: #E8F0FE;\n",
              "      border: none;\n",
              "      border-radius: 50%;\n",
              "      cursor: pointer;\n",
              "      display: none;\n",
              "      fill: #1967D2;\n",
              "      height: 32px;\n",
              "      padding: 0 0 0 0;\n",
              "      width: 32px;\n",
              "    }\n",
              "\n",
              "    .colab-df-convert:hover {\n",
              "      background-color: #E2EBFA;\n",
              "      box-shadow: 0px 1px 2px rgba(60, 64, 67, 0.3), 0px 1px 3px 1px rgba(60, 64, 67, 0.15);\n",
              "      fill: #174EA6;\n",
              "    }\n",
              "\n",
              "    [theme=dark] .colab-df-convert {\n",
              "      background-color: #3B4455;\n",
              "      fill: #D2E3FC;\n",
              "    }\n",
              "\n",
              "    [theme=dark] .colab-df-convert:hover {\n",
              "      background-color: #434B5C;\n",
              "      box-shadow: 0px 1px 3px 1px rgba(0, 0, 0, 0.15);\n",
              "      filter: drop-shadow(0px 1px 2px rgba(0, 0, 0, 0.3));\n",
              "      fill: #FFFFFF;\n",
              "    }\n",
              "  </style>\n",
              "\n",
              "      <script>\n",
              "        const buttonEl =\n",
              "          document.querySelector('#df-0ff675b8-b9db-48ea-a644-6a75d50642ad button.colab-df-convert');\n",
              "        buttonEl.style.display =\n",
              "          google.colab.kernel.accessAllowed ? 'block' : 'none';\n",
              "\n",
              "        async function convertToInteractive(key) {\n",
              "          const element = document.querySelector('#df-0ff675b8-b9db-48ea-a644-6a75d50642ad');\n",
              "          const dataTable =\n",
              "            await google.colab.kernel.invokeFunction('convertToInteractive',\n",
              "                                                     [key], {});\n",
              "          if (!dataTable) return;\n",
              "\n",
              "          const docLinkHtml = 'Like what you see? Visit the ' +\n",
              "            '<a target=\"_blank\" href=https://colab.research.google.com/notebooks/data_table.ipynb>data table notebook</a>'\n",
              "            + ' to learn more about interactive tables.';\n",
              "          element.innerHTML = '';\n",
              "          dataTable['output_type'] = 'display_data';\n",
              "          await google.colab.output.renderOutput(dataTable, element);\n",
              "          const docLink = document.createElement('div');\n",
              "          docLink.innerHTML = docLinkHtml;\n",
              "          element.appendChild(docLink);\n",
              "        }\n",
              "      </script>\n",
              "    </div>\n",
              "  </div>\n",
              "  "
            ],
            "text/plain": [
              "    mpg  cylinders  displacement  horsepower  weight  acceleration  year\n",
              "0  18.0          8         307.0       130.0    3504          12.0    70\n",
              "1  15.0          8         350.0       165.0    3693          11.5    70\n",
              "2  18.0          8         318.0       150.0    3436          11.0    70\n",
              "3  16.0          8         304.0       150.0    3433          12.0    70\n",
              "4  17.0          8         302.0       140.0    3449          10.5    70"
            ]
          },
          "metadata": {},
          "execution_count": 13
        }
      ]
    },
    {
      "cell_type": "markdown",
      "metadata": {
        "id": "Mo4ddcb7BZj4"
      },
      "source": [
        "## 1. Multivariate linear regression\n",
        "\n",
        "เปลี่ยน $\\texttt{dataframe}$ ให้เป็น numpy array ด้วย $\\texttt{dataframe.to_numpy()}$  \n",
        "\n",
        "1. Response: $\\texttt{y}$ เป็นคอลัมน์เวกเตอร์ของ $\\texttt{mpg}$\n",
        "2. Predictors: $\\texttt{X}$ เป็นเมทริกซ์ของตัวแปรที่เหลือ (ใช้ $\\texttt{auto_df.drop}$)\n"
      ]
    },
    {
      "cell_type": "code",
      "metadata": {
        "id": "6njJmujsAUNv"
      },
      "source": [
        "y = auto_df['mpg'].to_numpy()\n",
        "X = auto_df.drop(['mpg'], axis=1).to_numpy()"
      ],
      "execution_count": null,
      "outputs": []
    },
    {
      "cell_type": "markdown",
      "metadata": {
        "id": "H5CxnhqJEmUN"
      },
      "source": [
        "คอลัมน์แรกของ $\\texttt{X}$ ต้องเป็น $(1, 1, \\ldots ,1 )^T$ (จำนวนเลข 1 เท่ากับจำนวนแถวของ $\\texttt{X}$)  \n",
        "จงสร้างเวกเตอร์ที่มีแต่เลข 1 และมีความยาวที่เหมาะสมด้วยคำสั่งใดคำสั่งหนึ่งต่อไปนี้  \n",
        "1. $\\texttt{[1]*len}$  \n",
        "2. $\\texttt{np.ones(len)}$  "
      ]
    },
    {
      "cell_type": "code",
      "metadata": {
        "id": "zoO80UAEm6g5",
        "colab": {
          "base_uri": "https://localhost:8080/"
        },
        "outputId": "13499f53-7f84-41d3-e5a6-d5b266aa2df4"
      },
      "source": [
        "X.shape"
      ],
      "execution_count": null,
      "outputs": [
        {
          "output_type": "execute_result",
          "data": {
            "text/plain": [
              "(392, 6)"
            ]
          },
          "metadata": {},
          "execution_count": 18
        }
      ]
    },
    {
      "cell_type": "code",
      "metadata": {
        "id": "kD8uzgohDRIX"
      },
      "source": [
        "ones =  np.ones(auto_df.shape[0])\n",
        "\n",
        "# ใส่ ones ให้เป็นคอลัมน์แรกของ X\n",
        "X = np.c_[ones, X]"
      ],
      "execution_count": null,
      "outputs": []
    },
    {
      "cell_type": "code",
      "metadata": {
        "id": "yyk9EnXdD0ZU",
        "colab": {
          "base_uri": "https://localhost:8080/"
        },
        "outputId": "b7ec3620-400c-4bb1-9f9a-e7e2e25b478b"
      },
      "source": [
        "# เช็คคำตอบ\n",
        "print(X)"
      ],
      "execution_count": null,
      "outputs": [
        {
          "output_type": "stream",
          "name": "stdout",
          "text": [
            "[[1.000e+00 8.000e+00 3.070e+02 ... 3.504e+03 1.200e+01 7.000e+01]\n",
            " [1.000e+00 8.000e+00 3.500e+02 ... 3.693e+03 1.150e+01 7.000e+01]\n",
            " [1.000e+00 8.000e+00 3.180e+02 ... 3.436e+03 1.100e+01 7.000e+01]\n",
            " ...\n",
            " [1.000e+00 4.000e+00 1.350e+02 ... 2.295e+03 1.160e+01 8.200e+01]\n",
            " [1.000e+00 4.000e+00 1.200e+02 ... 2.625e+03 1.860e+01 8.200e+01]\n",
            " [1.000e+00 4.000e+00 1.190e+02 ... 2.720e+03 1.940e+01 8.200e+01]]\n"
          ]
        }
      ]
    },
    {
      "cell_type": "markdown",
      "metadata": {
        "id": "DntRinCFiSMx"
      },
      "source": [
        "1. Matrix multiplication $AB = \\texttt{A@B}$\n",
        "2. Transpose: $X^T = \\texttt{X.T}$\n",
        "3. Inverse: $X^{-1} = \\texttt{np.linalg.inv(X)}$\n",
        "\n",
        "จงหาเวกเตอร์ของสัมประสิทธิ์\n",
        "$$ \\hat{\\beta} = (X^TX)^{-1}X^Ty $$"
      ]
    },
    {
      "cell_type": "code",
      "metadata": {
        "id": "-gCRXKb8fkuH"
      },
      "source": [
        "# Let's start by implementing linear regression from scratch\n",
        "# using numpy linear algebra\n",
        "\n",
        "def linear_model(X, y):   \n",
        "    beta = (np.linalg.inv(X.T@X)) @ (X.T@y)\n",
        "    return beta \n",
        "\n",
        "def predict(X, beta):\n",
        "    return X@beta"
      ],
      "execution_count": null,
      "outputs": []
    },
    {
      "cell_type": "code",
      "source": [
        "beta = linear_model(X, y)\n",
        "y_pred = predict(X, beta)"
      ],
      "metadata": {
        "id": "YFiMKL2bNKcz"
      },
      "execution_count": null,
      "outputs": []
    },
    {
      "cell_type": "code",
      "metadata": {
        "id": "-QbEbw2lpYI-",
        "colab": {
          "base_uri": "https://localhost:8080/"
        },
        "outputId": "7c58f469-bc0d-4eb2-d638-90c5ab1db361"
      },
      "source": [
        "beta"
      ],
      "execution_count": null,
      "outputs": [
        {
          "output_type": "execute_result",
          "data": {
            "text/plain": [
              "array([-1.45352505e+01, -3.29859089e-01,  7.67843024e-03, -3.91355574e-04,\n",
              "       -6.79461791e-03,  8.52732469e-02,  7.53367180e-01])"
            ]
          },
          "metadata": {},
          "execution_count": 23
        }
      ]
    },
    {
      "cell_type": "markdown",
      "metadata": {
        "id": "L1UMYiD5q5bq"
      },
      "source": [
        "#### จงหา $n$ (จำนวนแถวของ $\\texttt{X}$) และ $p$ (จำนวนตัวแปร) ด้วย method $\\texttt{X.shape[...]}$"
      ]
    },
    {
      "cell_type": "code",
      "metadata": {
        "id": "_vthb9XCiYfo",
        "colab": {
          "base_uri": "https://localhost:8080/"
        },
        "outputId": "fde3a849-b799-4260-f280-d580f739bc9d"
      },
      "source": [
        "n = X.shape[0]\n",
        "\n",
        "p = X.shape[1]-1\n",
        "\n",
        "print('Number of observations: ',n)\n",
        "print('Number of variables: ',p)"
      ],
      "execution_count": null,
      "outputs": [
        {
          "output_type": "stream",
          "name": "stdout",
          "text": [
            "Number of observations:  392\n",
            "Number of variables:  6\n"
          ]
        }
      ]
    },
    {
      "cell_type": "markdown",
      "metadata": {
        "id": "wbRqP-L9qFRX"
      },
      "source": [
        "## 2. $F$-statistic\n",
        "\n",
        "####คำนวณ Total Sum of Squares (TSS)\n",
        "$$ \\text{TSS} = \\sum_{i=1}^n (y_i-\\bar{y})^2 $$\n"
      ]
    },
    {
      "cell_type": "code",
      "metadata": {
        "id": "pYAI-2fhqFvx"
      },
      "source": [
        "# Calculate Total Sum of Squares\n",
        "y_mean = y.mean()\n",
        "\n",
        "TSS =  np.sum(np.square(y-y.mean()))\n",
        "\n",
        "RSS = np.sum(np.square(y-y_pred))"
      ],
      "execution_count": null,
      "outputs": []
    },
    {
      "cell_type": "markdown",
      "metadata": {
        "id": "COSxovBLMkr8"
      },
      "source": [
        "คำนวณ $F$-statistic ด้วย\n",
        "$$F_{p,n-p-1} = \\frac{(\\text{TSS}-\\text{RSS})/p}{\\text{RSS}/(n-p-1)}$$\n",
        "หา $n$ และจำนวนของตัวแปร $p$ ด้วย $\\texttt{X.shape}[\\cdot]$"
      ]
    },
    {
      "cell_type": "code",
      "metadata": {
        "id": "m7qCrrgpPiy9",
        "colab": {
          "base_uri": "https://localhost:8080/"
        },
        "outputId": "73a580e3-112b-425a-ac93-a94d87e82e67"
      },
      "source": [
        "F = ((TSS-RSS)/p) / (RSS/(n-p-1))\n",
        "\n",
        "print(F)"
      ],
      "execution_count": null,
      "outputs": [
        {
          "output_type": "stream",
          "name": "stdout",
          "text": [
            "272.23409822574575\n"
          ]
        }
      ]
    },
    {
      "cell_type": "code",
      "metadata": {
        "id": "4OcMtqBPQI5V",
        "colab": {
          "base_uri": "https://localhost:8080/"
        },
        "outputId": "910585e7-a2e4-4c60-ef68-72c747bed200"
      },
      "source": [
        "#Compute p_value of the F-statistic\n",
        "\n",
        "p_value = stats.f.sf(F, p, n-p-1)\n",
        "\n",
        "print(p_value)"
      ],
      "execution_count": null,
      "outputs": [
        {
          "output_type": "stream",
          "name": "stdout",
          "text": [
            "3.792336100722869e-135\n"
          ]
        }
      ]
    },
    {
      "cell_type": "markdown",
      "metadata": {
        "id": "x5ymukiLQuTt"
      },
      "source": [
        "####คำถาม : จากค่า p-value ที่ได้ข้างบน เราสามารถสรุปอะไรได้\n",
        "\n",
        "\n"
      ]
    },
    {
      "cell_type": "markdown",
      "metadata": {
        "id": "fxz0W6YlRyTj"
      },
      "source": [
        "H0: $\\beta_1$ = $\\beta_2$ = ... = $\\beta_6$"
      ]
    },
    {
      "cell_type": "markdown",
      "source": [
        "H1: มี $\\beta_j$ อย่างน้อย 1 ตัว ไม่เท่ากับ 0 , j = 1, 2, 3, ..., 6"
      ],
      "metadata": {
        "id": "FizpPOzyT1fj"
      }
    },
    {
      "cell_type": "markdown",
      "source": [
        "จาก p-value = 0.000 < 0.05 ตกในอาณาเขตวิกฤต Reject H0 นั่นคือ ตัวแบบที่ได้มีความเหมาะสม ที่ระดับนัยสำคัญ 0.05"
      ],
      "metadata": {
        "id": "SIiHEXvUUHfe"
      }
    },
    {
      "cell_type": "markdown",
      "metadata": {
        "id": "iLm_WXA7ryIl"
      },
      "source": [
        "## 3. คำนวณ $t$-statistic\n",
        "$$  \\text{RSE} = \\sqrt{\\frac{\\text{RSS}}{n-p-1}} $$"
      ]
    },
    {
      "cell_type": "code",
      "metadata": {
        "id": "Bcg0yIPTsLPB"
      },
      "source": [
        "# Calculate Residual Standard Error\n",
        "RSE = np.sqrt(RSS/(n-p-1))"
      ],
      "execution_count": null,
      "outputs": []
    },
    {
      "cell_type": "markdown",
      "metadata": {
        "id": "tqmOPP4ctv7S"
      },
      "source": [
        "####วิธีการคำนวณ Standard Error (SE)  \n",
        "\\begin{align*} \\text{SE}(\\hat{\\beta}) &=\\text{RSE}\\cdot\\sqrt{\\text{diag}\\left( (X^TX)^{-1}\\right)} \\\\\n",
        "t &= \\frac{\\hat{\\beta}}{\\text{SE}(\\hat{\\beta})}\n",
        "\\end{align*}\n",
        "จงใช้ฟังก์ชัน $\\texttt{t_to_p_values}$ ข้างล่างในการหาว่ามีตัวแปรใดบ้างที่มีค่า p-value น้อยกว่า 0.05 **แล้วตอบลงใน text block ข้างล่าง**  \n",
        "\n",
        "ใช้คำสั่ง $\\texttt{A.diagonal()}$ เพื่อหาสมาชิกในแนวทแยงของ $\\texttt{A}$"
      ]
    },
    {
      "cell_type": "code",
      "source": [
        "inv = np.linalg.inv(X.T@X)\n",
        "SE_beta = RSE*np.sqrt(inv.diagonal())"
      ],
      "metadata": {
        "id": "HsCgnE_KPW3y"
      },
      "execution_count": null,
      "outputs": []
    },
    {
      "cell_type": "code",
      "metadata": {
        "id": "IJwkRoYlt8U_",
        "colab": {
          "base_uri": "https://localhost:8080/"
        },
        "outputId": "5dfb7f89-a98b-4494-e0d7-56de854b9b15"
      },
      "source": [
        "def t_to_p_values(t_statistics):\n",
        "  return stats.t.sf(np.abs(t_statistics), n-p-1)*2\n",
        "# Standard error of each variable in X\n",
        "\n",
        "t = beta/SE_beta\n",
        "\n",
        "p = t_to_p_values(t)\n",
        "p"
      ],
      "execution_count": null,
      "outputs": [
        {
          "output_type": "execute_result",
          "data": {
            "text/plain": [
              "array([2.43774108e-03, 3.21216868e-01, 2.97331805e-01, 9.77450101e-01,\n",
              "       1.41618989e-21, 4.03830330e-01, 1.41042759e-37])"
            ]
          },
          "metadata": {},
          "execution_count": 34
        }
      ]
    },
    {
      "cell_type": "code",
      "source": [
        "# show results\n",
        "results = pd.DataFrame({'feature': np.r_[['Intercept'], \n",
        "                                         auto_df.drop(['mpg'],axis=1).columns.values],\n",
        "                        'coefficients': beta,\n",
        "                        'standard_error': SE_beta,\n",
        "                        't-statistic': t,\n",
        "                        'p-value': p})\n",
        "\n",
        "results"
      ],
      "metadata": {
        "colab": {
          "base_uri": "https://localhost:8080/",
          "height": 269
        },
        "id": "CJYtHxifQJEC",
        "outputId": "bd443a22-04b7-45e3-8ba2-beae89ef6396"
      },
      "execution_count": null,
      "outputs": [
        {
          "output_type": "execute_result",
          "data": {
            "text/html": [
              "\n",
              "  <div id=\"df-2af2e9ce-9d2d-4bb3-9ccc-2cf7cea3bee7\">\n",
              "    <div class=\"colab-df-container\">\n",
              "      <div>\n",
              "<style scoped>\n",
              "    .dataframe tbody tr th:only-of-type {\n",
              "        vertical-align: middle;\n",
              "    }\n",
              "\n",
              "    .dataframe tbody tr th {\n",
              "        vertical-align: top;\n",
              "    }\n",
              "\n",
              "    .dataframe thead th {\n",
              "        text-align: right;\n",
              "    }\n",
              "</style>\n",
              "<table border=\"1\" class=\"dataframe\">\n",
              "  <thead>\n",
              "    <tr style=\"text-align: right;\">\n",
              "      <th></th>\n",
              "      <th>feature</th>\n",
              "      <th>coefficients</th>\n",
              "      <th>standard_error</th>\n",
              "      <th>t-statistic</th>\n",
              "      <th>p-value</th>\n",
              "    </tr>\n",
              "  </thead>\n",
              "  <tbody>\n",
              "    <tr>\n",
              "      <th>0</th>\n",
              "      <td>Intercept</td>\n",
              "      <td>-14.535250</td>\n",
              "      <td>4.763882</td>\n",
              "      <td>-3.051136</td>\n",
              "      <td>2.437741e-03</td>\n",
              "    </tr>\n",
              "    <tr>\n",
              "      <th>1</th>\n",
              "      <td>cylinders</td>\n",
              "      <td>-0.329859</td>\n",
              "      <td>0.332104</td>\n",
              "      <td>-0.993240</td>\n",
              "      <td>3.212169e-01</td>\n",
              "    </tr>\n",
              "    <tr>\n",
              "      <th>2</th>\n",
              "      <td>displacement</td>\n",
              "      <td>0.007678</td>\n",
              "      <td>0.007358</td>\n",
              "      <td>1.043586</td>\n",
              "      <td>2.973318e-01</td>\n",
              "    </tr>\n",
              "    <tr>\n",
              "      <th>3</th>\n",
              "      <td>horsepower</td>\n",
              "      <td>-0.000391</td>\n",
              "      <td>0.013837</td>\n",
              "      <td>-0.028284</td>\n",
              "      <td>9.774501e-01</td>\n",
              "    </tr>\n",
              "    <tr>\n",
              "      <th>4</th>\n",
              "      <td>weight</td>\n",
              "      <td>-0.006795</td>\n",
              "      <td>0.000670</td>\n",
              "      <td>-10.140877</td>\n",
              "      <td>1.416190e-21</td>\n",
              "    </tr>\n",
              "    <tr>\n",
              "      <th>5</th>\n",
              "      <td>acceleration</td>\n",
              "      <td>0.085273</td>\n",
              "      <td>0.102036</td>\n",
              "      <td>0.835721</td>\n",
              "      <td>4.038303e-01</td>\n",
              "    </tr>\n",
              "    <tr>\n",
              "      <th>6</th>\n",
              "      <td>year</td>\n",
              "      <td>0.753367</td>\n",
              "      <td>0.052618</td>\n",
              "      <td>14.317630</td>\n",
              "      <td>1.410428e-37</td>\n",
              "    </tr>\n",
              "  </tbody>\n",
              "</table>\n",
              "</div>\n",
              "      <button class=\"colab-df-convert\" onclick=\"convertToInteractive('df-2af2e9ce-9d2d-4bb3-9ccc-2cf7cea3bee7')\"\n",
              "              title=\"Convert this dataframe to an interactive table.\"\n",
              "              style=\"display:none;\">\n",
              "        \n",
              "  <svg xmlns=\"http://www.w3.org/2000/svg\" height=\"24px\"viewBox=\"0 0 24 24\"\n",
              "       width=\"24px\">\n",
              "    <path d=\"M0 0h24v24H0V0z\" fill=\"none\"/>\n",
              "    <path d=\"M18.56 5.44l.94 2.06.94-2.06 2.06-.94-2.06-.94-.94-2.06-.94 2.06-2.06.94zm-11 1L8.5 8.5l.94-2.06 2.06-.94-2.06-.94L8.5 2.5l-.94 2.06-2.06.94zm10 10l.94 2.06.94-2.06 2.06-.94-2.06-.94-.94-2.06-.94 2.06-2.06.94z\"/><path d=\"M17.41 7.96l-1.37-1.37c-.4-.4-.92-.59-1.43-.59-.52 0-1.04.2-1.43.59L10.3 9.45l-7.72 7.72c-.78.78-.78 2.05 0 2.83L4 21.41c.39.39.9.59 1.41.59.51 0 1.02-.2 1.41-.59l7.78-7.78 2.81-2.81c.8-.78.8-2.07 0-2.86zM5.41 20L4 18.59l7.72-7.72 1.47 1.35L5.41 20z\"/>\n",
              "  </svg>\n",
              "      </button>\n",
              "      \n",
              "  <style>\n",
              "    .colab-df-container {\n",
              "      display:flex;\n",
              "      flex-wrap:wrap;\n",
              "      gap: 12px;\n",
              "    }\n",
              "\n",
              "    .colab-df-convert {\n",
              "      background-color: #E8F0FE;\n",
              "      border: none;\n",
              "      border-radius: 50%;\n",
              "      cursor: pointer;\n",
              "      display: none;\n",
              "      fill: #1967D2;\n",
              "      height: 32px;\n",
              "      padding: 0 0 0 0;\n",
              "      width: 32px;\n",
              "    }\n",
              "\n",
              "    .colab-df-convert:hover {\n",
              "      background-color: #E2EBFA;\n",
              "      box-shadow: 0px 1px 2px rgba(60, 64, 67, 0.3), 0px 1px 3px 1px rgba(60, 64, 67, 0.15);\n",
              "      fill: #174EA6;\n",
              "    }\n",
              "\n",
              "    [theme=dark] .colab-df-convert {\n",
              "      background-color: #3B4455;\n",
              "      fill: #D2E3FC;\n",
              "    }\n",
              "\n",
              "    [theme=dark] .colab-df-convert:hover {\n",
              "      background-color: #434B5C;\n",
              "      box-shadow: 0px 1px 3px 1px rgba(0, 0, 0, 0.15);\n",
              "      filter: drop-shadow(0px 1px 2px rgba(0, 0, 0, 0.3));\n",
              "      fill: #FFFFFF;\n",
              "    }\n",
              "  </style>\n",
              "\n",
              "      <script>\n",
              "        const buttonEl =\n",
              "          document.querySelector('#df-2af2e9ce-9d2d-4bb3-9ccc-2cf7cea3bee7 button.colab-df-convert');\n",
              "        buttonEl.style.display =\n",
              "          google.colab.kernel.accessAllowed ? 'block' : 'none';\n",
              "\n",
              "        async function convertToInteractive(key) {\n",
              "          const element = document.querySelector('#df-2af2e9ce-9d2d-4bb3-9ccc-2cf7cea3bee7');\n",
              "          const dataTable =\n",
              "            await google.colab.kernel.invokeFunction('convertToInteractive',\n",
              "                                                     [key], {});\n",
              "          if (!dataTable) return;\n",
              "\n",
              "          const docLinkHtml = 'Like what you see? Visit the ' +\n",
              "            '<a target=\"_blank\" href=https://colab.research.google.com/notebooks/data_table.ipynb>data table notebook</a>'\n",
              "            + ' to learn more about interactive tables.';\n",
              "          element.innerHTML = '';\n",
              "          dataTable['output_type'] = 'display_data';\n",
              "          await google.colab.output.renderOutput(dataTable, element);\n",
              "          const docLink = document.createElement('div');\n",
              "          docLink.innerHTML = docLinkHtml;\n",
              "          element.appendChild(docLink);\n",
              "        }\n",
              "      </script>\n",
              "    </div>\n",
              "  </div>\n",
              "  "
            ],
            "text/plain": [
              "        feature  coefficients  standard_error  t-statistic       p-value\n",
              "0     Intercept    -14.535250        4.763882    -3.051136  2.437741e-03\n",
              "1     cylinders     -0.329859        0.332104    -0.993240  3.212169e-01\n",
              "2  displacement      0.007678        0.007358     1.043586  2.973318e-01\n",
              "3    horsepower     -0.000391        0.013837    -0.028284  9.774501e-01\n",
              "4        weight     -0.006795        0.000670   -10.140877  1.416190e-21\n",
              "5  acceleration      0.085273        0.102036     0.835721  4.038303e-01\n",
              "6          year      0.753367        0.052618    14.317630  1.410428e-37"
            ]
          },
          "metadata": {},
          "execution_count": 35
        }
      ]
    },
    {
      "cell_type": "markdown",
      "metadata": {
        "id": "61K108Bjcjw5"
      },
      "source": [
        "คำตอบ: ตัวแปรที่มีค่า p-value < 0.05 ได้แก่ Intercept (beta0), weight, และ year"
      ]
    },
    {
      "cell_type": "markdown",
      "metadata": {
        "id": "kvxBs5Hlk5rZ"
      },
      "source": [
        "#### statsmodels library สามารถคำนวณค่าต่างๆ เหล่านี้ได้ ผลที่แสดงจะคล้ายกับใน R  \n",
        "#### มีสองวิธึในการทำ linear regression: $\\texttt{statsmodels.api.sm.OLS}$ \n",
        "#### และ $\\texttt{statsmodels.formula.api.smf.ols}$"
      ]
    },
    {
      "cell_type": "code",
      "metadata": {
        "id": "2srU_UiTbhS9",
        "colab": {
          "base_uri": "https://localhost:8080/"
        },
        "outputId": "af6abcea-3c3a-479c-a355-85653c1f5313"
      },
      "source": [
        "# The statsmodels library provides a convenient means to get the\n",
        "# same statistics\n",
        "import statsmodels.api as sm\n",
        "\n",
        "X = auto_df.drop(['mpg'], axis=1)\n",
        "X = sm.add_constant(X)     # add bias constant\n",
        "y = auto_df['mpg']\n",
        "\n",
        "# add bias constant; \n",
        "#without this the equation turns into y = βx\n",
        "\n",
        "# syntax is OLS(response, predictor)\n",
        "model = sm.OLS(y, X).fit()\n",
        "print(model.summary())"
      ],
      "execution_count": null,
      "outputs": [
        {
          "output_type": "stream",
          "name": "stderr",
          "text": [
            "/usr/local/lib/python3.7/dist-packages/statsmodels/tools/_testing.py:19: FutureWarning: pandas.util.testing is deprecated. Use the functions in the public API at pandas.testing instead.\n",
            "  import pandas.util.testing as tm\n"
          ]
        },
        {
          "output_type": "stream",
          "name": "stdout",
          "text": [
            "                            OLS Regression Results                            \n",
            "==============================================================================\n",
            "Dep. Variable:                    mpg   R-squared:                       0.809\n",
            "Model:                            OLS   Adj. R-squared:                  0.806\n",
            "Method:                 Least Squares   F-statistic:                     272.2\n",
            "Date:                Mon, 20 Dec 2021   Prob (F-statistic):          3.79e-135\n",
            "Time:                        05:14:47   Log-Likelihood:                -1036.5\n",
            "No. Observations:                 392   AIC:                             2087.\n",
            "Df Residuals:                     385   BIC:                             2115.\n",
            "Df Model:                           6                                         \n",
            "Covariance Type:            nonrobust                                         \n",
            "================================================================================\n",
            "                   coef    std err          t      P>|t|      [0.025      0.975]\n",
            "--------------------------------------------------------------------------------\n",
            "const          -14.5353      4.764     -3.051      0.002     -23.902      -5.169\n",
            "cylinders       -0.3299      0.332     -0.993      0.321      -0.983       0.323\n",
            "displacement     0.0077      0.007      1.044      0.297      -0.007       0.022\n",
            "horsepower      -0.0004      0.014     -0.028      0.977      -0.028       0.027\n",
            "weight          -0.0068      0.001    -10.141      0.000      -0.008      -0.005\n",
            "acceleration     0.0853      0.102      0.836      0.404      -0.115       0.286\n",
            "year             0.7534      0.053     14.318      0.000       0.650       0.857\n",
            "==============================================================================\n",
            "Omnibus:                       37.865   Durbin-Watson:                   1.232\n",
            "Prob(Omnibus):                  0.000   Jarque-Bera (JB):               60.248\n",
            "Skew:                           0.630   Prob(JB):                     8.26e-14\n",
            "Kurtosis:                       4.449   Cond. No.                     8.53e+04\n",
            "==============================================================================\n",
            "\n",
            "Warnings:\n",
            "[1] Standard Errors assume that the covariance matrix of the errors is correctly specified.\n",
            "[2] The condition number is large, 8.53e+04. This might indicate that there are\n",
            "strong multicollinearity or other numerical problems.\n"
          ]
        }
      ]
    }
  ]
}