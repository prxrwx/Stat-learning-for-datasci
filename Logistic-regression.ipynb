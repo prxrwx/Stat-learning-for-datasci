{
  "nbformat": 4,
  "nbformat_minor": 0,
  "metadata": {
    "colab": {
      "name": "สำเนาของ Logistic Regression.ipynb",
      "provenance": [],
      "collapsed_sections": [],
      "include_colab_link": true
    },
    "kernelspec": {
      "name": "python3",
      "display_name": "Python 3"
    }
  },
  "cells": [
    {
      "cell_type": "markdown",
      "metadata": {
        "id": "view-in-github",
        "colab_type": "text"
      },
      "source": [
        "<a href=\"https://colab.research.google.com/github/prxrwx/Stat-learning-for-datasci/blob/main/Logistic-regression.ipynb\" target=\"_parent\"><img src=\"https://colab.research.google.com/assets/colab-badge.svg\" alt=\"Open In Colab\"/></a>"
      ]
    },
    {
      "cell_type": "code",
      "metadata": {
        "id": "TqkX79Jfgv6K",
        "colab": {
          "base_uri": "https://localhost:8080/"
        },
        "outputId": "126dabad-948f-4e66-d8dd-3923492eafce"
      },
      "source": [
        "import statsmodels.formula.api as smf\n",
        "import statsmodels.api as sm\n",
        "import pandas as pd\n",
        "import numpy as np\n",
        "import seaborn as sns\n",
        "import matplotlib.pyplot as plt\n",
        "from sklearn.metrics import confusion_matrix, classification_report"
      ],
      "execution_count": null,
      "outputs": [
        {
          "output_type": "stream",
          "text": [
            "/usr/local/lib/python3.7/dist-packages/statsmodels/tools/_testing.py:19: FutureWarning: pandas.util.testing is deprecated. Use the functions in the public API at pandas.testing instead.\n",
            "  import pandas.util.testing as tm\n"
          ],
          "name": "stderr"
        }
      ]
    },
    {
      "cell_type": "code",
      "metadata": {
        "id": "SA80gS7zgUrC",
        "colab": {
          "base_uri": "https://localhost:8080/",
          "height": 204
        },
        "outputId": "d1485b7b-0659-4bce-d51b-9b6d6a47ccbc"
      },
      "source": [
        "df = pd.read_csv('default.csv', na_values='?').dropna()\n",
        "df.head()"
      ],
      "execution_count": null,
      "outputs": [
        {
          "output_type": "execute_result",
          "data": {
            "text/html": [
              "<div>\n",
              "<style scoped>\n",
              "    .dataframe tbody tr th:only-of-type {\n",
              "        vertical-align: middle;\n",
              "    }\n",
              "\n",
              "    .dataframe tbody tr th {\n",
              "        vertical-align: top;\n",
              "    }\n",
              "\n",
              "    .dataframe thead th {\n",
              "        text-align: right;\n",
              "    }\n",
              "</style>\n",
              "<table border=\"1\" class=\"dataframe\">\n",
              "  <thead>\n",
              "    <tr style=\"text-align: right;\">\n",
              "      <th></th>\n",
              "      <th>id</th>\n",
              "      <th>default</th>\n",
              "      <th>student</th>\n",
              "      <th>balance</th>\n",
              "      <th>income</th>\n",
              "    </tr>\n",
              "  </thead>\n",
              "  <tbody>\n",
              "    <tr>\n",
              "      <th>0</th>\n",
              "      <td>1</td>\n",
              "      <td>No</td>\n",
              "      <td>No</td>\n",
              "      <td>729.526495</td>\n",
              "      <td>44361.62507</td>\n",
              "    </tr>\n",
              "    <tr>\n",
              "      <th>1</th>\n",
              "      <td>2</td>\n",
              "      <td>No</td>\n",
              "      <td>Yes</td>\n",
              "      <td>817.180407</td>\n",
              "      <td>12106.13470</td>\n",
              "    </tr>\n",
              "    <tr>\n",
              "      <th>2</th>\n",
              "      <td>3</td>\n",
              "      <td>No</td>\n",
              "      <td>No</td>\n",
              "      <td>1073.549164</td>\n",
              "      <td>31767.13895</td>\n",
              "    </tr>\n",
              "    <tr>\n",
              "      <th>3</th>\n",
              "      <td>4</td>\n",
              "      <td>No</td>\n",
              "      <td>No</td>\n",
              "      <td>529.250605</td>\n",
              "      <td>35704.49394</td>\n",
              "    </tr>\n",
              "    <tr>\n",
              "      <th>4</th>\n",
              "      <td>5</td>\n",
              "      <td>No</td>\n",
              "      <td>No</td>\n",
              "      <td>785.655883</td>\n",
              "      <td>38463.49588</td>\n",
              "    </tr>\n",
              "  </tbody>\n",
              "</table>\n",
              "</div>"
            ],
            "text/plain": [
              "   id default student      balance       income\n",
              "0   1      No      No   729.526495  44361.62507\n",
              "1   2      No     Yes   817.180407  12106.13470\n",
              "2   3      No      No  1073.549164  31767.13895\n",
              "3   4      No      No   529.250605  35704.49394\n",
              "4   5      No      No   785.655883  38463.49588"
            ]
          },
          "metadata": {
            "tags": []
          },
          "execution_count": 3
        }
      ]
    },
    {
      "cell_type": "code",
      "metadata": {
        "colab": {
          "base_uri": "https://localhost:8080/"
        },
        "id": "jf9vi29F_NUM",
        "outputId": "103bb4c0-5f8c-45b6-f0f2-56357a51fbac"
      },
      "source": [
        "df.info()"
      ],
      "execution_count": null,
      "outputs": [
        {
          "output_type": "stream",
          "text": [
            "<class 'pandas.core.frame.DataFrame'>\n",
            "Int64Index: 10000 entries, 0 to 9999\n",
            "Data columns (total 5 columns):\n",
            " #   Column   Non-Null Count  Dtype  \n",
            "---  ------   --------------  -----  \n",
            " 0   id       10000 non-null  int64  \n",
            " 1   default  10000 non-null  object \n",
            " 2   student  10000 non-null  object \n",
            " 3   balance  10000 non-null  float64\n",
            " 4   income   10000 non-null  float64\n",
            "dtypes: float64(2), int64(1), object(2)\n",
            "memory usage: 468.8+ KB\n"
          ],
          "name": "stdout"
        }
      ]
    },
    {
      "cell_type": "code",
      "metadata": {
        "id": "W_UyHLQ2ibHe",
        "colab": {
          "base_uri": "https://localhost:8080/",
          "height": 279
        },
        "outputId": "8ce399e2-1452-4d59-e2cd-b8bfd7ae287e"
      },
      "source": [
        "sns.boxplot(x='default', y='income', data=df)\n",
        "plt.show()"
      ],
      "execution_count": null,
      "outputs": [
        {
          "output_type": "display_data",
          "data": {
            "image/png": "[encoded data removed]",
            "text/plain": [
              "<Figure size 432x288 with 1 Axes>"
            ]
          },
          "metadata": {
            "tags": [],
            "needs_background": "light"
          }
        }
      ]
    },
    {
      "cell_type": "code",
      "metadata": {
        "id": "dwrIL4mCiftw",
        "colab": {
          "base_uri": "https://localhost:8080/",
          "height": 383
        },
        "outputId": "d7dae0ea-e963-4204-f58c-41dcdb150c4e"
      },
      "source": [
        "sns.lmplot(x='balance', y='income', hue = 'default', data=df, aspect=1.5, fit_reg = False)\n",
        "plt.show()"
      ],
      "execution_count": null,
      "outputs": [
        {
          "output_type": "display_data",
          "data": {
            "image/png": "[encoded data removed]",
            "text/plain": [
              "<Figure size 592x360 with 1 Axes>"
            ]
          },
          "metadata": {
            "tags": [],
            "needs_background": "light"
          }
        }
      ]
    },
    {
      "cell_type": "code",
      "metadata": {
        "id": "sZzGT-Mmijux",
        "colab": {
          "base_uri": "https://localhost:8080/",
          "height": 141
        },
        "outputId": "bbe04f85-11ec-4ee6-a2d0-fa2abde51895"
      },
      "source": [
        "pd.crosstab(df['default'], df['student'], rownames=['Default'], colnames=['Student'])"
      ],
      "execution_count": null,
      "outputs": [
        {
          "output_type": "execute_result",
          "data": {
            "text/html": [
              "<div>\n",
              "<style scoped>\n",
              "    .dataframe tbody tr th:only-of-type {\n",
              "        vertical-align: middle;\n",
              "    }\n",
              "\n",
              "    .dataframe tbody tr th {\n",
              "        vertical-align: top;\n",
              "    }\n",
              "\n",
              "    .dataframe thead th {\n",
              "        text-align: right;\n",
              "    }\n",
              "</style>\n",
              "<table border=\"1\" class=\"dataframe\">\n",
              "  <thead>\n",
              "    <tr style=\"text-align: right;\">\n",
              "      <th>Student</th>\n",
              "      <th>No</th>\n",
              "      <th>Yes</th>\n",
              "    </tr>\n",
              "    <tr>\n",
              "      <th>Default</th>\n",
              "      <th></th>\n",
              "      <th></th>\n",
              "    </tr>\n",
              "  </thead>\n",
              "  <tbody>\n",
              "    <tr>\n",
              "      <th>No</th>\n",
              "      <td>6850</td>\n",
              "      <td>2817</td>\n",
              "    </tr>\n",
              "    <tr>\n",
              "      <th>Yes</th>\n",
              "      <td>206</td>\n",
              "      <td>127</td>\n",
              "    </tr>\n",
              "  </tbody>\n",
              "</table>\n",
              "</div>"
            ],
            "text/plain": [
              "Student    No   Yes\n",
              "Default            \n",
              "No       6850  2817\n",
              "Yes       206   127"
            ]
          },
          "metadata": {
            "tags": []
          },
          "execution_count": 7
        }
      ]
    },
    {
      "cell_type": "code",
      "metadata": {
        "id": "OxiyxlOHinn5",
        "colab": {
          "base_uri": "https://localhost:8080/",
          "height": 204
        },
        "outputId": "2ae55946-16af-4b75-8abd-0ed7eb6f9ab2"
      },
      "source": [
        "# Convert Categorical to Numerical for class attribute\n",
        "default_dummies = pd.get_dummies(df.default, prefix='default')\n",
        "default_dummies.drop(default_dummies.columns[0], axis=1, inplace=True)\n",
        "default_dummies\n",
        "data_default = pd.concat([df[['student','balance','income']], default_dummies], axis=1)\n",
        "data_default.head()"
      ],
      "execution_count": null,
      "outputs": [
        {
          "output_type": "execute_result",
          "data": {
            "text/html": [
              "<div>\n",
              "<style scoped>\n",
              "    .dataframe tbody tr th:only-of-type {\n",
              "        vertical-align: middle;\n",
              "    }\n",
              "\n",
              "    .dataframe tbody tr th {\n",
              "        vertical-align: top;\n",
              "    }\n",
              "\n",
              "    .dataframe thead th {\n",
              "        text-align: right;\n",
              "    }\n",
              "</style>\n",
              "<table border=\"1\" class=\"dataframe\">\n",
              "  <thead>\n",
              "    <tr style=\"text-align: right;\">\n",
              "      <th></th>\n",
              "      <th>student</th>\n",
              "      <th>balance</th>\n",
              "      <th>income</th>\n",
              "      <th>default_Yes</th>\n",
              "    </tr>\n",
              "  </thead>\n",
              "  <tbody>\n",
              "    <tr>\n",
              "      <th>0</th>\n",
              "      <td>No</td>\n",
              "      <td>729.526495</td>\n",
              "      <td>44361.62507</td>\n",
              "      <td>0</td>\n",
              "    </tr>\n",
              "    <tr>\n",
              "      <th>1</th>\n",
              "      <td>Yes</td>\n",
              "      <td>817.180407</td>\n",
              "      <td>12106.13470</td>\n",
              "      <td>0</td>\n",
              "    </tr>\n",
              "    <tr>\n",
              "      <th>2</th>\n",
              "      <td>No</td>\n",
              "      <td>1073.549164</td>\n",
              "      <td>31767.13895</td>\n",
              "      <td>0</td>\n",
              "    </tr>\n",
              "    <tr>\n",
              "      <th>3</th>\n",
              "      <td>No</td>\n",
              "      <td>529.250605</td>\n",
              "      <td>35704.49394</td>\n",
              "      <td>0</td>\n",
              "    </tr>\n",
              "    <tr>\n",
              "      <th>4</th>\n",
              "      <td>No</td>\n",
              "      <td>785.655883</td>\n",
              "      <td>38463.49588</td>\n",
              "      <td>0</td>\n",
              "    </tr>\n",
              "  </tbody>\n",
              "</table>\n",
              "</div>"
            ],
            "text/plain": [
              "  student      balance       income  default_Yes\n",
              "0      No   729.526495  44361.62507            0\n",
              "1     Yes   817.180407  12106.13470            0\n",
              "2      No  1073.549164  31767.13895            0\n",
              "3      No   529.250605  35704.49394            0\n",
              "4      No   785.655883  38463.49588            0"
            ]
          },
          "metadata": {
            "tags": []
          },
          "execution_count": 8
        }
      ]
    },
    {
      "cell_type": "code",
      "metadata": {
        "id": "pd7eHxZgi51F",
        "colab": {
          "base_uri": "https://localhost:8080/",
          "height": 285
        },
        "outputId": "a539113c-901e-4325-984c-4a4838e511f1"
      },
      "source": [
        "# fitting the model with balance\n",
        "model1 = smf.glm('default_Yes~balance', data=data_default, family=sm.families.Binomial()).fit()\n",
        "model1.summary()"
      ],
      "execution_count": null,
      "outputs": [
        {
          "output_type": "execute_result",
          "data": {
            "text/html": [
              "<table class=\"simpletable\">\n",
              "<caption>Generalized Linear Model Regression Results</caption>\n",
              "<tr>\n",
              "  <th>Dep. Variable:</th>      <td>default_Yes</td>   <th>  No. Observations:  </th>  <td> 10000</td> \n",
              "</tr>\n",
              "<tr>\n",
              "  <th>Model:</th>                  <td>GLM</td>       <th>  Df Residuals:      </th>  <td>  9998</td> \n",
              "</tr>\n",
              "<tr>\n",
              "  <th>Model Family:</th>        <td>Binomial</td>     <th>  Df Model:          </th>  <td>     1</td> \n",
              "</tr>\n",
              "<tr>\n",
              "  <th>Link Function:</th>         <td>logit</td>      <th>  Scale:             </th> <td>  1.0000</td>\n",
              "</tr>\n",
              "<tr>\n",
              "  <th>Method:</th>                <td>IRLS</td>       <th>  Log-Likelihood:    </th> <td> -798.23</td>\n",
              "</tr>\n",
              "<tr>\n",
              "  <th>Date:</th>            <td>Mon, 14 Jun 2021</td> <th>  Deviance:          </th> <td>  1596.5</td>\n",
              "</tr>\n",
              "<tr>\n",
              "  <th>Time:</th>                <td>18:38:17</td>     <th>  Pearson chi2:      </th> <td>7.15e+03</td>\n",
              "</tr>\n",
              "<tr>\n",
              "  <th>No. Iterations:</th>          <td>9</td>        <th>                     </th>     <td> </td>   \n",
              "</tr>\n",
              "<tr>\n",
              "  <th>Covariance Type:</th>     <td>nonrobust</td>    <th>                     </th>     <td> </td>   \n",
              "</tr>\n",
              "</table>\n",
              "<table class=\"simpletable\">\n",
              "<tr>\n",
              "      <td></td>         <th>coef</th>     <th>std err</th>      <th>z</th>      <th>P>|z|</th>  <th>[0.025</th>    <th>0.975]</th>  \n",
              "</tr>\n",
              "<tr>\n",
              "  <th>Intercept</th> <td>  -10.6513</td> <td>    0.361</td> <td>  -29.491</td> <td> 0.000</td> <td>  -11.359</td> <td>   -9.943</td>\n",
              "</tr>\n",
              "<tr>\n",
              "  <th>balance</th>   <td>    0.0055</td> <td>    0.000</td> <td>   24.952</td> <td> 0.000</td> <td>    0.005</td> <td>    0.006</td>\n",
              "</tr>\n",
              "</table>"
            ],
            "text/plain": [
              "<class 'statsmodels.iolib.summary.Summary'>\n",
              "\"\"\"\n",
              "                 Generalized Linear Model Regression Results                  \n",
              "==============================================================================\n",
              "Dep. Variable:            default_Yes   No. Observations:                10000\n",
              "Model:                            GLM   Df Residuals:                     9998\n",
              "Model Family:                Binomial   Df Model:                            1\n",
              "Link Function:                  logit   Scale:                          1.0000\n",
              "Method:                          IRLS   Log-Likelihood:                -798.23\n",
              "Date:                Mon, 14 Jun 2021   Deviance:                       1596.5\n",
              "Time:                        18:38:17   Pearson chi2:                 7.15e+03\n",
              "No. Iterations:                     9                                         \n",
              "Covariance Type:            nonrobust                                         \n",
              "==============================================================================\n",
              "                 coef    std err          z      P>|z|      [0.025      0.975]\n",
              "------------------------------------------------------------------------------\n",
              "Intercept    -10.6513      0.361    -29.491      0.000     -11.359      -9.943\n",
              "balance        0.0055      0.000     24.952      0.000       0.005       0.006\n",
              "==============================================================================\n",
              "\"\"\""
            ]
          },
          "metadata": {
            "tags": []
          },
          "execution_count": 9
        }
      ]
    },
    {
      "cell_type": "code",
      "metadata": {
        "colab": {
          "base_uri": "https://localhost:8080/",
          "height": 285
        },
        "id": "covvAhpgju2I",
        "outputId": "a4cb33a4-131d-4ff5-be1d-9ccadc17b920"
      },
      "source": [
        "# fitting the model with student\n",
        "model2 = smf.glm('default_Yes~student', data=data_default, family=sm.families.Binomial()).fit()\n",
        "model2.summary()"
      ],
      "execution_count": null,
      "outputs": [
        {
          "output_type": "execute_result",
          "data": {
            "text/html": [
              "<table class=\"simpletable\">\n",
              "<caption>Generalized Linear Model Regression Results</caption>\n",
              "<tr>\n",
              "  <th>Dep. Variable:</th>      <td>default_Yes</td>   <th>  No. Observations:  </th>  <td> 10000</td> \n",
              "</tr>\n",
              "<tr>\n",
              "  <th>Model:</th>                  <td>GLM</td>       <th>  Df Residuals:      </th>  <td>  9998</td> \n",
              "</tr>\n",
              "<tr>\n",
              "  <th>Model Family:</th>        <td>Binomial</td>     <th>  Df Model:          </th>  <td>     1</td> \n",
              "</tr>\n",
              "<tr>\n",
              "  <th>Link Function:</th>         <td>logit</td>      <th>  Scale:             </th> <td>  1.0000</td>\n",
              "</tr>\n",
              "<tr>\n",
              "  <th>Method:</th>                <td>IRLS</td>       <th>  Log-Likelihood:    </th> <td> -1454.3</td>\n",
              "</tr>\n",
              "<tr>\n",
              "  <th>Date:</th>            <td>Mon, 14 Jun 2021</td> <th>  Deviance:          </th> <td>  2908.7</td>\n",
              "</tr>\n",
              "<tr>\n",
              "  <th>Time:</th>                <td>18:38:19</td>     <th>  Pearson chi2:      </th> <td>1.00e+04</td>\n",
              "</tr>\n",
              "<tr>\n",
              "  <th>No. Iterations:</th>          <td>6</td>        <th>                     </th>     <td> </td>   \n",
              "</tr>\n",
              "<tr>\n",
              "  <th>Covariance Type:</th>     <td>nonrobust</td>    <th>                     </th>     <td> </td>   \n",
              "</tr>\n",
              "</table>\n",
              "<table class=\"simpletable\">\n",
              "<tr>\n",
              "         <td></td>           <th>coef</th>     <th>std err</th>      <th>z</th>      <th>P>|z|</th>  <th>[0.025</th>    <th>0.975]</th>  \n",
              "</tr>\n",
              "<tr>\n",
              "  <th>Intercept</th>      <td>   -3.5041</td> <td>    0.071</td> <td>  -49.554</td> <td> 0.000</td> <td>   -3.643</td> <td>   -3.366</td>\n",
              "</tr>\n",
              "<tr>\n",
              "  <th>student[T.Yes]</th> <td>    0.4049</td> <td>    0.115</td> <td>    3.520</td> <td> 0.000</td> <td>    0.179</td> <td>    0.630</td>\n",
              "</tr>\n",
              "</table>"
            ],
            "text/plain": [
              "<class 'statsmodels.iolib.summary.Summary'>\n",
              "\"\"\"\n",
              "                 Generalized Linear Model Regression Results                  \n",
              "==============================================================================\n",
              "Dep. Variable:            default_Yes   No. Observations:                10000\n",
              "Model:                            GLM   Df Residuals:                     9998\n",
              "Model Family:                Binomial   Df Model:                            1\n",
              "Link Function:                  logit   Scale:                          1.0000\n",
              "Method:                          IRLS   Log-Likelihood:                -1454.3\n",
              "Date:                Mon, 14 Jun 2021   Deviance:                       2908.7\n",
              "Time:                        18:38:19   Pearson chi2:                 1.00e+04\n",
              "No. Iterations:                     6                                         \n",
              "Covariance Type:            nonrobust                                         \n",
              "==================================================================================\n",
              "                     coef    std err          z      P>|z|      [0.025      0.975]\n",
              "----------------------------------------------------------------------------------\n",
              "Intercept         -3.5041      0.071    -49.554      0.000      -3.643      -3.366\n",
              "student[T.Yes]     0.4049      0.115      3.520      0.000       0.179       0.630\n",
              "==================================================================================\n",
              "\"\"\""
            ]
          },
          "metadata": {
            "tags": []
          },
          "execution_count": 10
        }
      ]
    },
    {
      "cell_type": "code",
      "metadata": {
        "colab": {
          "base_uri": "https://localhost:8080/",
          "height": 327
        },
        "id": "l2cCN-b5kLhN",
        "outputId": "9f355dcc-1e08-49f1-ceed-6e065c9dc338"
      },
      "source": [
        "# fitting the model with student+balance\n",
        "model3 = smf.glm('default_Yes~student+balance+income', data=data_default, family=sm.families.Binomial()).fit()\n",
        "model3.summary()\n"
      ],
      "execution_count": null,
      "outputs": [
        {
          "output_type": "execute_result",
          "data": {
            "text/html": [
              "<table class=\"simpletable\">\n",
              "<caption>Generalized Linear Model Regression Results</caption>\n",
              "<tr>\n",
              "  <th>Dep. Variable:</th>      <td>default_Yes</td>   <th>  No. Observations:  </th>  <td> 10000</td> \n",
              "</tr>\n",
              "<tr>\n",
              "  <th>Model:</th>                  <td>GLM</td>       <th>  Df Residuals:      </th>  <td>  9996</td> \n",
              "</tr>\n",
              "<tr>\n",
              "  <th>Model Family:</th>        <td>Binomial</td>     <th>  Df Model:          </th>  <td>     3</td> \n",
              "</tr>\n",
              "<tr>\n",
              "  <th>Link Function:</th>         <td>logit</td>      <th>  Scale:             </th> <td>  1.0000</td>\n",
              "</tr>\n",
              "<tr>\n",
              "  <th>Method:</th>                <td>IRLS</td>       <th>  Log-Likelihood:    </th> <td> -785.77</td>\n",
              "</tr>\n",
              "<tr>\n",
              "  <th>Date:</th>            <td>Mon, 14 Jun 2021</td> <th>  Deviance:          </th> <td>  1571.5</td>\n",
              "</tr>\n",
              "<tr>\n",
              "  <th>Time:</th>                <td>18:38:21</td>     <th>  Pearson chi2:      </th> <td>7.00e+03</td>\n",
              "</tr>\n",
              "<tr>\n",
              "  <th>No. Iterations:</th>          <td>9</td>        <th>                     </th>     <td> </td>   \n",
              "</tr>\n",
              "<tr>\n",
              "  <th>Covariance Type:</th>     <td>nonrobust</td>    <th>                     </th>     <td> </td>   \n",
              "</tr>\n",
              "</table>\n",
              "<table class=\"simpletable\">\n",
              "<tr>\n",
              "         <td></td>           <th>coef</th>     <th>std err</th>      <th>z</th>      <th>P>|z|</th>  <th>[0.025</th>    <th>0.975]</th>  \n",
              "</tr>\n",
              "<tr>\n",
              "  <th>Intercept</th>      <td>  -10.8690</td> <td>    0.492</td> <td>  -22.079</td> <td> 0.000</td> <td>  -11.834</td> <td>   -9.904</td>\n",
              "</tr>\n",
              "<tr>\n",
              "  <th>student[T.Yes]</th> <td>   -0.6468</td> <td>    0.236</td> <td>   -2.738</td> <td> 0.006</td> <td>   -1.110</td> <td>   -0.184</td>\n",
              "</tr>\n",
              "<tr>\n",
              "  <th>balance</th>        <td>    0.0057</td> <td>    0.000</td> <td>   24.737</td> <td> 0.000</td> <td>    0.005</td> <td>    0.006</td>\n",
              "</tr>\n",
              "<tr>\n",
              "  <th>income</th>         <td> 3.033e-06</td> <td>  8.2e-06</td> <td>    0.370</td> <td> 0.712</td> <td> -1.3e-05</td> <td> 1.91e-05</td>\n",
              "</tr>\n",
              "</table>"
            ],
            "text/plain": [
              "<class 'statsmodels.iolib.summary.Summary'>\n",
              "\"\"\"\n",
              "                 Generalized Linear Model Regression Results                  \n",
              "==============================================================================\n",
              "Dep. Variable:            default_Yes   No. Observations:                10000\n",
              "Model:                            GLM   Df Residuals:                     9996\n",
              "Model Family:                Binomial   Df Model:                            3\n",
              "Link Function:                  logit   Scale:                          1.0000\n",
              "Method:                          IRLS   Log-Likelihood:                -785.77\n",
              "Date:                Mon, 14 Jun 2021   Deviance:                       1571.5\n",
              "Time:                        18:38:21   Pearson chi2:                 7.00e+03\n",
              "No. Iterations:                     9                                         \n",
              "Covariance Type:            nonrobust                                         \n",
              "==================================================================================\n",
              "                     coef    std err          z      P>|z|      [0.025      0.975]\n",
              "----------------------------------------------------------------------------------\n",
              "Intercept        -10.8690      0.492    -22.079      0.000     -11.834      -9.904\n",
              "student[T.Yes]    -0.6468      0.236     -2.738      0.006      -1.110      -0.184\n",
              "balance            0.0057      0.000     24.737      0.000       0.005       0.006\n",
              "income          3.033e-06    8.2e-06      0.370      0.712    -1.3e-05    1.91e-05\n",
              "==================================================================================\n",
              "\"\"\""
            ]
          },
          "metadata": {
            "tags": []
          },
          "execution_count": 11
        }
      ]
    },
    {
      "cell_type": "code",
      "metadata": {
        "colab": {
          "base_uri": "https://localhost:8080/"
        },
        "id": "sVNsH3aIlRT1",
        "outputId": "dbd8ddeb-d14f-4dd4-a7ab-d4245ed4e7b4"
      },
      "source": [
        "# print odd-ratio\n",
        "print(np.exp(model3.params))"
      ],
      "execution_count": null,
      "outputs": [
        {
          "output_type": "stream",
          "text": [
            "Intercept         0.000019\n",
            "student[T.Yes]    0.523732\n",
            "balance           1.005753\n",
            "income            1.000003\n",
            "dtype: float64\n"
          ],
          "name": "stdout"
        }
      ]
    },
    {
      "cell_type": "code",
      "metadata": {
        "id": "wCoANmYm5Gsz",
        "colab": {
          "base_uri": "https://localhost:8080/"
        },
        "outputId": "6e3090a8-a7c1-4ec3-acba-83f9a92147e2"
      },
      "source": [
        "L1=model1.deviance\n",
        "L2=model2.deviance\n",
        "L3=model3.deviance\n",
        "print(L1)\n",
        "print(L2)\n",
        "print(L3)"
      ],
      "execution_count": null,
      "outputs": [
        {
          "output_type": "stream",
          "text": [
            "1596.4516835489283\n",
            "2908.683063975038\n",
            "1571.5448276347668\n"
          ],
          "name": "stdout"
        }
      ]
    },
    {
      "cell_type": "code",
      "metadata": {
        "id": "mBbhei2HmxFP",
        "colab": {
          "base_uri": "https://localhost:8080/"
        },
        "outputId": "4d3153d5-1ceb-48a4-c4b4-fe80c626deca"
      },
      "source": [
        "from scipy.stats.distributions import chi2\n",
        "def likelihood_ratio(llmin, llmax):\n",
        "    return(2*(llmax-llmin))\n",
        "\n",
        "\n",
        "LR = likelihood_ratio(L3,L1)\n",
        "\n",
        "\n",
        "p = chi2.sf(LR, 1) # L2 has 1 DoF more than L1\n",
        "\n",
        "print('p: %.30f' % p) \n"
      ],
      "execution_count": null,
      "outputs": [
        {
          "output_type": "stream",
          "text": [
            "p: 0.000000000001690583572870528825\n"
          ],
          "name": "stdout"
        }
      ]
    },
    {
      "cell_type": "code",
      "metadata": {
        "id": "nwRKlFVel3ab"
      },
      "source": [
        "#prediction\n",
        "predict = model3.predict() #ทดสอบด้วย full training set\n",
        "\n",
        "#define the cutoff\n",
        "cutoff = 0.5\n",
        "#Assign class\n",
        "y_predict = np.where(predict > cutoff, 1, 0)\n",
        "y_predict\n",
        "#actual class\n",
        "y_actual = data_default['default_Yes']\n",
        "\n",
        "#result= pd.concat([pd.DataFrame({'y_actual':y_actual}),pd.DataFrame({'y_predicted':y_predict})],axis=1)\n",
        "#result\n",
        "#result.to_csv(r'result_default.csv')"
      ],
      "execution_count": null,
      "outputs": []
    },
    {
      "cell_type": "code",
      "metadata": {
        "id": "NjEKipIvjLtF",
        "colab": {
          "base_uri": "https://localhost:8080/"
        },
        "outputId": "8fd152b6-403b-4752-e42a-d541fac34fca"
      },
      "source": [
        "#creating a confusion matrix to understand the classification\n",
        "confusion = confusion_matrix(y_actual, y_predict)\n",
        "confusion\n",
        "#[row, column]\n",
        "#TP = confusion[1, 1]\n",
        "#TN = confusion[0, 0]\n",
        "#FP = confusion[0, 1]\n",
        "#FN = confusion[1, 0]\n",
        "#print (\"TP\",TP)\n",
        "#print (\"TN\",TN)\n",
        "#print (\"FN\",FN)\n",
        "#print (\"FP\",FP)\n"
      ],
      "execution_count": null,
      "outputs": [
        {
          "output_type": "execute_result",
          "data": {
            "text/plain": [
              "array([[9627,   40],\n",
              "       [ 228,  105]])"
            ]
          },
          "metadata": {
            "tags": []
          },
          "execution_count": 16
        }
      ]
    },
    {
      "cell_type": "code",
      "metadata": {
        "colab": {
          "base_uri": "https://localhost:8080/",
          "height": 304
        },
        "id": "swMe0gTSoNJR",
        "outputId": "865ee02c-21ce-4887-ca6d-4b8edf36ea9a"
      },
      "source": [
        "#print confusion matrix \n",
        "cmap = sns.cubehelix_palette(50, hue=0.05, rot=0, \n",
        "                             light=0.9, dark=0, as_cmap=True)\n",
        "sns.heatmap(confusion,cmap = cmap,xticklabels=['predicted_default=No',\n",
        "                                          'predicted_default=Yes'],\n",
        "            yticklabels=['actual_default=No',\n",
        "                         'actual_default=Yes'],annot=True, fmt=\"d\")"
      ],
      "execution_count": null,
      "outputs": [
        {
          "output_type": "execute_result",
          "data": {
            "text/plain": [
              "<matplotlib.axes._subplots.AxesSubplot at 0x7f125e1f5c90>"
            ]
          },
          "metadata": {
            "tags": []
          },
          "execution_count": 17
        },
        {
          "output_type": "display_data",
          "data": {
            "image/png": "[encoded data removed]",
            "text/plain": [
              "<Figure size 432x288 with 2 Axes>"
            ]
          },
          "metadata": {
            "tags": [],
            "needs_background": "light"
          }
        }
      ]
    },
    {
      "cell_type": "code",
      "metadata": {
        "id": "cKbbCAMFiwsC"
      },
      "source": [
        "#splitting the data into train and test with 70:30 ratio\n",
        "from sklearn.model_selection import train_test_split\n",
        "Train, Test = train_test_split(data_default, test_size=0.30, random_state=13)"
      ],
      "execution_count": null,
      "outputs": []
    },
    {
      "cell_type": "code",
      "metadata": {
        "colab": {
          "base_uri": "https://localhost:8080/",
          "height": 204
        },
        "id": "E1QkuN26gGP9",
        "outputId": "9970ac69-25de-46a0-bb0c-1d3b6ccbf6da"
      },
      "source": [
        "Train.head()\n",
        "Test.head()"
      ],
      "execution_count": null,
      "outputs": [
        {
          "output_type": "execute_result",
          "data": {
            "text/html": [
              "<div>\n",
              "<style scoped>\n",
              "    .dataframe tbody tr th:only-of-type {\n",
              "        vertical-align: middle;\n",
              "    }\n",
              "\n",
              "    .dataframe tbody tr th {\n",
              "        vertical-align: top;\n",
              "    }\n",
              "\n",
              "    .dataframe thead th {\n",
              "        text-align: right;\n",
              "    }\n",
              "</style>\n",
              "<table border=\"1\" class=\"dataframe\">\n",
              "  <thead>\n",
              "    <tr style=\"text-align: right;\">\n",
              "      <th></th>\n",
              "      <th>student</th>\n",
              "      <th>balance</th>\n",
              "      <th>income</th>\n",
              "      <th>default_Yes</th>\n",
              "    </tr>\n",
              "  </thead>\n",
              "  <tbody>\n",
              "    <tr>\n",
              "      <th>5952</th>\n",
              "      <td>No</td>\n",
              "      <td>319.807607</td>\n",
              "      <td>45202.63540</td>\n",
              "      <td>0</td>\n",
              "    </tr>\n",
              "    <tr>\n",
              "      <th>1783</th>\n",
              "      <td>Yes</td>\n",
              "      <td>1123.595047</td>\n",
              "      <td>16082.90571</td>\n",
              "      <td>0</td>\n",
              "    </tr>\n",
              "    <tr>\n",
              "      <th>4811</th>\n",
              "      <td>No</td>\n",
              "      <td>1210.176036</td>\n",
              "      <td>29460.19160</td>\n",
              "      <td>0</td>\n",
              "    </tr>\n",
              "    <tr>\n",
              "      <th>145</th>\n",
              "      <td>No</td>\n",
              "      <td>95.147680</td>\n",
              "      <td>51371.19991</td>\n",
              "      <td>0</td>\n",
              "    </tr>\n",
              "    <tr>\n",
              "      <th>7146</th>\n",
              "      <td>No</td>\n",
              "      <td>1329.096762</td>\n",
              "      <td>60321.61321</td>\n",
              "      <td>0</td>\n",
              "    </tr>\n",
              "  </tbody>\n",
              "</table>\n",
              "</div>"
            ],
            "text/plain": [
              "     student      balance       income  default_Yes\n",
              "5952      No   319.807607  45202.63540            0\n",
              "1783     Yes  1123.595047  16082.90571            0\n",
              "4811      No  1210.176036  29460.19160            0\n",
              "145       No    95.147680  51371.19991            0\n",
              "7146      No  1329.096762  60321.61321            0"
            ]
          },
          "metadata": {
            "tags": []
          },
          "execution_count": 19
        }
      ]
    },
    {
      "cell_type": "code",
      "metadata": {
        "id": "LUIPiC5Dgt5e",
        "colab": {
          "base_uri": "https://localhost:8080/"
        },
        "outputId": "dd3f0104-8067-45c1-ab24-ec80b79cf6e6"
      },
      "source": [
        "#10-fold crossvalidation\n",
        "for i in range(1,11):\n",
        "    train_df = df.sample(8000, random_state = i)\n",
        "    test_df = df[~df.isin(train_df)].dropna(how = 'all')\n",
        "    \n",
        "    # Fit a logistic regression to predict default using balance\n",
        "    model = smf.glm('default~student+balance', data=train_df, family=sm.families.Binomial())\n",
        "    result = model.fit()\n",
        "    predictions_nominal = [ \"Yes\" if x < 0.5 else \"No\" for x in result.predict(test_df)]\n",
        "    print(\"----------------\")\n",
        "    print(\"Random Seed = \" + str(i) + \"\")\n",
        "    print(\"----------------\")\n",
        "    print(confusion_matrix(test_df[\"default\"], \n",
        "                       predictions_nominal))\n",
        "    print(classification_report(test_df[\"default\"], \n",
        "                            predictions_nominal, \n",
        "                            digits = 3))\n",
        "    print()"
      ],
      "execution_count": null,
      "outputs": [
        {
          "output_type": "stream",
          "text": [
            "----------------\n",
            "Random Seed = 1\n",
            "----------------\n",
            "[[1920    7]\n",
            " [  48   25]]\n",
            "              precision    recall  f1-score   support\n",
            "\n",
            "          No      0.976     0.996     0.986      1927\n",
            "         Yes      0.781     0.342     0.476        73\n",
            "\n",
            "    accuracy                          0.973      2000\n",
            "   macro avg      0.878     0.669     0.731      2000\n",
            "weighted avg      0.969     0.973     0.967      2000\n",
            "\n",
            "\n",
            "----------------\n",
            "Random Seed = 2\n",
            "----------------\n",
            "[[1921   11]\n",
            " [  47   21]]\n",
            "              precision    recall  f1-score   support\n",
            "\n",
            "          No      0.976     0.994     0.985      1932\n",
            "         Yes      0.656     0.309     0.420        68\n",
            "\n",
            "    accuracy                          0.971      2000\n",
            "   macro avg      0.816     0.652     0.703      2000\n",
            "weighted avg      0.965     0.971     0.966      2000\n",
            "\n",
            "\n",
            "----------------\n",
            "Random Seed = 3\n",
            "----------------\n",
            "[[1919   13]\n",
            " [  48   20]]\n",
            "              precision    recall  f1-score   support\n",
            "\n",
            "          No      0.976     0.993     0.984      1932\n",
            "         Yes      0.606     0.294     0.396        68\n",
            "\n",
            "    accuracy                          0.970      2000\n",
            "   macro avg      0.791     0.644     0.690      2000\n",
            "weighted avg      0.963     0.970     0.964      2000\n",
            "\n",
            "\n",
            "----------------\n",
            "Random Seed = 4\n",
            "----------------\n",
            "[[1932    4]\n",
            " [  48   16]]\n",
            "              precision    recall  f1-score   support\n",
            "\n",
            "          No      0.976     0.998     0.987      1936\n",
            "         Yes      0.800     0.250     0.381        64\n",
            "\n",
            "    accuracy                          0.974      2000\n",
            "   macro avg      0.888     0.624     0.684      2000\n",
            "weighted avg      0.970     0.974     0.967      2000\n",
            "\n",
            "\n",
            "----------------\n",
            "Random Seed = 5\n",
            "----------------\n",
            "[[1918    7]\n",
            " [  53   22]]\n",
            "              precision    recall  f1-score   support\n",
            "\n",
            "          No      0.973     0.996     0.985      1925\n",
            "         Yes      0.759     0.293     0.423        75\n",
            "\n",
            "    accuracy                          0.970      2000\n",
            "   macro avg      0.866     0.645     0.704      2000\n",
            "weighted avg      0.965     0.970     0.964      2000\n",
            "\n",
            "\n",
            "----------------\n",
            "Random Seed = 6\n",
            "----------------\n",
            "[[1938    8]\n",
            " [  36   18]]\n",
            "              precision    recall  f1-score   support\n",
            "\n",
            "          No      0.982     0.996     0.989      1946\n",
            "         Yes      0.692     0.333     0.450        54\n",
            "\n",
            "    accuracy                          0.978      2000\n",
            "   macro avg      0.837     0.665     0.719      2000\n",
            "weighted avg      0.974     0.978     0.974      2000\n",
            "\n",
            "\n",
            "----------------\n",
            "Random Seed = 7\n",
            "----------------\n",
            "[[1919    5]\n",
            " [  58   18]]\n",
            "              precision    recall  f1-score   support\n",
            "\n",
            "          No      0.971     0.997     0.984      1924\n",
            "         Yes      0.783     0.237     0.364        76\n",
            "\n",
            "    accuracy                          0.969      2000\n",
            "   macro avg      0.877     0.617     0.674      2000\n",
            "weighted avg      0.964     0.969     0.960      2000\n",
            "\n",
            "\n",
            "----------------\n",
            "Random Seed = 8\n",
            "----------------\n",
            "[[1922   15]\n",
            " [  45   18]]\n",
            "              precision    recall  f1-score   support\n",
            "\n",
            "          No      0.977     0.992     0.985      1937\n",
            "         Yes      0.545     0.286     0.375        63\n",
            "\n",
            "    accuracy                          0.970      2000\n",
            "   macro avg      0.761     0.639     0.680      2000\n",
            "weighted avg      0.964     0.970     0.965      2000\n",
            "\n",
            "\n",
            "----------------\n",
            "Random Seed = 9\n",
            "----------------\n",
            "[[1917    6]\n",
            " [  58   19]]\n",
            "              precision    recall  f1-score   support\n",
            "\n",
            "          No      0.971     0.997     0.984      1923\n",
            "         Yes      0.760     0.247     0.373        77\n",
            "\n",
            "    accuracy                          0.968      2000\n",
            "   macro avg      0.865     0.622     0.678      2000\n",
            "weighted avg      0.963     0.968     0.960      2000\n",
            "\n",
            "\n",
            "----------------\n",
            "Random Seed = 10\n",
            "----------------\n",
            "[[1925    7]\n",
            " [  50   18]]\n",
            "              precision    recall  f1-score   support\n",
            "\n",
            "          No      0.975     0.996     0.985      1932\n",
            "         Yes      0.720     0.265     0.387        68\n",
            "\n",
            "    accuracy                          0.972      2000\n",
            "   macro avg      0.847     0.631     0.686      2000\n",
            "weighted avg      0.966     0.972     0.965      2000\n",
            "\n",
            "\n"
          ],
          "name": "stdout"
        }
      ]
    },
    {
      "cell_type": "markdown",
      "metadata": {
        "id": "OOg-CCT31YP4"
      },
      "source": [
        "Assignment: Do split test for default dataset and show \n",
        "1.   Confusion matrix\n",
        "2.   Classification Accuracy: Overall, how often is the classifier correct?\n",
        "3.   Classification Error: Overall, how often is the classifier incorrect?\n",
        "4.   Sensitivity or Recall: When the actual value is positive, how often is the prediction correct?.\n",
        "5.   Specificity: When the actual value is negative, how often is the prediction correct?\n"
      ]
    },
    {
      "cell_type": "code",
      "metadata": {
        "colab": {
          "base_uri": "https://localhost:8080/",
          "height": 306
        },
        "id": "URGivOMtQ5SK",
        "outputId": "bcce3b10-130c-47ab-feea-c1ec8646db18"
      },
      "source": [
        "#TYPE COEDE HERE\n",
        "model4 = smf.glm('default_Yes~student+balance', data=Train, family=sm.families.Binomial()).fit()\n",
        "model4.summary()"
      ],
      "execution_count": null,
      "outputs": [
        {
          "output_type": "execute_result",
          "data": {
            "text/html": [
              "<table class=\"simpletable\">\n",
              "<caption>Generalized Linear Model Regression Results</caption>\n",
              "<tr>\n",
              "  <th>Dep. Variable:</th>      <td>default_Yes</td>   <th>  No. Observations:  </th>  <td>  7000</td> \n",
              "</tr>\n",
              "<tr>\n",
              "  <th>Model:</th>                  <td>GLM</td>       <th>  Df Residuals:      </th>  <td>  6997</td> \n",
              "</tr>\n",
              "<tr>\n",
              "  <th>Model Family:</th>        <td>Binomial</td>     <th>  Df Model:          </th>  <td>     2</td> \n",
              "</tr>\n",
              "<tr>\n",
              "  <th>Link Function:</th>         <td>logit</td>      <th>  Scale:             </th> <td>  1.0000</td>\n",
              "</tr>\n",
              "<tr>\n",
              "  <th>Method:</th>                <td>IRLS</td>       <th>  Log-Likelihood:    </th> <td> -513.60</td>\n",
              "</tr>\n",
              "<tr>\n",
              "  <th>Date:</th>            <td>Mon, 14 Jun 2021</td> <th>  Deviance:          </th> <td>  1027.2</td>\n",
              "</tr>\n",
              "<tr>\n",
              "  <th>Time:</th>                <td>18:38:53</td>     <th>  Pearson chi2:      </th> <td>4.45e+03</td>\n",
              "</tr>\n",
              "<tr>\n",
              "  <th>No. Iterations:</th>          <td>9</td>        <th>                     </th>     <td> </td>   \n",
              "</tr>\n",
              "<tr>\n",
              "  <th>Covariance Type:</th>     <td>nonrobust</td>    <th>                     </th>     <td> </td>   \n",
              "</tr>\n",
              "</table>\n",
              "<table class=\"simpletable\">\n",
              "<tr>\n",
              "         <td></td>           <th>coef</th>     <th>std err</th>      <th>z</th>      <th>P>|z|</th>  <th>[0.025</th>    <th>0.975]</th>  \n",
              "</tr>\n",
              "<tr>\n",
              "  <th>Intercept</th>      <td>  -11.2642</td> <td>    0.478</td> <td>  -23.588</td> <td> 0.000</td> <td>  -12.200</td> <td>  -10.328</td>\n",
              "</tr>\n",
              "<tr>\n",
              "  <th>student[T.Yes]</th> <td>   -0.8197</td> <td>    0.183</td> <td>   -4.480</td> <td> 0.000</td> <td>   -1.178</td> <td>   -0.461</td>\n",
              "</tr>\n",
              "<tr>\n",
              "  <th>balance</th>        <td>    0.0061</td> <td>    0.000</td> <td>   20.293</td> <td> 0.000</td> <td>    0.005</td> <td>    0.007</td>\n",
              "</tr>\n",
              "</table>"
            ],
            "text/plain": [
              "<class 'statsmodels.iolib.summary.Summary'>\n",
              "\"\"\"\n",
              "                 Generalized Linear Model Regression Results                  \n",
              "==============================================================================\n",
              "Dep. Variable:            default_Yes   No. Observations:                 7000\n",
              "Model:                            GLM   Df Residuals:                     6997\n",
              "Model Family:                Binomial   Df Model:                            2\n",
              "Link Function:                  logit   Scale:                          1.0000\n",
              "Method:                          IRLS   Log-Likelihood:                -513.60\n",
              "Date:                Mon, 14 Jun 2021   Deviance:                       1027.2\n",
              "Time:                        18:38:53   Pearson chi2:                 4.45e+03\n",
              "No. Iterations:                     9                                         \n",
              "Covariance Type:            nonrobust                                         \n",
              "==================================================================================\n",
              "                     coef    std err          z      P>|z|      [0.025      0.975]\n",
              "----------------------------------------------------------------------------------\n",
              "Intercept        -11.2642      0.478    -23.588      0.000     -12.200     -10.328\n",
              "student[T.Yes]    -0.8197      0.183     -4.480      0.000      -1.178      -0.461\n",
              "balance            0.0061      0.000     20.293      0.000       0.005       0.007\n",
              "==================================================================================\n",
              "\"\"\""
            ]
          },
          "metadata": {
            "tags": []
          },
          "execution_count": 21
        }
      ]
    },
    {
      "cell_type": "code",
      "metadata": {
        "colab": {
          "base_uri": "https://localhost:8080/",
          "height": 304
        },
        "id": "0jIkZ2HbRxYx",
        "outputId": "5f7fb7eb-3069-44f9-b661-297d780a21d2"
      },
      "source": [
        "#1.Confusion matrix\n",
        "#prediction\n",
        "predict_test = model4.predict()\n",
        "cutoff = 0.5\n",
        "y_predict_test = np.where(predict_test > cutoff, 1, 0)\n",
        "y_actual_test = Train['default_Yes']\n",
        "confusion = confusion_matrix(y_actual_test, y_predict_test)\n",
        "\n",
        "#print confusion matrix \n",
        "cmap = sns.cubehelix_palette(50, hue=0.05, rot=0, \n",
        "                             light=0.9, dark=0, as_cmap=True)\n",
        "sns.heatmap(confusion,cmap = cmap,xticklabels=['predicted_default=No',\n",
        "                                          'predicted_default=Yes'],\n",
        "            yticklabels=['actual_default=No',\n",
        "                         'actual_default=Yes'],annot=True, fmt=\"d\")"
      ],
      "execution_count": null,
      "outputs": [
        {
          "output_type": "execute_result",
          "data": {
            "text/plain": [
              "<matplotlib.axes._subplots.AxesSubplot at 0x7f125de7bc10>"
            ]
          },
          "metadata": {
            "tags": []
          },
          "execution_count": 22
        },
        {
          "output_type": "display_data",
          "data": {
            "image/png": "[encoded data removed]",
            "text/plain": [
              "<Figure size 432x288 with 2 Axes>"
            ]
          },
          "metadata": {
            "tags": [],
            "needs_background": "light"
          }
        }
      ]
    },
    {
      "cell_type": "code",
      "metadata": {
        "colab": {
          "base_uri": "https://localhost:8080/"
        },
        "id": "TNMmIVFZSiB3",
        "outputId": "b76936d7-1556-45e0-e43a-406e46a6b3a4"
      },
      "source": [
        "#2.Classification Accuracy: Overall, how often is the classifier correct?\n",
        "TP = confusion[1, 1]\n",
        "TN = confusion[0, 0]\n",
        "FP = confusion[0, 1]\n",
        "FN = confusion[1, 0]\n",
        "\n",
        "accuracy = ((TP+TN)/(TP + TN + FP + FN))\n",
        "accuracy"
      ],
      "execution_count": null,
      "outputs": [
        {
          "output_type": "execute_result",
          "data": {
            "text/plain": [
              "0.9738571428571429"
            ]
          },
          "metadata": {
            "tags": []
          },
          "execution_count": 23
        }
      ]
    },
    {
      "cell_type": "code",
      "metadata": {
        "colab": {
          "base_uri": "https://localhost:8080/"
        },
        "id": "XsJXUSXLT1hn",
        "outputId": "d741eaaa-4739-43ff-f314-f0101fd46717"
      },
      "source": [
        "#3.Classification Error: Overall, how often is the classifier incorrect?\n",
        "classifier_incorrect = 1 - accuracy\n",
        "classifier_incorrect"
      ],
      "execution_count": null,
      "outputs": [
        {
          "output_type": "execute_result",
          "data": {
            "text/plain": [
              "0.026142857142857134"
            ]
          },
          "metadata": {
            "tags": []
          },
          "execution_count": 24
        }
      ]
    },
    {
      "cell_type": "code",
      "metadata": {
        "colab": {
          "base_uri": "https://localhost:8080/"
        },
        "id": "5De2Ae71UN7Y",
        "outputId": "4c9a1295-1e7c-439d-cffd-e40ba3afcccc"
      },
      "source": [
        "#4.Sensitivity or Recall: When the actual value is positive, how often is the prediction correct?.\n",
        "Sensitivity = (TP/(TP + FN))\n",
        "Sensitivity"
      ],
      "execution_count": null,
      "outputs": [
        {
          "output_type": "execute_result",
          "data": {
            "text/plain": [
              "0.3125"
            ]
          },
          "metadata": {
            "tags": []
          },
          "execution_count": 25
        }
      ]
    },
    {
      "cell_type": "code",
      "metadata": {
        "colab": {
          "base_uri": "https://localhost:8080/"
        },
        "id": "9HQuqe0FUPy_",
        "outputId": "ec9e0ad1-3c88-4fd5-8883-8733d9bd1fbb"
      },
      "source": [
        "#5.Specificity: When the actual value is negative, how often is the prediction correct?\n",
        "Specificity = (TN/(TN + FP))\n",
        "Specificity"
      ],
      "execution_count": null,
      "outputs": [
        {
          "output_type": "execute_result",
          "data": {
            "text/plain": [
              "0.9957201889020071"
            ]
          },
          "metadata": {
            "tags": []
          },
          "execution_count": 26
        }
      ]
    },
    {
      "cell_type": "markdown",
      "metadata": {
        "id": "LEG5VsEM-QLi"
      },
      "source": [
        "References:\n",
        "https://onezero.blog/modelling-binary-logistic-regression-using-python-research-oriented-modelling-and-interpretation/\n",
        "https://www.pluralsight.com/guides/interpreting-data-using-statistical-models-python"
      ]
    }
  ]
}