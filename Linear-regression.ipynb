{
  "nbformat": 4,
  "nbformat_minor": 0,
  "metadata": {
    "colab": {
      "name": "LAB05_610510781.ipynb",
      "provenance": [],
      "collapsed_sections": [],
      "include_colab_link": true
    },
    "kernelspec": {
      "name": "python3",
      "display_name": "Python 3"
    }
  },
  "cells": [
    {
      "cell_type": "markdown",
      "metadata": {
        "id": "view-in-github",
        "colab_type": "text"
      },
      "source": [
        "<a href=\"https://colab.research.google.com/github/prxrwx/Stat-learning-for-datasci/blob/main/Linear-regression.ipynb\" target=\"_parent\"><img src=\"https://colab.research.google.com/assets/colab-badge.svg\" alt=\"Open In Colab\"/></a>"
      ]
    },
    {
      "cell_type": "code",
      "metadata": {
        "id": "5Tebr3-dBKxj",
        "colab": {
          "base_uri": "https://localhost:8080/"
        },
        "outputId": "25eb5d25-52e4-43fb-820b-b4d315fa367e"
      },
      "source": [
        "# import module\n",
        "\n",
        "import numpy as np\n",
        "import pandas as pd\n",
        "from scipy import stats\n",
        "!wget http://www.donlapark.cmustat.com/229351/data/Auto.csv"
      ],
      "execution_count": null,
      "outputs": [
        {
          "output_type": "stream",
          "name": "stdout",
          "text": [
            "--2021-12-13 04:31:52--  http://www.donlapark.cmustat.com/229351/data/Auto.csv\n",
            "Resolving www.donlapark.cmustat.com (www.donlapark.cmustat.com)... 150.107.31.67\n",
            "Connecting to www.donlapark.cmustat.com (www.donlapark.cmustat.com)|150.107.31.67|:80... connected.\n",
            "HTTP request sent, awaiting response... 200 OK\n",
            "Length: 18079 (18K) [text/csv]\n",
            "Saving to: ‘Auto.csv’\n",
            "\n",
            "Auto.csv            100%[===================>]  17.66K  72.4KB/s    in 0.2s    \n",
            "\n",
            "2021-12-13 04:31:53 (72.4 KB/s) - ‘Auto.csv’ saved [18079/18079]\n",
            "\n"
          ]
        }
      ]
    },
    {
      "cell_type": "code",
      "metadata": {
        "id": "O_4Mr2OWaAae",
        "colab": {
          "base_uri": "https://localhost:8080/",
          "height": 206
        },
        "outputId": "55264bfa-c40a-4b3a-8d3f-94c6c0a7151c"
      },
      "source": [
        "# อ่านไฟล์ csv ก่อนเพื่อหา missing values\n",
        "auto_df = pd.read_csv('Auto.csv',na_values=[\"?\"])\n",
        "\n",
        "# ลบแถวที่มี missing values\n",
        "auto_df = auto_df.dropna()\n",
        "auto_df.head()"
      ],
      "execution_count": null,
      "outputs": [
        {
          "output_type": "execute_result",
          "data": {
            "text/html": [
              "<div>\n",
              "<style scoped>\n",
              "    .dataframe tbody tr th:only-of-type {\n",
              "        vertical-align: middle;\n",
              "    }\n",
              "\n",
              "    .dataframe tbody tr th {\n",
              "        vertical-align: top;\n",
              "    }\n",
              "\n",
              "    .dataframe thead th {\n",
              "        text-align: right;\n",
              "    }\n",
              "</style>\n",
              "<table border=\"1\" class=\"dataframe\">\n",
              "  <thead>\n",
              "    <tr style=\"text-align: right;\">\n",
              "      <th></th>\n",
              "      <th>mpg</th>\n",
              "      <th>cylinders</th>\n",
              "      <th>displacement</th>\n",
              "      <th>horsepower</th>\n",
              "      <th>weight</th>\n",
              "      <th>acceleration</th>\n",
              "      <th>year</th>\n",
              "      <th>origin</th>\n",
              "      <th>name</th>\n",
              "    </tr>\n",
              "  </thead>\n",
              "  <tbody>\n",
              "    <tr>\n",
              "      <th>0</th>\n",
              "      <td>18.0</td>\n",
              "      <td>8</td>\n",
              "      <td>307.0</td>\n",
              "      <td>130.0</td>\n",
              "      <td>3504</td>\n",
              "      <td>12.0</td>\n",
              "      <td>70</td>\n",
              "      <td>1</td>\n",
              "      <td>chevrolet chevelle malibu</td>\n",
              "    </tr>\n",
              "    <tr>\n",
              "      <th>1</th>\n",
              "      <td>15.0</td>\n",
              "      <td>8</td>\n",
              "      <td>350.0</td>\n",
              "      <td>165.0</td>\n",
              "      <td>3693</td>\n",
              "      <td>11.5</td>\n",
              "      <td>70</td>\n",
              "      <td>1</td>\n",
              "      <td>buick skylark 320</td>\n",
              "    </tr>\n",
              "    <tr>\n",
              "      <th>2</th>\n",
              "      <td>18.0</td>\n",
              "      <td>8</td>\n",
              "      <td>318.0</td>\n",
              "      <td>150.0</td>\n",
              "      <td>3436</td>\n",
              "      <td>11.0</td>\n",
              "      <td>70</td>\n",
              "      <td>1</td>\n",
              "      <td>plymouth satellite</td>\n",
              "    </tr>\n",
              "    <tr>\n",
              "      <th>3</th>\n",
              "      <td>16.0</td>\n",
              "      <td>8</td>\n",
              "      <td>304.0</td>\n",
              "      <td>150.0</td>\n",
              "      <td>3433</td>\n",
              "      <td>12.0</td>\n",
              "      <td>70</td>\n",
              "      <td>1</td>\n",
              "      <td>amc rebel sst</td>\n",
              "    </tr>\n",
              "    <tr>\n",
              "      <th>4</th>\n",
              "      <td>17.0</td>\n",
              "      <td>8</td>\n",
              "      <td>302.0</td>\n",
              "      <td>140.0</td>\n",
              "      <td>3449</td>\n",
              "      <td>10.5</td>\n",
              "      <td>70</td>\n",
              "      <td>1</td>\n",
              "      <td>ford torino</td>\n",
              "    </tr>\n",
              "  </tbody>\n",
              "</table>\n",
              "</div>"
            ],
            "text/plain": [
              "    mpg  cylinders  displacement  ...  year  origin                       name\n",
              "0  18.0          8         307.0  ...    70       1  chevrolet chevelle malibu\n",
              "1  15.0          8         350.0  ...    70       1          buick skylark 320\n",
              "2  18.0          8         318.0  ...    70       1         plymouth satellite\n",
              "3  16.0          8         304.0  ...    70       1              amc rebel sst\n",
              "4  17.0          8         302.0  ...    70       1                ford torino\n",
              "\n",
              "[5 rows x 9 columns]"
            ]
          },
          "metadata": {},
          "execution_count": 5
        }
      ]
    },
    {
      "cell_type": "code",
      "metadata": {
        "id": "XlOmwZlvQXAR",
        "colab": {
          "base_uri": "https://localhost:8080/"
        },
        "outputId": "e691ab87-7427-4283-914e-0018c1f3531a"
      },
      "source": [
        "auto_df.info()"
      ],
      "execution_count": null,
      "outputs": [
        {
          "output_type": "stream",
          "name": "stdout",
          "text": [
            "<class 'pandas.core.frame.DataFrame'>\n",
            "Int64Index: 392 entries, 0 to 396\n",
            "Data columns (total 9 columns):\n",
            " #   Column        Non-Null Count  Dtype  \n",
            "---  ------        --------------  -----  \n",
            " 0   mpg           392 non-null    float64\n",
            " 1   cylinders     392 non-null    int64  \n",
            " 2   displacement  392 non-null    float64\n",
            " 3   horsepower    392 non-null    float64\n",
            " 4   weight        392 non-null    int64  \n",
            " 5   acceleration  392 non-null    float64\n",
            " 6   year          392 non-null    int64  \n",
            " 7   origin        392 non-null    int64  \n",
            " 8   name          392 non-null    object \n",
            "dtypes: float64(4), int64(4), object(1)\n",
            "memory usage: 30.6+ KB\n"
          ]
        }
      ]
    },
    {
      "cell_type": "markdown",
      "metadata": {
        "id": "zfagQVgUX-FG"
      },
      "source": [
        "* Predictor: $X = [x_1,x_2,\\ldots,x_n]$\n",
        "* Response: $y = [y_1,y_2,\\ldots,y_n]$\n",
        "* สมการ $\\hat{y}_i = \\hat{\\beta}_0+\\hat{\\beta}_1x_i, \\ \\ \\ \\ $     $ i=1,2,\\ldots,n$  "
      ]
    },
    {
      "cell_type": "code",
      "metadata": {
        "id": "d27hjkZXX-OR"
      },
      "source": [
        "X = auto_df['horsepower']\n",
        "y = auto_df['mpg']"
      ],
      "execution_count": null,
      "outputs": []
    },
    {
      "cell_type": "markdown",
      "metadata": {
        "id": "DntRinCFiSMx"
      },
      "source": [
        "คำนวณสัมประสิทธิ์ $\\hat{\\beta}_0,\\hat{\\beta}_1$ ด้วยสูตร\n",
        "\\begin{align*}\n",
        "\\hat{\\beta}_1 &= \\frac{\\sum_{i=1}^n (x_i-\\bar{x})(y_i-\\bar{y})}{\\sum_{i=1}^n (x_i-\\bar{x})^2} \\\\\n",
        "&= \\frac{\\text{Cov}(X,y)}{\\text{Var}(X)}\\\\\n",
        "\\hat{\\beta}_0 &= \\bar{y}-\\hat{\\beta}_1\\bar{x}\n",
        "\\end{align*}\n",
        "  \n",
        "ใช้คำสั่ง $\\texttt{np.cov(X,y)}=\\begin{pmatrix}\n",
        "\\text{Var}(X)  & \\text{Cov}(X,y) \\\\\n",
        "\\text{Cov}(y,X)  & \\text{Var}(y)\n",
        "\\end{pmatrix}\n",
        "$ สำหรับ covariance matrix ระหว่างเวกเตอร์ $\\texttt{X}$ และ $\\texttt{y}$  \n",
        "ใช้คำสั่ง $\\texttt{np.mean(X)}$ และ $\\texttt{np.mean(y)}$ สำหรับค่าเฉลี่ยของเวกเตอร์ $\\texttt{X}$ และ $\\texttt{y}$"
      ]
    },
    {
      "cell_type": "code",
      "metadata": {
        "id": "-gCRXKb8fkuH"
      },
      "source": [
        "# Let's start by implementing linear regression from scratch\n",
        "# using numpy linear algebra\n",
        "\n",
        "def linear_model(X, y):\n",
        "    CoV = np.cov(X,y)\n",
        "    beta_1 = CoV[0, 1] / CoV[0, 0]\n",
        "    beta_0 = np.mean(y) - beta_1 * np.mean(X)\n",
        "    return beta_0 , beta_1 \n",
        "\n",
        "def predict(beta_0 , beta_1, X):\n",
        "    return beta_0 + beta_1 * X"
      ],
      "execution_count": null,
      "outputs": []
    },
    {
      "cell_type": "code",
      "metadata": {
        "id": "tPeMAsffqPFR",
        "colab": {
          "base_uri": "https://localhost:8080/"
        },
        "outputId": "28e0ad61-bfb9-446e-a0e3-45361eac9d42"
      },
      "source": [
        "beta_0, beta_1 = linear_model(X, y)\n",
        "y_pred = predict(beta_0 , beta_1, X)\n",
        "\n",
        "print(beta_0, beta_1)"
      ],
      "execution_count": null,
      "outputs": [
        {
          "output_type": "stream",
          "name": "stdout",
          "text": [
            "39.93586102117046 -0.1578447333536535\n"
          ]
        }
      ]
    },
    {
      "cell_type": "code",
      "metadata": {
        "id": "_vthb9XCiYfo",
        "colab": {
          "base_uri": "https://localhost:8080/"
        },
        "outputId": "c1032a26-051a-4485-80ee-127c748c5fdc"
      },
      "source": [
        "####นับจำนวนข้อมูล\n",
        "\n",
        "print(y.shape)\n",
        "\n",
        "n = y.shape[0]\n",
        "print(n)"
      ],
      "execution_count": null,
      "outputs": [
        {
          "output_type": "stream",
          "name": "stdout",
          "text": [
            "(392,)\n",
            "392\n"
          ]
        }
      ]
    },
    {
      "cell_type": "markdown",
      "metadata": {
        "id": "wbRqP-L9qFRX"
      },
      "source": [
        "####คำนวณ Residual Sum of Squares (RSS)\n",
        "$$ \\text{RSS} = \\sum_{i=1}^n (y_i-\\hat{y}_i)^2 $$\n",
        "โดยใช้คำสั่งต่อไปนี้\n",
        "\n",
        "$\\texttt{np.sum}([x_1,x_2,...,x_n])=x_1+x_2+...+x_n$\n",
        "\n",
        "$\\texttt{np.square}([x_1,x_2,...,x_n])=[x_1^2,x^2_2,...,x^2_n]$"
      ]
    },
    {
      "cell_type": "code",
      "metadata": {
        "id": "pYAI-2fhqFvx",
        "colab": {
          "base_uri": "https://localhost:8080/"
        },
        "outputId": "e8978291-432f-470d-aab5-6c4de21e7627"
      },
      "source": [
        "# Calculate Residual Sum of Squares\n",
        "RSS = np.sum(np.square(y - y_pred ))\n",
        "\n",
        "print(RSS)"
      ],
      "execution_count": null,
      "outputs": [
        {
          "output_type": "stream",
          "name": "stdout",
          "text": [
            "9385.915871932419\n"
          ]
        }
      ]
    },
    {
      "cell_type": "markdown",
      "metadata": {
        "id": "iLm_WXA7ryIl"
      },
      "source": [
        "####คำนวณ Residual Standard Error (RSE)  \n",
        "$$  \\text{RSE} = \\sqrt{\\frac{\\text{RSS}}{n-2}} $$"
      ]
    },
    {
      "cell_type": "code",
      "metadata": {
        "id": "Bcg0yIPTsLPB",
        "colab": {
          "base_uri": "https://localhost:8080/"
        },
        "outputId": "5bac0eb4-7906-4465-de7e-72cab929c453"
      },
      "source": [
        "# Calculate Residual Standard Error\n",
        "RSE = np.sqrt(RSS/(n-2))\n",
        "\n",
        "print(RSE)"
      ],
      "execution_count": null,
      "outputs": [
        {
          "output_type": "stream",
          "name": "stdout",
          "text": [
            "4.90575691954594\n"
          ]
        }
      ]
    },
    {
      "cell_type": "markdown",
      "metadata": {
        "id": "tqmOPP4ctv7S"
      },
      "source": [
        "####Code ข้างล่างนี้ใช้คำนวณ Standard Error (SE)  \n",
        "\\begin{align*}\n",
        "\\text{SE}(\\hat{\\beta}_0) &= \\text{RSE}\\sqrt{\\frac{1}{n}+\\frac{\\bar{x}^2}{\\sum_{i=1}^n (x_i-\\bar{x})^2}} \\\\\n",
        "\\text{SE}(\\hat{\\beta}_1) &= \\text{RSE}\\sqrt{\\frac{1}{\\sum_{i=1}^n (x_i-\\bar{x})^2}}\n",
        "\\end{align*}\n",
        "ผลลัพธ์ที่ได้เป็น numpy array ที่มีสมาชิก 2 ตัว"
      ]
    },
    {
      "cell_type": "code",
      "metadata": {
        "id": "IJwkRoYlt8U_",
        "colab": {
          "base_uri": "https://localhost:8080/"
        },
        "outputId": "334b5ac3-f760-4ae8-bae7-f9e4f84e40fc"
      },
      "source": [
        "# Calculate the standard error of each coefficients\n",
        "\n",
        "# SE(Beta0)\n",
        "SE_beta_0 = RSE * np.sqrt( (1/n) + (np.square(np.mean(X)))/(np.sum(np.square(X - np.mean(X)))))\n",
        "\n",
        "# SE(Beta1)\n",
        "SE_beta_1 = RSE * np.sqrt(1/(np.sum(np.square(X - np.mean(X)))))\n",
        "\n",
        "print('SE(β₀): ', SE_beta_0)\n",
        "print('SE(β₁): ', SE_beta_1)"
      ],
      "execution_count": null,
      "outputs": [
        {
          "output_type": "stream",
          "name": "stdout",
          "text": [
            "SE(β₀):  0.7174986555545264\n",
            "SE(β₁):  0.006445500517685034\n"
          ]
        }
      ]
    },
    {
      "cell_type": "markdown",
      "metadata": {
        "id": "t0nejek4uCGc"
      },
      "source": [
        "####คำนวณขอบล่าง (lower) และขอบบน (upper) ของ confidence interval\n",
        "$$I_i = [\\hat{\\beta}_i-2\\cdot\\text{SE}(\\hat{\\beta}_i),\\hat{\\beta}_i+2\\cdot\\text{SE}(\\hat{\\beta}_i)]$$\n",
        "แต่ละค่าที่ได้ต้องเป็นเวกเตอร์หรือ numpy array ที่มีสมาชิก 2 ตัว"
      ]
    },
    {
      "cell_type": "code",
      "metadata": {
        "id": "R9mNKz9quCW5",
        "colab": {
          "base_uri": "https://localhost:8080/"
        },
        "outputId": "984e433b-1b70-4072-fbfb-bee0b6725b0b"
      },
      "source": [
        "# Calculate 95% confidence interval\n",
        "\n",
        "# Confidence interval of beta0 \n",
        "lower_0 = beta_0 - 2 * SE_beta_0\n",
        "upper_0 = beta_0 + 2 * SE_beta_0\n",
        "\n",
        "# Confidence interval of beta1\n",
        "lower_1 = beta_1 - 2 * SE_beta_1\n",
        "upper_1 = beta_1 + 2 * SE_beta_1\n",
        "\n",
        "print(f'Confidence interval of β₀: [{lower_0},{upper_0}]')\n",
        "print(f'Confidence interval of β₁: [{lower_1},{upper_1}]')"
      ],
      "execution_count": null,
      "outputs": [
        {
          "output_type": "stream",
          "name": "stdout",
          "text": [
            "Confidence interval of β₀: [38.50086371006141,41.37085833227951]\n",
            "Confidence interval of β₁: [-0.17073573438902356,-0.14495373231828346]\n"
          ]
        }
      ]
    },
    {
      "cell_type": "markdown",
      "metadata": {
        "id": "X3FQua64uLvr"
      },
      "source": [
        "#### Code ข้างล่างนี้แสดงผลของค่าทั้งหมดที่เราคำนวณไปแล้ว"
      ]
    },
    {
      "cell_type": "code",
      "metadata": {
        "id": "TWoz-qMICQsv",
        "colab": {
          "base_uri": "https://localhost:8080/",
          "height": 112
        },
        "outputId": "b9465415-c9a1-4e61-ad9f-19aa2cf5e4ee"
      },
      "source": [
        "X = auto_df['horsepower']\n",
        "\n",
        "# Present results\n",
        "results = pd.DataFrame({'feature': ['Intercept', X.name],\n",
        "                        'coefficients': [beta_0,beta_1],\n",
        "                        'standard_error': [SE_beta_0,SE_beta_1],\n",
        "                        '[0.025': [lower_0,lower_1],\n",
        "                        '0.975]': [upper_0,upper_1]})\n",
        "\n",
        "results"
      ],
      "execution_count": null,
      "outputs": [
        {
          "output_type": "execute_result",
          "data": {
            "text/html": [
              "<div>\n",
              "<style scoped>\n",
              "    .dataframe tbody tr th:only-of-type {\n",
              "        vertical-align: middle;\n",
              "    }\n",
              "\n",
              "    .dataframe tbody tr th {\n",
              "        vertical-align: top;\n",
              "    }\n",
              "\n",
              "    .dataframe thead th {\n",
              "        text-align: right;\n",
              "    }\n",
              "</style>\n",
              "<table border=\"1\" class=\"dataframe\">\n",
              "  <thead>\n",
              "    <tr style=\"text-align: right;\">\n",
              "      <th></th>\n",
              "      <th>feature</th>\n",
              "      <th>coefficients</th>\n",
              "      <th>standard_error</th>\n",
              "      <th>[0.025</th>\n",
              "      <th>0.975]</th>\n",
              "    </tr>\n",
              "  </thead>\n",
              "  <tbody>\n",
              "    <tr>\n",
              "      <th>0</th>\n",
              "      <td>Intercept</td>\n",
              "      <td>39.935861</td>\n",
              "      <td>0.717499</td>\n",
              "      <td>38.500864</td>\n",
              "      <td>41.370858</td>\n",
              "    </tr>\n",
              "    <tr>\n",
              "      <th>1</th>\n",
              "      <td>horsepower</td>\n",
              "      <td>-0.157845</td>\n",
              "      <td>0.006446</td>\n",
              "      <td>-0.170736</td>\n",
              "      <td>-0.144954</td>\n",
              "    </tr>\n",
              "  </tbody>\n",
              "</table>\n",
              "</div>"
            ],
            "text/plain": [
              "      feature  coefficients  standard_error     [0.025     0.975]\n",
              "0   Intercept     39.935861        0.717499  38.500864  41.370858\n",
              "1  horsepower     -0.157845        0.006446  -0.170736  -0.144954"
            ]
          },
          "metadata": {},
          "execution_count": 16
        }
      ]
    },
    {
      "cell_type": "markdown",
      "metadata": {
        "id": "kvxBs5Hlk5rZ"
      },
      "source": [
        "#### statsmodels library สามารถคำนวณค่าต่าง ๆ เหล่านี้ได้ ผลที่แสดงจะคล้ายกับใน R  \n",
        "#### มีสองวิธึในการทำ linear regression: $\\texttt{statsmodels.api.sm.OLS}$ \n",
        "#### และ $\\texttt{statsmodels.formula.api.smf.ols}$"
      ]
    },
    {
      "cell_type": "code",
      "metadata": {
        "id": "2srU_UiTbhS9",
        "colab": {
          "base_uri": "https://localhost:8080/"
        },
        "outputId": "78b47684-a35a-4c53-ff27-eeab74d47863"
      },
      "source": [
        "# The statsmodels library provides a convenient means to get the\n",
        "# same statistics\n",
        "import statsmodels.api as sm\n",
        "\n",
        "X = auto_df['horsepower']\n",
        "\n",
        "# add bias constant; \n",
        "#without this the equation turns into y = βx\n",
        "X_one = sm.add_constant(X)     \n",
        "\n",
        "y = auto_df['mpg']\n",
        "\n",
        "# syntax is OLS(response, predictor)\n",
        "Model = sm.OLS(y, X_one) \n",
        "results = Model.fit()\n",
        "print(results.summary())"
      ],
      "execution_count": null,
      "outputs": [
        {
          "output_type": "stream",
          "name": "stderr",
          "text": [
            "/usr/local/lib/python3.7/dist-packages/statsmodels/tools/_testing.py:19: FutureWarning: pandas.util.testing is deprecated. Use the functions in the public API at pandas.testing instead.\n",
            "  import pandas.util.testing as tm\n"
          ]
        },
        {
          "output_type": "stream",
          "name": "stdout",
          "text": [
            "                            OLS Regression Results                            \n",
            "==============================================================================\n",
            "Dep. Variable:                    mpg   R-squared:                       0.606\n",
            "Model:                            OLS   Adj. R-squared:                  0.605\n",
            "Method:                 Least Squares   F-statistic:                     599.7\n",
            "Date:                Mon, 13 Dec 2021   Prob (F-statistic):           7.03e-81\n",
            "Time:                        04:44:19   Log-Likelihood:                -1178.7\n",
            "No. Observations:                 392   AIC:                             2361.\n",
            "Df Residuals:                     390   BIC:                             2369.\n",
            "Df Model:                           1                                         \n",
            "Covariance Type:            nonrobust                                         \n",
            "==============================================================================\n",
            "                 coef    std err          t      P>|t|      [0.025      0.975]\n",
            "------------------------------------------------------------------------------\n",
            "const         39.9359      0.717     55.660      0.000      38.525      41.347\n",
            "horsepower    -0.1578      0.006    -24.489      0.000      -0.171      -0.145\n",
            "==============================================================================\n",
            "Omnibus:                       16.432   Durbin-Watson:                   0.920\n",
            "Prob(Omnibus):                  0.000   Jarque-Bera (JB):               17.305\n",
            "Skew:                           0.492   Prob(JB):                     0.000175\n",
            "Kurtosis:                       3.299   Cond. No.                         322.\n",
            "==============================================================================\n",
            "\n",
            "Warnings:\n",
            "[1] Standard Errors assume that the covariance matrix of the errors is correctly specified.\n"
          ]
        }
      ]
    },
    {
      "cell_type": "code",
      "metadata": {
        "id": "9JpkxeQd2i8a",
        "colab": {
          "base_uri": "https://localhost:8080/"
        },
        "outputId": "d3aba951-2b31-4948-985e-239adc5c3e78"
      },
      "source": [
        "import statsmodels.formula.api as smf\n",
        "\n",
        "#syntax is ols(formula, dataset)\n",
        "model = smf.ols('mpg ~ horsepower', auto_df)\n",
        "results = model.fit()\n",
        "print(results.summary())"
      ],
      "execution_count": null,
      "outputs": [
        {
          "output_type": "stream",
          "name": "stdout",
          "text": [
            "                            OLS Regression Results                            \n",
            "==============================================================================\n",
            "Dep. Variable:                    mpg   R-squared:                       0.606\n",
            "Model:                            OLS   Adj. R-squared:                  0.605\n",
            "Method:                 Least Squares   F-statistic:                     599.7\n",
            "Date:                Mon, 13 Dec 2021   Prob (F-statistic):           7.03e-81\n",
            "Time:                        04:44:36   Log-Likelihood:                -1178.7\n",
            "No. Observations:                 392   AIC:                             2361.\n",
            "Df Residuals:                     390   BIC:                             2369.\n",
            "Df Model:                           1                                         \n",
            "Covariance Type:            nonrobust                                         \n",
            "==============================================================================\n",
            "                 coef    std err          t      P>|t|      [0.025      0.975]\n",
            "------------------------------------------------------------------------------\n",
            "Intercept     39.9359      0.717     55.660      0.000      38.525      41.347\n",
            "horsepower    -0.1578      0.006    -24.489      0.000      -0.171      -0.145\n",
            "==============================================================================\n",
            "Omnibus:                       16.432   Durbin-Watson:                   0.920\n",
            "Prob(Omnibus):                  0.000   Jarque-Bera (JB):               17.305\n",
            "Skew:                           0.492   Prob(JB):                     0.000175\n",
            "Kurtosis:                       3.299   Cond. No.                         322.\n",
            "==============================================================================\n",
            "\n",
            "Warnings:\n",
            "[1] Standard Errors assume that the covariance matrix of the errors is correctly specified.\n"
          ]
        }
      ]
    },
    {
      "cell_type": "code",
      "metadata": {
        "id": "6uyxC6jv_sBn",
        "colab": {
          "base_uri": "https://localhost:8080/",
          "height": 206
        },
        "outputId": "0d200fa9-b297-4e05-a407-293058b0c7a0"
      },
      "source": [
        "auto_df.head()"
      ],
      "execution_count": null,
      "outputs": [
        {
          "output_type": "execute_result",
          "data": {
            "text/html": [
              "<div>\n",
              "<style scoped>\n",
              "    .dataframe tbody tr th:only-of-type {\n",
              "        vertical-align: middle;\n",
              "    }\n",
              "\n",
              "    .dataframe tbody tr th {\n",
              "        vertical-align: top;\n",
              "    }\n",
              "\n",
              "    .dataframe thead th {\n",
              "        text-align: right;\n",
              "    }\n",
              "</style>\n",
              "<table border=\"1\" class=\"dataframe\">\n",
              "  <thead>\n",
              "    <tr style=\"text-align: right;\">\n",
              "      <th></th>\n",
              "      <th>mpg</th>\n",
              "      <th>cylinders</th>\n",
              "      <th>displacement</th>\n",
              "      <th>horsepower</th>\n",
              "      <th>weight</th>\n",
              "      <th>acceleration</th>\n",
              "      <th>year</th>\n",
              "      <th>origin</th>\n",
              "      <th>name</th>\n",
              "    </tr>\n",
              "  </thead>\n",
              "  <tbody>\n",
              "    <tr>\n",
              "      <th>0</th>\n",
              "      <td>18.0</td>\n",
              "      <td>8</td>\n",
              "      <td>307.0</td>\n",
              "      <td>130.0</td>\n",
              "      <td>3504</td>\n",
              "      <td>12.0</td>\n",
              "      <td>70</td>\n",
              "      <td>1</td>\n",
              "      <td>chevrolet chevelle malibu</td>\n",
              "    </tr>\n",
              "    <tr>\n",
              "      <th>1</th>\n",
              "      <td>15.0</td>\n",
              "      <td>8</td>\n",
              "      <td>350.0</td>\n",
              "      <td>165.0</td>\n",
              "      <td>3693</td>\n",
              "      <td>11.5</td>\n",
              "      <td>70</td>\n",
              "      <td>1</td>\n",
              "      <td>buick skylark 320</td>\n",
              "    </tr>\n",
              "    <tr>\n",
              "      <th>2</th>\n",
              "      <td>18.0</td>\n",
              "      <td>8</td>\n",
              "      <td>318.0</td>\n",
              "      <td>150.0</td>\n",
              "      <td>3436</td>\n",
              "      <td>11.0</td>\n",
              "      <td>70</td>\n",
              "      <td>1</td>\n",
              "      <td>plymouth satellite</td>\n",
              "    </tr>\n",
              "    <tr>\n",
              "      <th>3</th>\n",
              "      <td>16.0</td>\n",
              "      <td>8</td>\n",
              "      <td>304.0</td>\n",
              "      <td>150.0</td>\n",
              "      <td>3433</td>\n",
              "      <td>12.0</td>\n",
              "      <td>70</td>\n",
              "      <td>1</td>\n",
              "      <td>amc rebel sst</td>\n",
              "    </tr>\n",
              "    <tr>\n",
              "      <th>4</th>\n",
              "      <td>17.0</td>\n",
              "      <td>8</td>\n",
              "      <td>302.0</td>\n",
              "      <td>140.0</td>\n",
              "      <td>3449</td>\n",
              "      <td>10.5</td>\n",
              "      <td>70</td>\n",
              "      <td>1</td>\n",
              "      <td>ford torino</td>\n",
              "    </tr>\n",
              "  </tbody>\n",
              "</table>\n",
              "</div>"
            ],
            "text/plain": [
              "    mpg  cylinders  displacement  ...  year  origin                       name\n",
              "0  18.0          8         307.0  ...    70       1  chevrolet chevelle malibu\n",
              "1  15.0          8         350.0  ...    70       1          buick skylark 320\n",
              "2  18.0          8         318.0  ...    70       1         plymouth satellite\n",
              "3  16.0          8         304.0  ...    70       1              amc rebel sst\n",
              "4  17.0          8         302.0  ...    70       1                ford torino\n",
              "\n",
              "[5 rows x 9 columns]"
            ]
          },
          "metadata": {},
          "execution_count": 25
        }
      ]
    },
    {
      "cell_type": "markdown",
      "metadata": {
        "id": "pp8J2lKI0Vea"
      },
      "source": [
        "####จงตอบคำถามต่อไปนี้\n",
        "\n",
        "1. จากโมเดลนี้ ถ้ารถยนต์มีแรงม้า 200 hp จะมีระยะการวิ่งเท่าไหร่ต่อแกลลอน\n",
        "2. จงบอกความหมายของช่วงความเชื่อมั่นของ $\\beta_1$ ที่ได้\n",
        "3. ระหว่างช่วงความเชื่อมั่นของ $\\beta_0$ และ $\\beta_1$ ช่วงของสัมประสิทธิ์ใดกว้างกว่า"
      ]
    },
    {
      "cell_type": "code",
      "source": [
        "print(beta_0+200*beta_1)"
      ],
      "metadata": {
        "colab": {
          "base_uri": "https://localhost:8080/"
        },
        "id": "DIqxEQ9qHfqQ",
        "outputId": "c3bbae8d-4435-4977-fc9d-c2241bd1ccc2"
      },
      "execution_count": null,
      "outputs": [
        {
          "output_type": "stream",
          "name": "stdout",
          "text": [
            "8.366914350439757\n"
          ]
        }
      ]
    },
    {
      "cell_type": "markdown",
      "metadata": {
        "id": "zGy6s2U804YQ"
      },
      "source": [
        "> 1. ถ้ารถยนต์มีแรงม้า 200 hp จะมีระยะการวิ่ง 8.37 mile/gal"
      ]
    },
    {
      "cell_type": "markdown",
      "source": [
        "> 2. มีความเป็นไปได้ 95% mujเมื่อรถยนต์มีแรงม้าเพิ่มขึ้น 1 hp ระยะการวิ่งของรถยนต์จะ**ลดลง**ในช่วง 0.171 ถึง 0.145 mile/gal"
      ],
      "metadata": {
        "id": "S2jBu3CUJo7U"
      }
    },
    {
      "cell_type": "markdown",
      "source": [
        "> 3. ช่วงความเชื่อมั่นของสัมประสิทธิ์ $\\beta_0$ กว้างกว่าช่วงความเชื่อมั่นของสัมประสิทธิ์ $\\beta_1$ "
      ],
      "metadata": {
        "id": "4ymf0A_AKC0u"
      }
    },
    {
      "cell_type": "code",
      "metadata": {
        "id": "A4qDXQ97Dqjk",
        "colab": {
          "base_uri": "https://localhost:8080/",
          "height": 265
        },
        "outputId": "78e72c8d-1f54-4c54-b6e3-5bfd79c69d6e"
      },
      "source": [
        "import matplotlib.pyplot as plt\n",
        "\n",
        "X = auto_df['horsepower']\n",
        "\n",
        "# Scatter plot ของ x และ y\n",
        "plt.scatter(X, y)\n",
        "\n",
        "# เส้นของ linear regression\n",
        "plt.plot(X, y_pred);"
      ],
      "execution_count": null,
      "outputs": [
        {
          "output_type": "display_data",
          "data": {
            "image/png": "[encoded data removed]",
            "text/plain": [
              "<Figure size 432x288 with 1 Axes>"
            ]
          },
          "metadata": {
            "needs_background": "light"
          }
        }
      ]
    }
  ]
}