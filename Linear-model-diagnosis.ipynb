{
  "nbformat": 4,
  "nbformat_minor": 0,
  "metadata": {
    "colab": {
      "name": "Lab07_610510781.ipynb",
      "provenance": [],
      "collapsed_sections": [],
      "include_colab_link": true
    },
    "kernelspec": {
      "name": "python3",
      "display_name": "Python 3"
    }
  },
  "cells": [
    {
      "cell_type": "markdown",
      "metadata": {
        "id": "view-in-github",
        "colab_type": "text"
      },
      "source": [
        "<a href=\"https://colab.research.google.com/github/prxrwx/Stat-learning-for-datasci/blob/main/Linear-model-diagnosis.ipynb\" target=\"_parent\"><img src=\"https://colab.research.google.com/assets/colab-badge.svg\" alt=\"Open In Colab\"/></a>"
      ]
    },
    {
      "cell_type": "code",
      "metadata": {
        "id": "ntO6KNB7A24q",
        "colab": {
          "base_uri": "https://localhost:8080/"
        },
        "outputId": "13cd58d1-41e1-40ee-838b-ad59c2895820"
      },
      "source": [
        "# import module\n",
        "import numpy as np\n",
        "import pandas as pd\n",
        "import matplotlib.pyplot as plt\n",
        "from scipy import stats\n",
        "\n",
        "# StatsModels\n",
        "!pip install statsmodels\n",
        "import statsmodels.api as sm\n",
        "import statsmodels.formula.api as smf\n",
        "\n",
        "# Download the file\n",
        "!pip install wget\n",
        "!python -m wget -o Auto.csv http://www.donlapark.cmustat.com/229351/data/Auto.csv"
      ],
      "execution_count": null,
      "outputs": [
        {
          "output_type": "stream",
          "name": "stdout",
          "text": [
            "Requirement already satisfied: statsmodels in /usr/local/lib/python3.7/dist-packages (0.10.2)\n",
            "Requirement already satisfied: scipy>=0.18 in /usr/local/lib/python3.7/dist-packages (from statsmodels) (1.4.1)\n",
            "Requirement already satisfied: pandas>=0.19 in /usr/local/lib/python3.7/dist-packages (from statsmodels) (1.1.5)\n",
            "Requirement already satisfied: numpy>=1.11 in /usr/local/lib/python3.7/dist-packages (from statsmodels) (1.19.5)\n",
            "Requirement already satisfied: patsy>=0.4.0 in /usr/local/lib/python3.7/dist-packages (from statsmodels) (0.5.2)\n",
            "Requirement already satisfied: pytz>=2017.2 in /usr/local/lib/python3.7/dist-packages (from pandas>=0.19->statsmodels) (2018.9)\n",
            "Requirement already satisfied: python-dateutil>=2.7.3 in /usr/local/lib/python3.7/dist-packages (from pandas>=0.19->statsmodels) (2.8.2)\n",
            "Requirement already satisfied: six in /usr/local/lib/python3.7/dist-packages (from patsy>=0.4.0->statsmodels) (1.15.0)\n"
          ]
        },
        {
          "output_type": "stream",
          "name": "stderr",
          "text": [
            "/usr/local/lib/python3.7/dist-packages/statsmodels/tools/_testing.py:19: FutureWarning: pandas.util.testing is deprecated. Use the functions in the public API at pandas.testing instead.\n",
            "  import pandas.util.testing as tm\n"
          ]
        },
        {
          "output_type": "stream",
          "name": "stdout",
          "text": [
            "Collecting wget\n",
            "  Downloading wget-3.2.zip (10 kB)\n",
            "Building wheels for collected packages: wget\n",
            "  Building wheel for wget (setup.py) ... \u001b[?25l\u001b[?25hdone\n",
            "  Created wheel for wget: filename=wget-3.2-py3-none-any.whl size=9672 sha256=fd9161adabaffe2f7d2d196c8604adccd7eaf320a3e24f9b97ba08aab308b0ba\n",
            "  Stored in directory: /root/.cache/pip/wheels/a1/b6/7c/0e63e34eb06634181c63adacca38b79ff8f35c37e3c13e3c02\n",
            "Successfully built wget\n",
            "Installing collected packages: wget\n",
            "Successfully installed wget-3.2\n",
            "\n",
            "Saved under Auto.csv\n"
          ]
        }
      ]
    },
    {
      "cell_type": "code",
      "metadata": {
        "id": "O_4Mr2OWaAae",
        "colab": {
          "base_uri": "https://localhost:8080/",
          "height": 250
        },
        "outputId": "ecc0d3a1-23db-43b6-87c1-30118c550862"
      },
      "source": [
        "# อ่านไฟล์ csv ก่อนเพื่อหา missing values\n",
        "auto = pd.read_csv('Auto.csv',na_values=[\"?\"])\n",
        "\n",
        "# ลบแถวที่มี missing values\n",
        "auto = auto.dropna()\n",
        "\n",
        "auto = auto.drop(['name', 'origin'],axis=1)\n",
        "\n",
        "auto.head()"
      ],
      "execution_count": null,
      "outputs": [
        {
          "output_type": "execute_result",
          "data": {
            "text/html": [
              "\n",
              "  <div id=\"df-19921a4c-5650-478d-817c-8180b30c0d81\">\n",
              "    <div class=\"colab-df-container\">\n",
              "      <div>\n",
              "<style scoped>\n",
              "    .dataframe tbody tr th:only-of-type {\n",
              "        vertical-align: middle;\n",
              "    }\n",
              "\n",
              "    .dataframe tbody tr th {\n",
              "        vertical-align: top;\n",
              "    }\n",
              "\n",
              "    .dataframe thead th {\n",
              "        text-align: right;\n",
              "    }\n",
              "</style>\n",
              "<table border=\"1\" class=\"dataframe\">\n",
              "  <thead>\n",
              "    <tr style=\"text-align: right;\">\n",
              "      <th></th>\n",
              "      <th>mpg</th>\n",
              "      <th>cylinders</th>\n",
              "      <th>displacement</th>\n",
              "      <th>horsepower</th>\n",
              "      <th>weight</th>\n",
              "      <th>acceleration</th>\n",
              "      <th>year</th>\n",
              "    </tr>\n",
              "  </thead>\n",
              "  <tbody>\n",
              "    <tr>\n",
              "      <th>0</th>\n",
              "      <td>18.0</td>\n",
              "      <td>8</td>\n",
              "      <td>307.0</td>\n",
              "      <td>130.0</td>\n",
              "      <td>3504</td>\n",
              "      <td>12.0</td>\n",
              "      <td>70</td>\n",
              "    </tr>\n",
              "    <tr>\n",
              "      <th>1</th>\n",
              "      <td>15.0</td>\n",
              "      <td>8</td>\n",
              "      <td>350.0</td>\n",
              "      <td>165.0</td>\n",
              "      <td>3693</td>\n",
              "      <td>11.5</td>\n",
              "      <td>70</td>\n",
              "    </tr>\n",
              "    <tr>\n",
              "      <th>2</th>\n",
              "      <td>18.0</td>\n",
              "      <td>8</td>\n",
              "      <td>318.0</td>\n",
              "      <td>150.0</td>\n",
              "      <td>3436</td>\n",
              "      <td>11.0</td>\n",
              "      <td>70</td>\n",
              "    </tr>\n",
              "    <tr>\n",
              "      <th>3</th>\n",
              "      <td>16.0</td>\n",
              "      <td>8</td>\n",
              "      <td>304.0</td>\n",
              "      <td>150.0</td>\n",
              "      <td>3433</td>\n",
              "      <td>12.0</td>\n",
              "      <td>70</td>\n",
              "    </tr>\n",
              "    <tr>\n",
              "      <th>4</th>\n",
              "      <td>17.0</td>\n",
              "      <td>8</td>\n",
              "      <td>302.0</td>\n",
              "      <td>140.0</td>\n",
              "      <td>3449</td>\n",
              "      <td>10.5</td>\n",
              "      <td>70</td>\n",
              "    </tr>\n",
              "  </tbody>\n",
              "</table>\n",
              "</div>\n",
              "      <button class=\"colab-df-convert\" onclick=\"convertToInteractive('df-19921a4c-5650-478d-817c-8180b30c0d81')\"\n",
              "              title=\"Convert this dataframe to an interactive table.\"\n",
              "              style=\"display:none;\">\n",
              "        \n",
              "  <svg xmlns=\"http://www.w3.org/2000/svg\" height=\"24px\"viewBox=\"0 0 24 24\"\n",
              "       width=\"24px\">\n",
              "    <path d=\"M0 0h24v24H0V0z\" fill=\"none\"/>\n",
              "    <path d=\"M18.56 5.44l.94 2.06.94-2.06 2.06-.94-2.06-.94-.94-2.06-.94 2.06-2.06.94zm-11 1L8.5 8.5l.94-2.06 2.06-.94-2.06-.94L8.5 2.5l-.94 2.06-2.06.94zm10 10l.94 2.06.94-2.06 2.06-.94-2.06-.94-.94-2.06-.94 2.06-2.06.94z\"/><path d=\"M17.41 7.96l-1.37-1.37c-.4-.4-.92-.59-1.43-.59-.52 0-1.04.2-1.43.59L10.3 9.45l-7.72 7.72c-.78.78-.78 2.05 0 2.83L4 21.41c.39.39.9.59 1.41.59.51 0 1.02-.2 1.41-.59l7.78-7.78 2.81-2.81c.8-.78.8-2.07 0-2.86zM5.41 20L4 18.59l7.72-7.72 1.47 1.35L5.41 20z\"/>\n",
              "  </svg>\n",
              "      </button>\n",
              "      \n",
              "  <style>\n",
              "    .colab-df-container {\n",
              "      display:flex;\n",
              "      flex-wrap:wrap;\n",
              "      gap: 12px;\n",
              "    }\n",
              "\n",
              "    .colab-df-convert {\n",
              "      background-color: #E8F0FE;\n",
              "      border: none;\n",
              "      border-radius: 50%;\n",
              "      cursor: pointer;\n",
              "      display: none;\n",
              "      fill: #1967D2;\n",
              "      height: 32px;\n",
              "      padding: 0 0 0 0;\n",
              "      width: 32px;\n",
              "    }\n",
              "\n",
              "    .colab-df-convert:hover {\n",
              "      background-color: #E2EBFA;\n",
              "      box-shadow: 0px 1px 2px rgba(60, 64, 67, 0.3), 0px 1px 3px 1px rgba(60, 64, 67, 0.15);\n",
              "      fill: #174EA6;\n",
              "    }\n",
              "\n",
              "    [theme=dark] .colab-df-convert {\n",
              "      background-color: #3B4455;\n",
              "      fill: #D2E3FC;\n",
              "    }\n",
              "\n",
              "    [theme=dark] .colab-df-convert:hover {\n",
              "      background-color: #434B5C;\n",
              "      box-shadow: 0px 1px 3px 1px rgba(0, 0, 0, 0.15);\n",
              "      filter: drop-shadow(0px 1px 2px rgba(0, 0, 0, 0.3));\n",
              "      fill: #FFFFFF;\n",
              "    }\n",
              "  </style>\n",
              "\n",
              "      <script>\n",
              "        const buttonEl =\n",
              "          document.querySelector('#df-19921a4c-5650-478d-817c-8180b30c0d81 button.colab-df-convert');\n",
              "        buttonEl.style.display =\n",
              "          google.colab.kernel.accessAllowed ? 'block' : 'none';\n",
              "\n",
              "        async function convertToInteractive(key) {\n",
              "          const element = document.querySelector('#df-19921a4c-5650-478d-817c-8180b30c0d81');\n",
              "          const dataTable =\n",
              "            await google.colab.kernel.invokeFunction('convertToInteractive',\n",
              "                                                     [key], {});\n",
              "          if (!dataTable) return;\n",
              "\n",
              "          const docLinkHtml = 'Like what you see? Visit the ' +\n",
              "            '<a target=\"_blank\" href=https://colab.research.google.com/notebooks/data_table.ipynb>data table notebook</a>'\n",
              "            + ' to learn more about interactive tables.';\n",
              "          element.innerHTML = '';\n",
              "          dataTable['output_type'] = 'display_data';\n",
              "          await google.colab.output.renderOutput(dataTable, element);\n",
              "          const docLink = document.createElement('div');\n",
              "          docLink.innerHTML = docLinkHtml;\n",
              "          element.appendChild(docLink);\n",
              "        }\n",
              "      </script>\n",
              "    </div>\n",
              "  </div>\n",
              "  "
            ],
            "text/plain": [
              "    mpg  cylinders  displacement  horsepower  weight  acceleration  year\n",
              "0  18.0          8         307.0       130.0    3504          12.0    70\n",
              "1  15.0          8         350.0       165.0    3693          11.5    70\n",
              "2  18.0          8         318.0       150.0    3436          11.0    70\n",
              "3  16.0          8         304.0       150.0    3433          12.0    70\n",
              "4  17.0          8         302.0       140.0    3449          10.5    70"
            ]
          },
          "metadata": {},
          "execution_count": 6
        }
      ]
    },
    {
      "cell_type": "markdown",
      "metadata": {
        "id": "eY77L4kv7SHH"
      },
      "source": [
        "#Linear model diagnosis"
      ]
    },
    {
      "cell_type": "code",
      "metadata": {
        "id": "xvDqcZfk_qnG",
        "colab": {
          "base_uri": "https://localhost:8080/"
        },
        "outputId": "4055417b-10ec-41d5-8809-b55be70a1ce3"
      },
      "source": [
        "# simple linear regression on Auto dataset\n",
        "auto_lr = smf.ols('mpg ~ horsepower ', data=auto).fit()\n",
        "print(auto_lr.summary())"
      ],
      "execution_count": null,
      "outputs": [
        {
          "output_type": "stream",
          "name": "stdout",
          "text": [
            "                            OLS Regression Results                            \n",
            "==============================================================================\n",
            "Dep. Variable:                    mpg   R-squared:                       0.606\n",
            "Model:                            OLS   Adj. R-squared:                  0.605\n",
            "Method:                 Least Squares   F-statistic:                     599.7\n",
            "Date:                Mon, 27 Dec 2021   Prob (F-statistic):           7.03e-81\n",
            "Time:                        23:41:19   Log-Likelihood:                -1178.7\n",
            "No. Observations:                 392   AIC:                             2361.\n",
            "Df Residuals:                     390   BIC:                             2369.\n",
            "Df Model:                           1                                         \n",
            "Covariance Type:            nonrobust                                         \n",
            "==============================================================================\n",
            "                 coef    std err          t      P>|t|      [0.025      0.975]\n",
            "------------------------------------------------------------------------------\n",
            "Intercept     39.9359      0.717     55.660      0.000      38.525      41.347\n",
            "horsepower    -0.1578      0.006    -24.489      0.000      -0.171      -0.145\n",
            "==============================================================================\n",
            "Omnibus:                       16.432   Durbin-Watson:                   0.920\n",
            "Prob(Omnibus):                  0.000   Jarque-Bera (JB):               17.305\n",
            "Skew:                           0.492   Prob(JB):                     0.000175\n",
            "Kurtosis:                       3.299   Cond. No.                         322.\n",
            "==============================================================================\n",
            "\n",
            "Warnings:\n",
            "[1] Standard Errors assume that the covariance matrix of the errors is correctly specified.\n"
          ]
        }
      ]
    },
    {
      "cell_type": "markdown",
      "metadata": {
        "id": "fiNuI3HT_dX7"
      },
      "source": [
        "###คำนวณ Residuals $y_i-\\hat{y}_i$"
      ]
    },
    {
      "cell_type": "code",
      "metadata": {
        "id": "XlOmwZlvQXAR",
        "colab": {
          "base_uri": "https://localhost:8080/"
        },
        "outputId": "b7a66d85-ea23-4db2-b3ab-8220ccb04c50"
      },
      "source": [
        "#Fitted values\n",
        "auto_fitted = auto_lr.predict(auto)\n",
        "\n",
        "#Residuals\n",
        "auto_res = auto['mpg']-auto_fitted\n",
        "\n",
        "print(auto_res)"
      ],
      "execution_count": null,
      "outputs": [
        {
          "output_type": "stream",
          "name": "stdout",
          "text": [
            "0      -1.416046\n",
            "1       1.108520\n",
            "2       1.740849\n",
            "3      -0.259151\n",
            "4      -0.837598\n",
            "         ...    \n",
            "392     0.638786\n",
            "393    12.272065\n",
            "394     5.323097\n",
            "395     0.533873\n",
            "396     4.007407\n",
            "Length: 392, dtype: float64\n"
          ]
        }
      ]
    },
    {
      "cell_type": "markdown",
      "source": [
        "### หรือสามารถดึง predictions และ residuals จากโมเดลได้โดยตรง"
      ],
      "metadata": {
        "id": "TY4DE7KAt_du"
      }
    },
    {
      "cell_type": "code",
      "source": [
        "# Fitted values\n",
        "auto_fitted_ = auto_lr.fittedvalues\n",
        "\n",
        "# Residuals\n",
        "auto_res_ = auto_lr.resid\n",
        "\n",
        "print(auto_fitted_ == auto_fitted)\n",
        "print(auto_res_ == auto_res)"
      ],
      "metadata": {
        "id": "uLsFyB04uVMQ",
        "colab": {
          "base_uri": "https://localhost:8080/"
        },
        "outputId": "c68752b2-ab5d-4021-8595-5c3ec472370e"
      },
      "execution_count": null,
      "outputs": [
        {
          "output_type": "stream",
          "name": "stdout",
          "text": [
            "0      True\n",
            "1      True\n",
            "2      True\n",
            "3      True\n",
            "4      True\n",
            "       ... \n",
            "392    True\n",
            "393    True\n",
            "394    True\n",
            "395    True\n",
            "396    True\n",
            "Length: 392, dtype: bool\n",
            "0      True\n",
            "1      True\n",
            "2      True\n",
            "3      True\n",
            "4      True\n",
            "       ... \n",
            "392    True\n",
            "393    True\n",
            "394    True\n",
            "395    True\n",
            "396    True\n",
            "Length: 392, dtype: bool\n"
          ]
        }
      ]
    },
    {
      "cell_type": "markdown",
      "metadata": {
        "id": "katHIstPTvft"
      },
      "source": [
        "###1. ทดสอบ non-linearity"
      ]
    },
    {
      "cell_type": "code",
      "metadata": {
        "id": "z19s30_3ARua",
        "colab": {
          "base_uri": "https://localhost:8080/",
          "height": 295
        },
        "outputId": "e4b7b9c4-7129-4df2-d1e3-66f63cd749f4"
      },
      "source": [
        "plt.scatter(auto_fitted, auto_res)\n",
        "plt.title('Residuals vs Fitted')\n",
        "plt.xlabel('Fitted values')\n",
        "plt.ylabel('Residuals');"
      ],
      "execution_count": null,
      "outputs": [
        {
          "output_type": "display_data",
          "data": {
            "image/png": "[encoded data removed]",
            "text/plain": [
              "<Figure size 432x288 with 1 Axes>"
            ]
          },
          "metadata": {
            "needs_background": "light"
          }
        }
      ]
    },
    {
      "cell_type": "code",
      "metadata": {
        "id": "6njJmujsAUNv",
        "colab": {
          "base_uri": "https://localhost:8080/",
          "height": 504
        },
        "outputId": "f6c84931-113e-4848-fef2-4c5769504582"
      },
      "source": [
        "plt.scatter(auto_lr.fittedvalues, auto_lr.resid)\n",
        "plt.title('Residuals vs Fitted')\n",
        "plt.xlabel('Fitted values')\n",
        "plt.ylabel('Residuals');\n",
        "\n",
        "print(auto_lr.fittedvalues)"
      ],
      "execution_count": null,
      "outputs": [
        {
          "output_type": "stream",
          "name": "stdout",
          "text": [
            "0      19.416046\n",
            "1      13.891480\n",
            "2      16.259151\n",
            "3      16.259151\n",
            "4      17.837598\n",
            "         ...    \n",
            "392    26.361214\n",
            "393    31.727935\n",
            "394    26.676903\n",
            "395    27.466127\n",
            "396    26.992593\n",
            "Length: 392, dtype: float64\n"
          ]
        },
        {
          "output_type": "display_data",
          "data": {
            "image/png": "[encoded data removed]",
            "text/plain": [
              "<Figure size 432x288 with 1 Axes>"
            ]
          },
          "metadata": {
            "needs_background": "light"
          }
        }
      ]
    },
    {
      "cell_type": "code",
      "metadata": {
        "id": "kD8uzgohDRIX",
        "colab": {
          "base_uri": "https://localhost:8080/"
        },
        "outputId": "5ea1bf55-b90c-4b89-a581-657352809297"
      },
      "source": [
        "auto_lr2 = smf.ols('mpg ~ horsepower+I(horsepower**2)', data=auto).fit()\n",
        "print(auto_lr2.summary())"
      ],
      "execution_count": null,
      "outputs": [
        {
          "output_type": "stream",
          "name": "stdout",
          "text": [
            "                            OLS Regression Results                            \n",
            "==============================================================================\n",
            "Dep. Variable:                    mpg   R-squared:                       0.688\n",
            "Model:                            OLS   Adj. R-squared:                  0.686\n",
            "Method:                 Least Squares   F-statistic:                     428.0\n",
            "Date:                Mon, 27 Dec 2021   Prob (F-statistic):           5.40e-99\n",
            "Time:                        23:41:35   Log-Likelihood:                -1133.2\n",
            "No. Observations:                 392   AIC:                             2272.\n",
            "Df Residuals:                     389   BIC:                             2284.\n",
            "Df Model:                           2                                         \n",
            "Covariance Type:            nonrobust                                         \n",
            "======================================================================================\n",
            "                         coef    std err          t      P>|t|      [0.025      0.975]\n",
            "--------------------------------------------------------------------------------------\n",
            "Intercept             56.9001      1.800     31.604      0.000      53.360      60.440\n",
            "horsepower            -0.4662      0.031    -14.978      0.000      -0.527      -0.405\n",
            "I(horsepower ** 2)     0.0012      0.000     10.080      0.000       0.001       0.001\n",
            "==============================================================================\n",
            "Omnibus:                       16.158   Durbin-Watson:                   1.078\n",
            "Prob(Omnibus):                  0.000   Jarque-Bera (JB):               30.662\n",
            "Skew:                           0.218   Prob(JB):                     2.20e-07\n",
            "Kurtosis:                       4.299   Cond. No.                     1.29e+05\n",
            "==============================================================================\n",
            "\n",
            "Warnings:\n",
            "[1] Standard Errors assume that the covariance matrix of the errors is correctly specified.\n",
            "[2] The condition number is large, 1.29e+05. This might indicate that there are\n",
            "strong multicollinearity or other numerical problems.\n"
          ]
        }
      ]
    },
    {
      "cell_type": "code",
      "metadata": {
        "id": "yyk9EnXdD0ZU",
        "colab": {
          "base_uri": "https://localhost:8080/",
          "height": 295
        },
        "outputId": "e1131b43-2dba-4f0f-f336-e675a1c24a51"
      },
      "source": [
        "plt.scatter(auto_lr2.fittedvalues, auto_lr2.resid)\n",
        "plt.title('Residuals vs Fitted')\n",
        "plt.xlabel('Fitted values')\n",
        "plt.ylabel('Residuals');"
      ],
      "execution_count": null,
      "outputs": [
        {
          "output_type": "display_data",
          "data": {
            "image/png": "[encoded data removed]",
            "text/plain": [
              "<Figure size 432x288 with 1 Axes>"
            ]
          },
          "metadata": {
            "needs_background": "light"
          }
        }
      ]
    },
    {
      "cell_type": "markdown",
      "source": [
        "###2. ทดสอบ independence of errors\n",
        "2.1 ตรวจสอบโดยการ plot time vs residuals (ถ้าสามารถทำได้)\n",
        "\n",
        "2.2 ตรวจสอบด้วย Durbin-Wutson test  \n",
        "\n",
        "H0: There is no correlation among the residuals.  \n",
        "H1: The residuals are correlated.\n",
        "\n",
        "The Durbin-Watson statistic ranges in value from 0\n",
        "to 4. A value near 2 indicates non-correlation; a value toward 0 indicates positive\n",
        "correlation; a value toward 4 indicates negative correlation.\n",
        "\n",
        "Reject H0 if d < dL  \n",
        "Accept H0 if d > dU\n",
        "\n",
        "Durbin-Watson table: https://www.real-statistics.com/statistics-tables/durbin-watson-table/"
      ],
      "metadata": {
        "id": "Pq4t_YbsvIWZ"
      }
    },
    {
      "cell_type": "code",
      "source": [
        "auto_lr2 = smf.ols('mpg ~ horsepower+I(horsepower**2)', data=auto).fit()\n",
        "print(auto_lr2.summary())"
      ],
      "metadata": {
        "id": "NFJIBKvEvG9b",
        "colab": {
          "base_uri": "https://localhost:8080/"
        },
        "outputId": "8fa63a8b-5591-4827-9a9b-7b6e7b993e4f"
      },
      "execution_count": null,
      "outputs": [
        {
          "output_type": "stream",
          "name": "stdout",
          "text": [
            "                            OLS Regression Results                            \n",
            "==============================================================================\n",
            "Dep. Variable:                    mpg   R-squared:                       0.688\n",
            "Model:                            OLS   Adj. R-squared:                  0.686\n",
            "Method:                 Least Squares   F-statistic:                     428.0\n",
            "Date:                Mon, 27 Dec 2021   Prob (F-statistic):           5.40e-99\n",
            "Time:                        23:41:41   Log-Likelihood:                -1133.2\n",
            "No. Observations:                 392   AIC:                             2272.\n",
            "Df Residuals:                     389   BIC:                             2284.\n",
            "Df Model:                           2                                         \n",
            "Covariance Type:            nonrobust                                         \n",
            "======================================================================================\n",
            "                         coef    std err          t      P>|t|      [0.025      0.975]\n",
            "--------------------------------------------------------------------------------------\n",
            "Intercept             56.9001      1.800     31.604      0.000      53.360      60.440\n",
            "horsepower            -0.4662      0.031    -14.978      0.000      -0.527      -0.405\n",
            "I(horsepower ** 2)     0.0012      0.000     10.080      0.000       0.001       0.001\n",
            "==============================================================================\n",
            "Omnibus:                       16.158   Durbin-Watson:                   1.078\n",
            "Prob(Omnibus):                  0.000   Jarque-Bera (JB):               30.662\n",
            "Skew:                           0.218   Prob(JB):                     2.20e-07\n",
            "Kurtosis:                       4.299   Cond. No.                     1.29e+05\n",
            "==============================================================================\n",
            "\n",
            "Warnings:\n",
            "[1] Standard Errors assume that the covariance matrix of the errors is correctly specified.\n",
            "[2] The condition number is large, 1.29e+05. This might indicate that there are\n",
            "strong multicollinearity or other numerical problems.\n"
          ]
        }
      ]
    },
    {
      "cell_type": "markdown",
      "source": [
        "### ดูตาราง Durbin-Watson Alpha = .05 n = 350 และ k = 2\n",
        "\n",
        "ได้ค่า dL = 1.813 dU = 1.836\n",
        "\n",
        "ดังนั้น Reject H0 -- มี correlation ระหว่าง residuals"
      ],
      "metadata": {
        "id": "kNDjv6tHzK-_"
      }
    },
    {
      "cell_type": "markdown",
      "metadata": {
        "id": "YRCc6ktRUBkM"
      },
      "source": [
        "###3. ทดสอบ constant variance"
      ]
    },
    {
      "cell_type": "code",
      "metadata": {
        "id": "vB1M4irSS5yz",
        "colab": {
          "base_uri": "https://localhost:8080/"
        },
        "outputId": "a2df0b46-2df4-41fa-e417-e4a8ff8920d7"
      },
      "source": [
        "auto_lr3 = smf.ols('I(np.log(mpg)) ~ horsepower+I(horsepower**2)', data=auto).fit()\n",
        "print(auto_lr3.summary())"
      ],
      "execution_count": null,
      "outputs": [
        {
          "output_type": "stream",
          "name": "stdout",
          "text": [
            "                            OLS Regression Results                            \n",
            "==============================================================================\n",
            "Dep. Variable:         I(np.log(mpg))   R-squared:                       0.732\n",
            "Model:                            OLS   Adj. R-squared:                  0.731\n",
            "Method:                 Least Squares   F-statistic:                     532.2\n",
            "Date:                Mon, 27 Dec 2021   Prob (F-statistic):          4.54e-112\n",
            "Time:                        23:41:44   Log-Likelihood:                 125.48\n",
            "No. Observations:                 392   AIC:                            -245.0\n",
            "Df Residuals:                     389   BIC:                            -233.0\n",
            "Df Model:                           2                                         \n",
            "Covariance Type:            nonrobust                                         \n",
            "======================================================================================\n",
            "                         coef    std err          t      P>|t|      [0.025      0.975]\n",
            "--------------------------------------------------------------------------------------\n",
            "Intercept              4.4022      0.073     60.639      0.000       4.260       4.545\n",
            "horsepower            -0.0171      0.001    -13.632      0.000      -0.020      -0.015\n",
            "I(horsepower ** 2)  3.901e-05   4.92e-06      7.925      0.000    2.93e-05    4.87e-05\n",
            "==============================================================================\n",
            "Omnibus:                        9.051   Durbin-Watson:                   1.092\n",
            "Prob(Omnibus):                  0.011   Jarque-Bera (JB):               13.714\n",
            "Skew:                          -0.142   Prob(JB):                      0.00105\n",
            "Kurtosis:                       3.871   Cond. No.                     1.29e+05\n",
            "==============================================================================\n",
            "\n",
            "Warnings:\n",
            "[1] Standard Errors assume that the covariance matrix of the errors is correctly specified.\n",
            "[2] The condition number is large, 1.29e+05. This might indicate that there are\n",
            "strong multicollinearity or other numerical problems.\n"
          ]
        }
      ]
    },
    {
      "cell_type": "code",
      "metadata": {
        "id": "T8DKt5uKTR2p",
        "colab": {
          "base_uri": "https://localhost:8080/",
          "height": 295
        },
        "outputId": "0c872010-0754-451b-dfb3-f2575c771c3b"
      },
      "source": [
        "plt.scatter(auto_lr3.fittedvalues, auto_lr3.resid)\n",
        "plt.title('Residuals vs Fitted')\n",
        "plt.xlabel('Fitted values')\n",
        "plt.ylabel('Residuals');"
      ],
      "execution_count": null,
      "outputs": [
        {
          "output_type": "display_data",
          "data": {
            "image/png": "[encoded data removed]",
            "text/plain": [
              "<Figure size 432x288 with 1 Axes>"
            ]
          },
          "metadata": {
            "needs_background": "light"
          }
        }
      ]
    },
    {
      "cell_type": "markdown",
      "source": [
        "### ใช้ Breush-Pagan test\n",
        "\n",
        "\n",
        "H0: The residuals are distributed with equal variance  \n",
        "H1: The residuals are not distributed with equal variance\n"
      ],
      "metadata": {
        "id": "Ja3nPh3i2AWm"
      }
    },
    {
      "cell_type": "code",
      "source": [
        "import statsmodels.stats.api as sms\n",
        "\n",
        "name = [\"Lagrange multiplier statistic\", \"p-value\", \"f-value\", \"f p-value\"]\n",
        "test = sms.het_breuschpagan(auto_lr2.resid, auto_lr2.model.exog)\n",
        "pd.DataFrame({'Name':name, 'value':test})"
      ],
      "metadata": {
        "id": "gN5NT4eD2DC_",
        "colab": {
          "base_uri": "https://localhost:8080/",
          "height": 175
        },
        "outputId": "a0fa0144-28ee-4dc3-e300-cf9c59924fcf"
      },
      "execution_count": null,
      "outputs": [
        {
          "output_type": "execute_result",
          "data": {
            "text/html": [
              "\n",
              "  <div id=\"df-d6020344-c561-4896-9e2c-b5ea8852f576\">\n",
              "    <div class=\"colab-df-container\">\n",
              "      <div>\n",
              "<style scoped>\n",
              "    .dataframe tbody tr th:only-of-type {\n",
              "        vertical-align: middle;\n",
              "    }\n",
              "\n",
              "    .dataframe tbody tr th {\n",
              "        vertical-align: top;\n",
              "    }\n",
              "\n",
              "    .dataframe thead th {\n",
              "        text-align: right;\n",
              "    }\n",
              "</style>\n",
              "<table border=\"1\" class=\"dataframe\">\n",
              "  <thead>\n",
              "    <tr style=\"text-align: right;\">\n",
              "      <th></th>\n",
              "      <th>Name</th>\n",
              "      <th>value</th>\n",
              "    </tr>\n",
              "  </thead>\n",
              "  <tbody>\n",
              "    <tr>\n",
              "      <th>0</th>\n",
              "      <td>Lagrange multiplier statistic</td>\n",
              "      <td>3.452843e+01</td>\n",
              "    </tr>\n",
              "    <tr>\n",
              "      <th>1</th>\n",
              "      <td>p-value</td>\n",
              "      <td>3.178682e-08</td>\n",
              "    </tr>\n",
              "    <tr>\n",
              "      <th>2</th>\n",
              "      <td>f-value</td>\n",
              "      <td>1.878689e+01</td>\n",
              "    </tr>\n",
              "    <tr>\n",
              "      <th>3</th>\n",
              "      <td>f p-value</td>\n",
              "      <td>1.626798e-08</td>\n",
              "    </tr>\n",
              "  </tbody>\n",
              "</table>\n",
              "</div>\n",
              "      <button class=\"colab-df-convert\" onclick=\"convertToInteractive('df-d6020344-c561-4896-9e2c-b5ea8852f576')\"\n",
              "              title=\"Convert this dataframe to an interactive table.\"\n",
              "              style=\"display:none;\">\n",
              "        \n",
              "  <svg xmlns=\"http://www.w3.org/2000/svg\" height=\"24px\"viewBox=\"0 0 24 24\"\n",
              "       width=\"24px\">\n",
              "    <path d=\"M0 0h24v24H0V0z\" fill=\"none\"/>\n",
              "    <path d=\"M18.56 5.44l.94 2.06.94-2.06 2.06-.94-2.06-.94-.94-2.06-.94 2.06-2.06.94zm-11 1L8.5 8.5l.94-2.06 2.06-.94-2.06-.94L8.5 2.5l-.94 2.06-2.06.94zm10 10l.94 2.06.94-2.06 2.06-.94-2.06-.94-.94-2.06-.94 2.06-2.06.94z\"/><path d=\"M17.41 7.96l-1.37-1.37c-.4-.4-.92-.59-1.43-.59-.52 0-1.04.2-1.43.59L10.3 9.45l-7.72 7.72c-.78.78-.78 2.05 0 2.83L4 21.41c.39.39.9.59 1.41.59.51 0 1.02-.2 1.41-.59l7.78-7.78 2.81-2.81c.8-.78.8-2.07 0-2.86zM5.41 20L4 18.59l7.72-7.72 1.47 1.35L5.41 20z\"/>\n",
              "  </svg>\n",
              "      </button>\n",
              "      \n",
              "  <style>\n",
              "    .colab-df-container {\n",
              "      display:flex;\n",
              "      flex-wrap:wrap;\n",
              "      gap: 12px;\n",
              "    }\n",
              "\n",
              "    .colab-df-convert {\n",
              "      background-color: #E8F0FE;\n",
              "      border: none;\n",
              "      border-radius: 50%;\n",
              "      cursor: pointer;\n",
              "      display: none;\n",
              "      fill: #1967D2;\n",
              "      height: 32px;\n",
              "      padding: 0 0 0 0;\n",
              "      width: 32px;\n",
              "    }\n",
              "\n",
              "    .colab-df-convert:hover {\n",
              "      background-color: #E2EBFA;\n",
              "      box-shadow: 0px 1px 2px rgba(60, 64, 67, 0.3), 0px 1px 3px 1px rgba(60, 64, 67, 0.15);\n",
              "      fill: #174EA6;\n",
              "    }\n",
              "\n",
              "    [theme=dark] .colab-df-convert {\n",
              "      background-color: #3B4455;\n",
              "      fill: #D2E3FC;\n",
              "    }\n",
              "\n",
              "    [theme=dark] .colab-df-convert:hover {\n",
              "      background-color: #434B5C;\n",
              "      box-shadow: 0px 1px 3px 1px rgba(0, 0, 0, 0.15);\n",
              "      filter: drop-shadow(0px 1px 2px rgba(0, 0, 0, 0.3));\n",
              "      fill: #FFFFFF;\n",
              "    }\n",
              "  </style>\n",
              "\n",
              "      <script>\n",
              "        const buttonEl =\n",
              "          document.querySelector('#df-d6020344-c561-4896-9e2c-b5ea8852f576 button.colab-df-convert');\n",
              "        buttonEl.style.display =\n",
              "          google.colab.kernel.accessAllowed ? 'block' : 'none';\n",
              "\n",
              "        async function convertToInteractive(key) {\n",
              "          const element = document.querySelector('#df-d6020344-c561-4896-9e2c-b5ea8852f576');\n",
              "          const dataTable =\n",
              "            await google.colab.kernel.invokeFunction('convertToInteractive',\n",
              "                                                     [key], {});\n",
              "          if (!dataTable) return;\n",
              "\n",
              "          const docLinkHtml = 'Like what you see? Visit the ' +\n",
              "            '<a target=\"_blank\" href=https://colab.research.google.com/notebooks/data_table.ipynb>data table notebook</a>'\n",
              "            + ' to learn more about interactive tables.';\n",
              "          element.innerHTML = '';\n",
              "          dataTable['output_type'] = 'display_data';\n",
              "          await google.colab.output.renderOutput(dataTable, element);\n",
              "          const docLink = document.createElement('div');\n",
              "          docLink.innerHTML = docLinkHtml;\n",
              "          element.appendChild(docLink);\n",
              "        }\n",
              "      </script>\n",
              "    </div>\n",
              "  </div>\n",
              "  "
            ],
            "text/plain": [
              "                            Name         value\n",
              "0  Lagrange multiplier statistic  3.452843e+01\n",
              "1                        p-value  3.178682e-08\n",
              "2                        f-value  1.878689e+01\n",
              "3                      f p-value  1.626798e-08"
            ]
          },
          "metadata": {},
          "execution_count": 17
        }
      ]
    },
    {
      "cell_type": "markdown",
      "source": [
        "### p-value > 0.05 ดังนั้น accept H0"
      ],
      "metadata": {
        "id": "YhIhX3GO4RXn"
      }
    },
    {
      "cell_type": "markdown",
      "metadata": {
        "id": "IxMx0OKZU-bb"
      },
      "source": [
        "### 4., 5. หา outliers และ leverage points "
      ]
    },
    {
      "cell_type": "code",
      "metadata": {
        "id": "-gCRXKb8fkuH",
        "colab": {
          "base_uri": "https://localhost:8080/",
          "height": 300
        },
        "outputId": "abab4881-ed72-41f6-9e45-faac3ae4aa78"
      },
      "source": [
        "import statsmodels.graphics.api as smg\n",
        "\n",
        "smg.influence_plot(auto_lr2, size=10)\n",
        "\n",
        "#Cook's distance line ที่ระดับ 0.5\n",
        "p = 1 # จำนวนตัวแปรต้น\n",
        "x = np.linspace(0.01, 0.1, 50)\n",
        "plt.plot(x, np.sqrt(0.5*p*(1 - x)/x), color='red', linestyle='dashed')\n",
        "\n",
        "plt.xlim(0,0.1)\n",
        "plt.xlabel('Leverage')\n",
        "plt.ylabel('Standardized residuals')\n",
        "plt.title('Residuals vs Leverage');"
      ],
      "execution_count": null,
      "outputs": [
        {
          "output_type": "display_data",
          "data": {
            "image/png": "[encoded data removed]",
            "text/plain": [
              "<Figure size 432x288 with 1 Axes>"
            ]
          },
          "metadata": {
            "needs_background": "light"
          }
        }
      ]
    },
    {
      "cell_type": "markdown",
      "metadata": {
        "id": "jEyN_naVVKzC"
      },
      "source": [
        "###6. ทดสอบ multicollinearity\n",
        "\n",
        "ลบตัวแปรที่มีค่า VIF > 10"
      ]
    },
    {
      "cell_type": "code",
      "source": [
        "print(auto_lr4.model.exog) #matrix of exogenous variables\n",
        "print(auto_lr4.model.exog_names) #names of exogenous variables"
      ],
      "metadata": {
        "id": "trjE1AUq5ID3",
        "colab": {
          "base_uri": "https://localhost:8080/"
        },
        "outputId": "b9ad4f6c-ac67-4c87-91e1-5e876194d7e9"
      },
      "execution_count": null,
      "outputs": [
        {
          "output_type": "stream",
          "name": "stdout",
          "text": [
            "[[1.000e+00 8.000e+00 3.070e+02 1.300e+02 3.504e+03 1.200e+01]\n",
            " [1.000e+00 8.000e+00 3.500e+02 1.650e+02 3.693e+03 1.150e+01]\n",
            " [1.000e+00 8.000e+00 3.180e+02 1.500e+02 3.436e+03 1.100e+01]\n",
            " ...\n",
            " [1.000e+00 4.000e+00 1.350e+02 8.400e+01 2.295e+03 1.160e+01]\n",
            " [1.000e+00 4.000e+00 1.200e+02 7.900e+01 2.625e+03 1.860e+01]\n",
            " [1.000e+00 4.000e+00 1.190e+02 8.200e+01 2.720e+03 1.940e+01]]\n",
            "['Intercept', 'cylinders', 'displacement', 'horsepower', 'weight', 'acceleration']\n"
          ]
        }
      ]
    },
    {
      "cell_type": "code",
      "metadata": {
        "id": "-QbEbw2lpYI-",
        "colab": {
          "base_uri": "https://localhost:8080/"
        },
        "outputId": "89c73e8c-8a09-4fce-bc46-e07bf40128fa"
      },
      "source": [
        "from statsmodels.stats.outliers_influence import variance_inflation_factor as vif\n",
        "\n",
        "auto_lr4 = smf.ols('mpg ~ cylinders \\\n",
        "                          +displacement \\\n",
        "                          +horsepower \\\n",
        "                          +weight \\\n",
        "                          +acceleration', data=auto).fit()\n",
        "\n",
        "exog = auto_lr4.model.exog\n",
        "exog_names = auto_lr4.model.exog_names\n",
        "\n",
        "for i in range(1,len(exog_names)):\n",
        "  print(exog_names[i],vif(exog,i))\n",
        "\n"
      ],
      "execution_count": null,
      "outputs": [
        {
          "output_type": "stream",
          "name": "stdout",
          "text": [
            "cylinders 10.6308702529696\n",
            "displacement 19.535060947488404\n",
            "horsepower 8.916016566767519\n",
            "weight 10.43027112753311\n",
            "acceleration 2.609486629126141\n"
          ]
        }
      ]
    },
    {
      "cell_type": "markdown",
      "metadata": {
        "id": "ZB5KTQSXYm98"
      },
      "source": [
        "###Exercise 2\n",
        "\n",
        "ดาวน์โหลดข้อมูลการขายเบาะรถยนต์ใน link โดยรันโค้ดข้างล่างนี้\n"
      ]
    },
    {
      "cell_type": "code",
      "metadata": {
        "id": "-LrSrCk6BcBM",
        "colab": {
          "base_uri": "https://localhost:8080/"
        },
        "outputId": "7c90cbf7-5a45-4604-cb9e-e94b2ec900c3"
      },
      "source": [
        "# Download the file\n",
        "!wget -O Carseats.csv http://www.donlapark.cmustat.com/229351/data/Carseats.csv"
      ],
      "execution_count": null,
      "outputs": [
        {
          "output_type": "stream",
          "name": "stdout",
          "text": [
            "--2021-12-27 23:42:05--  http://www.donlapark.cmustat.com/229351/data/Carseats.csv\n",
            "Resolving www.donlapark.cmustat.com (www.donlapark.cmustat.com)... 150.107.31.67\n",
            "Connecting to www.donlapark.cmustat.com (www.donlapark.cmustat.com)|150.107.31.67|:80... connected.\n",
            "HTTP request sent, awaiting response... 200 OK\n",
            "Length: 19044 (19K) [text/csv]\n",
            "Saving to: ‘Carseats.csv’\n",
            "\n",
            "Carseats.csv        100%[===================>]  18.60K  79.2KB/s    in 0.2s    \n",
            "\n",
            "2021-12-27 23:42:06 (79.2 KB/s) - ‘Carseats.csv’ saved [19044/19044]\n",
            "\n"
          ]
        }
      ]
    },
    {
      "cell_type": "markdown",
      "metadata": {
        "id": "o80RX9roaRaS"
      },
      "source": [
        "\n",
        "Sales\n",
        "\n",
        "    Unit sales (in thousands) at each location\n",
        "CompPrice\n",
        "\n",
        "    Price charged by competitor at each location\n",
        "Income\n",
        "\n",
        "    Community income level (in thousands of dollars)\n",
        "Advertising\n",
        "\n",
        "    Local advertising budget for company at each location (in thousands of dollars)\n",
        "Population\n",
        "\n",
        "    Population size in region (in thousands)\n",
        "Price\n",
        "\n",
        "    Price company charges for car seats at each site\n",
        "ShelveLoc\n",
        "\n",
        "    A factor with levels Bad, Good and Medium indicating the quality of the shelving location for the car seats at each site\n",
        "Age\n",
        "\n",
        "    Average age of the local population\n",
        "Education\n",
        "\n",
        "    Education level at each location\n",
        "Urban\n",
        "\n",
        "    A factor with levels No and Yes to indicate whether the store is in an urban or rural location\n",
        "US\n",
        "\n",
        "    A factor with levels No and Yes to indicate whether the store is in the US or not"
      ]
    },
    {
      "cell_type": "code",
      "metadata": {
        "id": "1aAV_M9ia3_c",
        "colab": {
          "base_uri": "https://localhost:8080/",
          "height": 270
        },
        "outputId": "4cd6523e-1b32-4d04-b11c-c8fc9511013f"
      },
      "source": [
        "# อ่านไฟล์ csv ก่อนเพื่อหา missing values\n",
        "carseats = pd.read_csv('Carseats.csv')\n",
        "\n",
        "carseats.head()"
      ],
      "execution_count": null,
      "outputs": [
        {
          "output_type": "execute_result",
          "data": {
            "text/html": [
              "\n",
              "  <div id=\"df-fb6575c7-c708-480c-8cb9-d59a824b598a\">\n",
              "    <div class=\"colab-df-container\">\n",
              "      <div>\n",
              "<style scoped>\n",
              "    .dataframe tbody tr th:only-of-type {\n",
              "        vertical-align: middle;\n",
              "    }\n",
              "\n",
              "    .dataframe tbody tr th {\n",
              "        vertical-align: top;\n",
              "    }\n",
              "\n",
              "    .dataframe thead th {\n",
              "        text-align: right;\n",
              "    }\n",
              "</style>\n",
              "<table border=\"1\" class=\"dataframe\">\n",
              "  <thead>\n",
              "    <tr style=\"text-align: right;\">\n",
              "      <th></th>\n",
              "      <th>Sales</th>\n",
              "      <th>CompPrice</th>\n",
              "      <th>Income</th>\n",
              "      <th>Advertising</th>\n",
              "      <th>Population</th>\n",
              "      <th>Price</th>\n",
              "      <th>ShelveLoc</th>\n",
              "      <th>Age</th>\n",
              "      <th>Education</th>\n",
              "      <th>Urban</th>\n",
              "      <th>US</th>\n",
              "    </tr>\n",
              "  </thead>\n",
              "  <tbody>\n",
              "    <tr>\n",
              "      <th>0</th>\n",
              "      <td>9.50</td>\n",
              "      <td>138</td>\n",
              "      <td>73</td>\n",
              "      <td>11</td>\n",
              "      <td>276</td>\n",
              "      <td>120</td>\n",
              "      <td>Bad</td>\n",
              "      <td>42</td>\n",
              "      <td>17</td>\n",
              "      <td>Yes</td>\n",
              "      <td>Yes</td>\n",
              "    </tr>\n",
              "    <tr>\n",
              "      <th>1</th>\n",
              "      <td>11.22</td>\n",
              "      <td>111</td>\n",
              "      <td>48</td>\n",
              "      <td>16</td>\n",
              "      <td>260</td>\n",
              "      <td>83</td>\n",
              "      <td>Good</td>\n",
              "      <td>65</td>\n",
              "      <td>10</td>\n",
              "      <td>Yes</td>\n",
              "      <td>Yes</td>\n",
              "    </tr>\n",
              "    <tr>\n",
              "      <th>2</th>\n",
              "      <td>10.06</td>\n",
              "      <td>113</td>\n",
              "      <td>35</td>\n",
              "      <td>10</td>\n",
              "      <td>269</td>\n",
              "      <td>80</td>\n",
              "      <td>Medium</td>\n",
              "      <td>59</td>\n",
              "      <td>12</td>\n",
              "      <td>Yes</td>\n",
              "      <td>Yes</td>\n",
              "    </tr>\n",
              "    <tr>\n",
              "      <th>3</th>\n",
              "      <td>7.40</td>\n",
              "      <td>117</td>\n",
              "      <td>100</td>\n",
              "      <td>4</td>\n",
              "      <td>466</td>\n",
              "      <td>97</td>\n",
              "      <td>Medium</td>\n",
              "      <td>55</td>\n",
              "      <td>14</td>\n",
              "      <td>Yes</td>\n",
              "      <td>Yes</td>\n",
              "    </tr>\n",
              "    <tr>\n",
              "      <th>4</th>\n",
              "      <td>4.15</td>\n",
              "      <td>141</td>\n",
              "      <td>64</td>\n",
              "      <td>3</td>\n",
              "      <td>340</td>\n",
              "      <td>128</td>\n",
              "      <td>Bad</td>\n",
              "      <td>38</td>\n",
              "      <td>13</td>\n",
              "      <td>Yes</td>\n",
              "      <td>No</td>\n",
              "    </tr>\n",
              "  </tbody>\n",
              "</table>\n",
              "</div>\n",
              "      <button class=\"colab-df-convert\" onclick=\"convertToInteractive('df-fb6575c7-c708-480c-8cb9-d59a824b598a')\"\n",
              "              title=\"Convert this dataframe to an interactive table.\"\n",
              "              style=\"display:none;\">\n",
              "        \n",
              "  <svg xmlns=\"http://www.w3.org/2000/svg\" height=\"24px\"viewBox=\"0 0 24 24\"\n",
              "       width=\"24px\">\n",
              "    <path d=\"M0 0h24v24H0V0z\" fill=\"none\"/>\n",
              "    <path d=\"M18.56 5.44l.94 2.06.94-2.06 2.06-.94-2.06-.94-.94-2.06-.94 2.06-2.06.94zm-11 1L8.5 8.5l.94-2.06 2.06-.94-2.06-.94L8.5 2.5l-.94 2.06-2.06.94zm10 10l.94 2.06.94-2.06 2.06-.94-2.06-.94-.94-2.06-.94 2.06-2.06.94z\"/><path d=\"M17.41 7.96l-1.37-1.37c-.4-.4-.92-.59-1.43-.59-.52 0-1.04.2-1.43.59L10.3 9.45l-7.72 7.72c-.78.78-.78 2.05 0 2.83L4 21.41c.39.39.9.59 1.41.59.51 0 1.02-.2 1.41-.59l7.78-7.78 2.81-2.81c.8-.78.8-2.07 0-2.86zM5.41 20L4 18.59l7.72-7.72 1.47 1.35L5.41 20z\"/>\n",
              "  </svg>\n",
              "      </button>\n",
              "      \n",
              "  <style>\n",
              "    .colab-df-container {\n",
              "      display:flex;\n",
              "      flex-wrap:wrap;\n",
              "      gap: 12px;\n",
              "    }\n",
              "\n",
              "    .colab-df-convert {\n",
              "      background-color: #E8F0FE;\n",
              "      border: none;\n",
              "      border-radius: 50%;\n",
              "      cursor: pointer;\n",
              "      display: none;\n",
              "      fill: #1967D2;\n",
              "      height: 32px;\n",
              "      padding: 0 0 0 0;\n",
              "      width: 32px;\n",
              "    }\n",
              "\n",
              "    .colab-df-convert:hover {\n",
              "      background-color: #E2EBFA;\n",
              "      box-shadow: 0px 1px 2px rgba(60, 64, 67, 0.3), 0px 1px 3px 1px rgba(60, 64, 67, 0.15);\n",
              "      fill: #174EA6;\n",
              "    }\n",
              "\n",
              "    [theme=dark] .colab-df-convert {\n",
              "      background-color: #3B4455;\n",
              "      fill: #D2E3FC;\n",
              "    }\n",
              "\n",
              "    [theme=dark] .colab-df-convert:hover {\n",
              "      background-color: #434B5C;\n",
              "      box-shadow: 0px 1px 3px 1px rgba(0, 0, 0, 0.15);\n",
              "      filter: drop-shadow(0px 1px 2px rgba(0, 0, 0, 0.3));\n",
              "      fill: #FFFFFF;\n",
              "    }\n",
              "  </style>\n",
              "\n",
              "      <script>\n",
              "        const buttonEl =\n",
              "          document.querySelector('#df-fb6575c7-c708-480c-8cb9-d59a824b598a button.colab-df-convert');\n",
              "        buttonEl.style.display =\n",
              "          google.colab.kernel.accessAllowed ? 'block' : 'none';\n",
              "\n",
              "        async function convertToInteractive(key) {\n",
              "          const element = document.querySelector('#df-fb6575c7-c708-480c-8cb9-d59a824b598a');\n",
              "          const dataTable =\n",
              "            await google.colab.kernel.invokeFunction('convertToInteractive',\n",
              "                                                     [key], {});\n",
              "          if (!dataTable) return;\n",
              "\n",
              "          const docLinkHtml = 'Like what you see? Visit the ' +\n",
              "            '<a target=\"_blank\" href=https://colab.research.google.com/notebooks/data_table.ipynb>data table notebook</a>'\n",
              "            + ' to learn more about interactive tables.';\n",
              "          element.innerHTML = '';\n",
              "          dataTable['output_type'] = 'display_data';\n",
              "          await google.colab.output.renderOutput(dataTable, element);\n",
              "          const docLink = document.createElement('div');\n",
              "          docLink.innerHTML = docLinkHtml;\n",
              "          element.appendChild(docLink);\n",
              "        }\n",
              "      </script>\n",
              "    </div>\n",
              "  </div>\n",
              "  "
            ],
            "text/plain": [
              "   Sales  CompPrice  Income  Advertising  ...  Age  Education Urban   US\n",
              "0   9.50        138      73           11  ...   42         17   Yes  Yes\n",
              "1  11.22        111      48           16  ...   65         10   Yes  Yes\n",
              "2  10.06        113      35           10  ...   59         12   Yes  Yes\n",
              "3   7.40        117     100            4  ...   55         14   Yes  Yes\n",
              "4   4.15        141      64            3  ...   38         13   Yes   No\n",
              "\n",
              "[5 rows x 11 columns]"
            ]
          },
          "metadata": {},
          "execution_count": 23
        }
      ]
    },
    {
      "cell_type": "code",
      "metadata": {
        "id": "9aIK3KFEcETA"
      },
      "source": [
        "all_predictors = '+'.join(carseats.columns.drop('Sales')) #ใช้สูตร 'Sales ~' + all_predictors ในการสร้างโมเดล\n",
        "\n",
        "exps = 'Sales ~ ' + all_predictors"
      ],
      "execution_count": null,
      "outputs": []
    },
    {
      "cell_type": "markdown",
      "metadata": {
        "id": "5IVY7tWZ3bqn"
      },
      "source": [
        "### Bad = Intercept + other values\n",
        "### Medium = Intercept + other values + ShelveLoc(Med)*1\n",
        "### Good = Intercept + other values + ShelveLoc(Good)*1"
      ]
    },
    {
      "cell_type": "markdown",
      "metadata": {
        "id": "Wn_B07CWfjOS"
      },
      "source": [
        "###จงสร้าง residual plot และ influence plot แล้วตอบคำถามต่อไปนี้\n",
        "\n",
        "1. สมมติว่าตัวแปรอื่นมีค่าเท่ากัน โดยเฉลี่ยแล้ว ยอดขายของเบาะรถที่วางบนชั้นที่มีคุณภาพปานกลาง (ShelveLoc (Medium)) กับชั้นที่มีคุณภาพต่ำ (ShelveLoc (Bad)) ต่างกันอย่างไร ต่างกันเท่าไหร่ \n",
        "2. สมมติว่าตัวแปรอื่นมีค่าเท่ากัน โดยเฉลี่ยแล้ว ยอดขายของเบาะรถที่วางบนชั้นที่มีคุณภาพดี (ShelveLoc (Good)) กับชั้นที่มีคุณภาพปานกลาง (ShelveLoc (Medium)) ต่างกันอย่างไร ต่างกันเท่าไหร่ \n",
        "3. จงตรวจสอบว่าข้อมูลที่ใช้มีความเหมาะสมกับการสร้าง linear regression หรือไม่ โดยพิจารณาสิ่งต่างๆเหล่านี้พร้อมกับให้เหตุผล  \n",
        "  3.1 Non-linearity  \n",
        "  3.2 Independence of errors  \n",
        "  3.3 Constant variance  \n",
        "  3.4 Outliers  \n",
        "  3.5 Leverage points  \n",
        "  3.6 Multicollinearity\n"
      ]
    },
    {
      "cell_type": "code",
      "source": [
        "# MLR\n",
        "cs_lr = smf.ols(exps, data = carseats).fit()\n",
        "print(cs_lr.summary())"
      ],
      "metadata": {
        "colab": {
          "base_uri": "https://localhost:8080/"
        },
        "id": "q5umuXsMYzUY",
        "outputId": "98894fe4-6453-4cfd-8490-982517f7bd9d"
      },
      "execution_count": null,
      "outputs": [
        {
          "output_type": "stream",
          "name": "stdout",
          "text": [
            "                            OLS Regression Results                            \n",
            "==============================================================================\n",
            "Dep. Variable:                  Sales   R-squared:                       0.873\n",
            "Model:                            OLS   Adj. R-squared:                  0.870\n",
            "Method:                 Least Squares   F-statistic:                     243.4\n",
            "Date:                Mon, 27 Dec 2021   Prob (F-statistic):          1.60e-166\n",
            "Time:                        23:42:15   Log-Likelihood:                -568.99\n",
            "No. Observations:                 400   AIC:                             1162.\n",
            "Df Residuals:                     388   BIC:                             1210.\n",
            "Df Model:                          11                                         \n",
            "Covariance Type:            nonrobust                                         \n",
            "=======================================================================================\n",
            "                          coef    std err          t      P>|t|      [0.025      0.975]\n",
            "---------------------------------------------------------------------------------------\n",
            "Intercept               5.6606      0.603      9.380      0.000       4.474       6.847\n",
            "ShelveLoc[T.Good]       4.8502      0.153     31.678      0.000       4.549       5.151\n",
            "ShelveLoc[T.Medium]     1.9567      0.126     15.516      0.000       1.709       2.205\n",
            "Urban[T.Yes]            0.1229      0.113      1.088      0.277      -0.099       0.345\n",
            "US[T.Yes]              -0.1841      0.150     -1.229      0.220      -0.479       0.111\n",
            "CompPrice               0.0928      0.004     22.378      0.000       0.085       0.101\n",
            "Income                  0.0158      0.002      8.565      0.000       0.012       0.019\n",
            "Advertising             0.1231      0.011     11.066      0.000       0.101       0.145\n",
            "Population              0.0002      0.000      0.561      0.575      -0.001       0.001\n",
            "Price                  -0.0954      0.003    -35.700      0.000      -0.101      -0.090\n",
            "Age                    -0.0460      0.003    -14.472      0.000      -0.052      -0.040\n",
            "Education              -0.0211      0.020     -1.070      0.285      -0.060       0.018\n",
            "==============================================================================\n",
            "Omnibus:                        0.811   Durbin-Watson:                   2.013\n",
            "Prob(Omnibus):                  0.667   Jarque-Bera (JB):                0.765\n",
            "Skew:                           0.107   Prob(JB):                        0.682\n",
            "Kurtosis:                       2.994   Cond. No.                     4.15e+03\n",
            "==============================================================================\n",
            "\n",
            "Warnings:\n",
            "[1] Standard Errors assume that the covariance matrix of the errors is correctly specified.\n",
            "[2] The condition number is large, 4.15e+03. This might indicate that there are\n",
            "strong multicollinearity or other numerical problems.\n"
          ]
        }
      ]
    },
    {
      "cell_type": "code",
      "source": [
        "# residual plot\n",
        "def ResidualPlot(modelfit):\n",
        "    plt.scatter(modelfit.fittedvalues, modelfit.resid,\n",
        "                alpha=0.5, color='#54D1C6')\n",
        "    plt.axhline(y=0, ls=':', c='#000000')\n",
        "    plt.title('Residuals vs Fitted')\n",
        "    plt.xlabel('Fitted values')\n",
        "    plt.ylabel('Residuals')\n",
        "    plt.show()\n",
        "\n",
        "ResidualPlot(cs_lr)"
      ],
      "metadata": {
        "colab": {
          "base_uri": "https://localhost:8080/",
          "height": 295
        },
        "id": "i6qzASeMkDYx",
        "outputId": "54a27f35-3d7f-43a3-f9c4-278635ae31cf"
      },
      "execution_count": null,
      "outputs": [
        {
          "output_type": "display_data",
          "data": {
            "image/png": "[encoded data removed]",
            "text/plain": [
              "<Figure size 432x288 with 1 Axes>"
            ]
          },
          "metadata": {
            "needs_background": "light"
          }
        }
      ]
    },
    {
      "cell_type": "code",
      "source": [
        "# influence plot\n",
        "import statsmodels.graphics.api as smg\n",
        "\n",
        "def LeveragePlot(modelfit, alpha=0.5):\n",
        "    smg.influence_plot(modelfit, size=8)\n",
        "    p = len(modelfit.params) - 1\n",
        "    x = np.linspace(0.01, 0.1, 50)\n",
        "    plt.plot(x, np.sqrt(alpha*p*(1 - x)/x), color='red', linestyle='dashed')\n",
        "    plt.xlim(0,0.1)\n",
        "    plt.xlabel('Leverage')\n",
        "    plt.ylabel('Standardized residuals')\n",
        "    plt.title('Residuals vs Leverage')\n",
        "\n",
        "LeveragePlot(cs_lr)"
      ],
      "metadata": {
        "colab": {
          "base_uri": "https://localhost:8080/",
          "height": 300
        },
        "id": "M_Vs5XSaRoaq",
        "outputId": "e920f75c-cb0a-469f-e900-7f64fb553d4e"
      },
      "execution_count": null,
      "outputs": [
        {
          "output_type": "display_data",
          "data": {
            "image/png": "[encoded data removed]",
            "text/plain": [
              "<Figure size 432x288 with 1 Axes>"
            ]
          },
          "metadata": {
            "needs_background": "light"
          }
        }
      ]
    },
    {
      "cell_type": "code",
      "source": [
        "# Multicollinearity by VIF values\n",
        "from statsmodels.stats.outliers_influence import variance_inflation_factor as vif\n",
        "\n",
        "def MultiCollinearity(modelfit):\n",
        "    exog = modelfit.model.exog\n",
        "    exog_names = modelfit.model.exog_names\n",
        "    df = pd.DataFrame({'VIF': [vif(exog, i) for i in range(1,len(exog_names))]},\n",
        "                      index=exog_names[1:])\n",
        "    return df\n",
        "\n",
        "MultiCollinearity(cs_lr)"
      ],
      "metadata": {
        "colab": {
          "base_uri": "https://localhost:8080/",
          "height": 394
        },
        "id": "VY0cPCVcaDfy",
        "outputId": "a0faad39-b6b1-4aea-c0cd-c92163ed8e33"
      },
      "execution_count": null,
      "outputs": [
        {
          "output_type": "execute_result",
          "data": {
            "text/html": [
              "\n",
              "  <div id=\"df-86b230b2-92e1-49ed-8031-eb23bc587837\">\n",
              "    <div class=\"colab-df-container\">\n",
              "      <div>\n",
              "<style scoped>\n",
              "    .dataframe tbody tr th:only-of-type {\n",
              "        vertical-align: middle;\n",
              "    }\n",
              "\n",
              "    .dataframe tbody tr th {\n",
              "        vertical-align: top;\n",
              "    }\n",
              "\n",
              "    .dataframe thead th {\n",
              "        text-align: right;\n",
              "    }\n",
              "</style>\n",
              "<table border=\"1\" class=\"dataframe\">\n",
              "  <thead>\n",
              "    <tr style=\"text-align: right;\">\n",
              "      <th></th>\n",
              "      <th>VIF</th>\n",
              "    </tr>\n",
              "  </thead>\n",
              "  <tbody>\n",
              "    <tr>\n",
              "      <th>ShelveLoc[T.Good]</th>\n",
              "      <td>1.511411</td>\n",
              "    </tr>\n",
              "    <tr>\n",
              "      <th>ShelveLoc[T.Medium]</th>\n",
              "      <td>1.517882</td>\n",
              "    </tr>\n",
              "    <tr>\n",
              "      <th>Urban[T.Yes]</th>\n",
              "      <td>1.022705</td>\n",
              "    </tr>\n",
              "    <tr>\n",
              "      <th>US[T.Yes]</th>\n",
              "      <td>1.980720</td>\n",
              "    </tr>\n",
              "    <tr>\n",
              "      <th>CompPrice</th>\n",
              "      <td>1.554618</td>\n",
              "    </tr>\n",
              "    <tr>\n",
              "      <th>Income</th>\n",
              "      <td>1.024731</td>\n",
              "    </tr>\n",
              "    <tr>\n",
              "      <th>Advertising</th>\n",
              "      <td>2.103136</td>\n",
              "    </tr>\n",
              "    <tr>\n",
              "      <th>Population</th>\n",
              "      <td>1.145534</td>\n",
              "    </tr>\n",
              "    <tr>\n",
              "      <th>Price</th>\n",
              "      <td>1.537068</td>\n",
              "    </tr>\n",
              "    <tr>\n",
              "      <th>Age</th>\n",
              "      <td>1.021051</td>\n",
              "    </tr>\n",
              "    <tr>\n",
              "      <th>Education</th>\n",
              "      <td>1.026342</td>\n",
              "    </tr>\n",
              "  </tbody>\n",
              "</table>\n",
              "</div>\n",
              "      <button class=\"colab-df-convert\" onclick=\"convertToInteractive('df-86b230b2-92e1-49ed-8031-eb23bc587837')\"\n",
              "              title=\"Convert this dataframe to an interactive table.\"\n",
              "              style=\"display:none;\">\n",
              "        \n",
              "  <svg xmlns=\"http://www.w3.org/2000/svg\" height=\"24px\"viewBox=\"0 0 24 24\"\n",
              "       width=\"24px\">\n",
              "    <path d=\"M0 0h24v24H0V0z\" fill=\"none\"/>\n",
              "    <path d=\"M18.56 5.44l.94 2.06.94-2.06 2.06-.94-2.06-.94-.94-2.06-.94 2.06-2.06.94zm-11 1L8.5 8.5l.94-2.06 2.06-.94-2.06-.94L8.5 2.5l-.94 2.06-2.06.94zm10 10l.94 2.06.94-2.06 2.06-.94-2.06-.94-.94-2.06-.94 2.06-2.06.94z\"/><path d=\"M17.41 7.96l-1.37-1.37c-.4-.4-.92-.59-1.43-.59-.52 0-1.04.2-1.43.59L10.3 9.45l-7.72 7.72c-.78.78-.78 2.05 0 2.83L4 21.41c.39.39.9.59 1.41.59.51 0 1.02-.2 1.41-.59l7.78-7.78 2.81-2.81c.8-.78.8-2.07 0-2.86zM5.41 20L4 18.59l7.72-7.72 1.47 1.35L5.41 20z\"/>\n",
              "  </svg>\n",
              "      </button>\n",
              "      \n",
              "  <style>\n",
              "    .colab-df-container {\n",
              "      display:flex;\n",
              "      flex-wrap:wrap;\n",
              "      gap: 12px;\n",
              "    }\n",
              "\n",
              "    .colab-df-convert {\n",
              "      background-color: #E8F0FE;\n",
              "      border: none;\n",
              "      border-radius: 50%;\n",
              "      cursor: pointer;\n",
              "      display: none;\n",
              "      fill: #1967D2;\n",
              "      height: 32px;\n",
              "      padding: 0 0 0 0;\n",
              "      width: 32px;\n",
              "    }\n",
              "\n",
              "    .colab-df-convert:hover {\n",
              "      background-color: #E2EBFA;\n",
              "      box-shadow: 0px 1px 2px rgba(60, 64, 67, 0.3), 0px 1px 3px 1px rgba(60, 64, 67, 0.15);\n",
              "      fill: #174EA6;\n",
              "    }\n",
              "\n",
              "    [theme=dark] .colab-df-convert {\n",
              "      background-color: #3B4455;\n",
              "      fill: #D2E3FC;\n",
              "    }\n",
              "\n",
              "    [theme=dark] .colab-df-convert:hover {\n",
              "      background-color: #434B5C;\n",
              "      box-shadow: 0px 1px 3px 1px rgba(0, 0, 0, 0.15);\n",
              "      filter: drop-shadow(0px 1px 2px rgba(0, 0, 0, 0.3));\n",
              "      fill: #FFFFFF;\n",
              "    }\n",
              "  </style>\n",
              "\n",
              "      <script>\n",
              "        const buttonEl =\n",
              "          document.querySelector('#df-86b230b2-92e1-49ed-8031-eb23bc587837 button.colab-df-convert');\n",
              "        buttonEl.style.display =\n",
              "          google.colab.kernel.accessAllowed ? 'block' : 'none';\n",
              "\n",
              "        async function convertToInteractive(key) {\n",
              "          const element = document.querySelector('#df-86b230b2-92e1-49ed-8031-eb23bc587837');\n",
              "          const dataTable =\n",
              "            await google.colab.kernel.invokeFunction('convertToInteractive',\n",
              "                                                     [key], {});\n",
              "          if (!dataTable) return;\n",
              "\n",
              "          const docLinkHtml = 'Like what you see? Visit the ' +\n",
              "            '<a target=\"_blank\" href=https://colab.research.google.com/notebooks/data_table.ipynb>data table notebook</a>'\n",
              "            + ' to learn more about interactive tables.';\n",
              "          element.innerHTML = '';\n",
              "          dataTable['output_type'] = 'display_data';\n",
              "          await google.colab.output.renderOutput(dataTable, element);\n",
              "          const docLink = document.createElement('div');\n",
              "          docLink.innerHTML = docLinkHtml;\n",
              "          element.appendChild(docLink);\n",
              "        }\n",
              "      </script>\n",
              "    </div>\n",
              "  </div>\n",
              "  "
            ],
            "text/plain": [
              "                          VIF\n",
              "ShelveLoc[T.Good]    1.511411\n",
              "ShelveLoc[T.Medium]  1.517882\n",
              "Urban[T.Yes]         1.022705\n",
              "US[T.Yes]            1.980720\n",
              "CompPrice            1.554618\n",
              "Income               1.024731\n",
              "Advertising          2.103136\n",
              "Population           1.145534\n",
              "Price                1.537068\n",
              "Age                  1.021051\n",
              "Education            1.026342"
            ]
          },
          "metadata": {},
          "execution_count": 29
        }
      ]
    },
    {
      "cell_type": "markdown",
      "source": [
        "1. สมมติว่าตัวแปรอื่นมีค่าเท่ากัน โดยเฉลี่ยแล้ว ยอดขายของเบาะรถที่วางบนชั้นที่มีคุณภาพปานกลาง (ShelveLoc (Medium)) กับชั้นที่มีคุณภาพต่ำ (ShelveLoc (Bad)) ต่างกันอย่างไร ต่างกันเท่าไหร่ \n",
        "\n",
        "    > เบาะรถที่วางบนชั้นที่มีคุณภาพปานกลาง (ShelveLoc (Medium)) มียอดขายมากกว่าชั้นที่มีคุณภาพต่ำ (ShelveLoc (Bad)) อยู่ 1,956.7 ยูนิต"
      ],
      "metadata": {
        "id": "14MB4RJIR9F4"
      }
    },
    {
      "cell_type": "markdown",
      "source": [
        "2. สมมติว่าตัวแปรอื่นมีค่าเท่ากัน โดยเฉลี่ยแล้ว ยอดขายของเบาะรถที่วางบนชั้นที่มีคุณภาพดี (ShelveLoc (Good)) กับชั้นที่มีคุณภาพปานกลาง (ShelveLoc (Medium)) ต่างกันอย่างไร ต่างกันเท่าไหร่\n",
        "\n",
        "    > เบาะรถที่วางบนชั้นที่มีคุณภาพดี (ShelveLoc (Good)) มียอดขายมากกว่าชั้นที่มีคุณภาพปานกลาง (ShelveLoc (Medium)) อยู่ 2,893.5 ยูนิต"
      ],
      "metadata": {
        "id": "ORYjtJO3SUkG"
      }
    },
    {
      "cell_type": "markdown",
      "source": [
        "3. จงตรวจสอบว่าข้อมูลที่ใช้มีความเหมาะสมกับการสร้าง linear regression หรือไม่ โดยพิจารณาสิ่งต่างๆเหล่านี้พร้อมกับให้เหตุผล\n",
        "\n",
        "    3.1 Non-linearity\n",
        "\n",
        "    > จากกราฟ Residuals vs Fitted พบว่า ข้อมูลมีลักษณะเป็นเชิงเส้น เนื่องจาก residual มีลักษณะสุ่ม (ไม่สามารถพิจารณารูปแบบได้)\n",
        "    \n",
        "    3.2 Independence of errors\n",
        "\n",
        "    > พิจารณาจากสถิติทดสอบ Durbin-Watson <br>\n",
        "    H0: ρ = 0 <br>\n",
        "H1: ρ ≠ 0<br><br>\n",
        "พิจารณาที่ α = 0.05, n = 400, และ k = 11 ได้ dL = 1.780 และ dU = 1.893 <br><br>\n",
        "จากตารางสรุปผลพบว่า สถิติทบสอบมีค่า 2.013 > 1.893 จึง Accept H0 นั่นคือ ความคลาดเคลื่อนเป็นอิสระกัน ที่ระดับนัยสำคัญ 0.05\n",
        "    \n",
        "    3.3 Constant variance\n",
        "\n",
        "    > จากกราฟ Residuals vs Fitted พบว่า ความแปรปรวนมีค่าคงที่ เนื่องจาก residual มีการกระจายแบบสุ่ม\n",
        "    \n",
        "    3.4 Outliers  \n",
        "    \n",
        "    > จากกราฟ Residuals vs Leverage พบว่า ข้อมูลชุดนี้ไม่มี outlier\n",
        "\n",
        "    3.5 Leverage points  \n",
        "    \n",
        "    > จากกราฟ Residuals vs Leverage พบว่า ข้อมูลชุดนี้ไม่มี leverage point\n",
        "\n",
        "    3.6 Multicollinearity\n",
        "\n",
        "    > จากตาราง VIF สรุปได้ว่าข้อมูลเกิดปัญหา multicollinearity เนื่องจาก VIF ของทุกตัวแปรมีค่าน้อยกว่า 10\n",
        "\n",
        "        ดังนั้น ข้อมูลชุดนี้เหมาะสมต่อการสร้างตัวแบบด้วยวิธี Linear regression"
      ],
      "metadata": {
        "id": "FNDK0KjcSndj"
      }
    }
  ]
}